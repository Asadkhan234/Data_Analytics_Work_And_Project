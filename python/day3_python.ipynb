{
 "cells": [
  {
   "cell_type": "markdown",
   "id": "86f50958-243a-4b95-85e4-af69dc11acae",
   "metadata": {},
   "source": [
    "# Loops:\n",
    "- For Loop\n",
    "- While loop\n",
    "- While True\n",
    "- Nested  Loop"
   ]
  },
  {
   "cell_type": "markdown",
   "id": "c81130fa-314c-4657-b874-39aa4e4ad473",
   "metadata": {},
   "source": [
    "# For Loop :"
   ]
  },
  {
   "cell_type": "code",
   "execution_count": 32,
   "id": "1bb7fcb1-f0f9-4d16-8640-caa5102b94b3",
   "metadata": {},
   "outputs": [
    {
     "name": "stdout",
     "output_type": "stream",
     "text": [
      "1\n",
      "2\n",
      "3\n",
      "4\n"
     ]
    },
    {
     "name": "stdin",
     "output_type": "stream",
     "text": [
      "Enter Your Number :  1\n"
     ]
    },
    {
     "name": "stdout",
     "output_type": "stream",
     "text": [
      "1 x 1 = 1\n",
      "1 x 2 = 2\n",
      "1 x 3 = 3\n",
      "1 x 4 = 4\n",
      "1 x 5 = 5\n",
      "1 x 6 = 6\n",
      "1 x 7 = 7\n",
      "1 x 8 = 8\n",
      "1 x 9 = 9\n",
      "1 x 10 = 10\n",
      "0\n",
      "2\n",
      "4\n",
      "6\n",
      "8\n",
      "10\n"
     ]
    }
   ],
   "source": [
    "for i in range(1,5):\n",
    "    print(i)\n",
    "\n",
    "n = int(input('Enter Your Number : '))\n",
    "for i in range(1,11):\n",
    "    print(f'{n} x {i} = {n*i}')\n"
   ]
  },
  {
   "cell_type": "code",
   "execution_count": 40,
   "id": "a79446d1-6a00-45d2-bcbc-9c55b214c4db",
   "metadata": {},
   "outputs": [
    {
     "name": "stdout",
     "output_type": "stream",
     "text": [
      "0\n",
      "2\n",
      "4\n",
      "6\n",
      "8\n",
      "10\n"
     ]
    }
   ],
   "source": [
    "for i in range(0,11,2):\n",
    "    print(i)"
   ]
  },
  {
   "cell_type": "code",
   "execution_count": 42,
   "id": "d36374a7-b62c-4b7e-8f49-1b5eda178584",
   "metadata": {},
   "outputs": [
    {
     "name": "stdout",
     "output_type": "stream",
     "text": [
      "1\n",
      "4\n",
      "7\n",
      "10\n"
     ]
    }
   ],
   "source": [
    "for i in range(1,11,3):\n",
    "    print(i)"
   ]
  },
  {
   "cell_type": "markdown",
   "id": "7afd2ea1-87b9-495a-a696-713e28eb30a8",
   "metadata": {},
   "source": [
    "# While loop:"
   ]
  },
  {
   "cell_type": "code",
   "execution_count": 13,
   "id": "3460a480-1055-4a6a-afee-bd29384a7324",
   "metadata": {},
   "outputs": [
    {
     "name": "stdout",
     "output_type": "stream",
     "text": [
      "0\n",
      "2\n",
      "4\n"
     ]
    }
   ],
   "source": [
    "n = 0\n",
    "while n<=5:\n",
    "    print(n)\n",
    "    n+=2"
   ]
  },
  {
   "cell_type": "code",
   "execution_count": 7,
   "id": "3d1e5dcb-a868-454f-8632-da92766fd014",
   "metadata": {},
   "outputs": [
    {
     "name": "stdout",
     "output_type": "stream",
     "text": [
      "1\n",
      "6\n",
      "11\n",
      "16\n"
     ]
    }
   ],
   "source": [
    "i = 1\n",
    "while i<=20:\n",
    "    print(i)\n",
    "    i+=5"
   ]
  },
  {
   "cell_type": "code",
   "execution_count": 3,
   "id": "695468fd-c4d4-4fe4-b674-4dd70d225cda",
   "metadata": {},
   "outputs": [
    {
     "name": "stdin",
     "output_type": "stream",
     "text": [
      "Enter Number :  10\n"
     ]
    },
    {
     "name": "stdout",
     "output_type": "stream",
     "text": [
      "10 X 1 = 10\n",
      "10 X 2 = 20\n",
      "10 X 3 = 30\n",
      "10 X 4 = 40\n",
      "10 X 5 = 50\n",
      "10 X 6 = 60\n",
      "10 X 7 = 70\n",
      "10 X 8 = 80\n",
      "10 X 9 = 90\n",
      "10 X 10 = 100\n"
     ]
    }
   ],
   "source": [
    "n = int(input('Enter Number : '))\n",
    "i = 1\n",
    "\n",
    "while i<=10:\n",
    "    print(f'{n} X {i} = {n*i}')\n",
    "    i+=1"
   ]
  },
  {
   "cell_type": "code",
   "execution_count": 41,
   "id": "e6f8b1e7-83f9-4413-9e04-45e77ed4fa47",
   "metadata": {},
   "outputs": [
    {
     "name": "stdout",
     "output_type": "stream",
     "text": [
      "['Asad', 'Saad', 'zaid', 'Sami']\n"
     ]
    }
   ],
   "source": [
    "n = ['Asad','Saad','zaid','Sami']\n",
    "i = len(n)\n",
    "while i<=4:\n",
    "    print(n)\n",
    "    i+=1"
   ]
  },
  {
   "cell_type": "code",
   "execution_count": 43,
   "id": "14d49786-0cfa-4f48-b50c-4940d9bd6261",
   "metadata": {},
   "outputs": [],
   "source": [
    "# While True:"
   ]
  },
  {
   "cell_type": "code",
   "execution_count": null,
   "id": "18c5ccb7-7237-410e-9b37-8f2aacfe8756",
   "metadata": {},
   "outputs": [
    {
     "name": "stdout",
     "output_type": "stream",
     "text": [
      "0\n",
      "1\n",
      "2\n",
      "3\n",
      "4\n",
      "5\n",
      "6\n",
      "7\n",
      "8\n",
      "9\n",
      "10\n"
     ]
    }
   ],
   "source": [
    "n = 0\n",
    "while True:\n",
    "    if n<=10:\n",
    "        print(n)\n",
    "        n+=1"
   ]
  },
  {
   "cell_type": "code",
   "execution_count": 5,
   "id": "497c6f12-7913-43f4-b49d-7caecbc71f9a",
   "metadata": {},
   "outputs": [
    {
     "name": "stdin",
     "output_type": "stream",
     "text": [
      "Num 1 10\n",
      "Num 2 23\n"
     ]
    },
    {
     "name": "stdout",
     "output_type": "stream",
     "text": [
      "33\n"
     ]
    },
    {
     "name": "stdin",
     "output_type": "stream",
     "text": [
      "Do Want To repea:  yes\n"
     ]
    }
   ],
   "source": [
    "while True:\n",
    "    num1 = int(input('Num 1'))\n",
    "    num2 = int(input('Num 2'))\n",
    "    print(num1+num2)\n",
    "    repeat = input('Do Want To repea: ')\n",
    "    if repeat == 'yes':\n",
    "        break"
   ]
  },
  {
   "cell_type": "markdown",
   "id": "e28501ba-fc29-42d0-b759-745527a855fd",
   "metadata": {},
   "source": [
    "# Nested Loop :"
   ]
  },
  {
   "cell_type": "code",
   "execution_count": 14,
   "id": "6d77d6e4-e8e9-43ce-9c57-c5de30dff6be",
   "metadata": {},
   "outputs": [
    {
     "name": "stdout",
     "output_type": "stream",
     "text": [
      "12345678910\n",
      "12345678910\n",
      "12345678910\n",
      "12345678910\n"
     ]
    }
   ],
   "source": [
    "for i in range(1,5):\n",
    "    for j in range(1,11):\n",
    "        print(j,end = '')\n",
    "    print()    "
   ]
  },
  {
   "cell_type": "code",
   "execution_count": 18,
   "id": "826aa085-c480-452e-9f3a-a208b85a121f",
   "metadata": {},
   "outputs": [
    {
     "name": "stdout",
     "output_type": "stream",
     "text": [
      "1\n",
      "12\n",
      "123\n",
      "1234\n",
      "12345\n"
     ]
    }
   ],
   "source": [
    "for i in range(1,6):\n",
    "    for j in range(1,i+1):\n",
    "        print(j,end='')\n",
    "    print()    "
   ]
  },
  {
   "cell_type": "code",
   "execution_count": 32,
   "id": "ddec609d-d9df-4322-8970-45c8e82ff0e7",
   "metadata": {},
   "outputs": [
    {
     "name": "stdout",
     "output_type": "stream",
     "text": [
      "1\n",
      "123\n",
      "12345\n",
      "1234567\n",
      "123456789\n"
     ]
    }
   ],
   "source": [
    "for i in range(1,10,2):\n",
    "    for j in range(1,i+1):\n",
    "        print(j,end='')\n",
    "    print()    "
   ]
  },
  {
   "cell_type": "markdown",
   "id": "c9baa27e-5964-46b1-a7da-1fac1f3e0cb8",
   "metadata": {},
   "source": [
    "# Loops with If Else:"
   ]
  },
  {
   "cell_type": "code",
   "execution_count": 54,
   "id": "3d90d4be-f660-44fa-b987-1f0084865533",
   "metadata": {},
   "outputs": [
    {
     "name": "stdout",
     "output_type": "stream",
     "text": [
      "1\n",
      "2\n",
      "You Are The Best.\n",
      "4\n",
      "5\n",
      "6\n",
      "7\n",
      "8\n",
      "9\n",
      "10\n"
     ]
    }
   ],
   "source": [
    "for i in range(1,11):\n",
    "    if i == 3:\n",
    "        #continue\n",
    "        print('You Are The Best.')\n",
    "    else:\n",
    "        print(i)"
   ]
  },
  {
   "cell_type": "code",
   "execution_count": 64,
   "id": "e77392e8-7820-4440-92c9-7ae5ec87222c",
   "metadata": {},
   "outputs": [
    {
     "name": "stdout",
     "output_type": "stream",
     "text": [
      "21\n",
      "42\n"
     ]
    }
   ],
   "source": [
    "for i in range(1,50):\n",
    "    if i%3==0 and i%7==0:\n",
    "        print(i)"
   ]
  },
  {
   "cell_type": "code",
   "execution_count": 88,
   "id": "7b286bb1-0afe-4914-8f34-219b9cf5ed27",
   "metadata": {},
   "outputs": [
    {
     "name": "stdout",
     "output_type": "stream",
     "text": [
      "1\n",
      "2\n",
      "4\n",
      "5\n",
      "6\n",
      "7\n",
      "8\n",
      "9\n",
      "10\n"
     ]
    }
   ],
   "source": [
    "for i in range(1,11):\n",
    "    if i == 3:\n",
    "        continue\n",
    "    else:\n",
    "        print(i)"
   ]
  },
  {
   "cell_type": "code",
   "execution_count": 90,
   "id": "73f7ec8e-fdf6-472f-87e9-fcfeec94b776",
   "metadata": {},
   "outputs": [
    {
     "name": "stdout",
     "output_type": "stream",
     "text": [
      "1\n",
      "2\n"
     ]
    }
   ],
   "source": [
    "for i in range(1,11):\n",
    "    if i == 3:\n",
    "        break\n",
    "    else:\n",
    "        print(i)"
   ]
  },
  {
   "cell_type": "code",
   "execution_count": 104,
   "id": "9a3032de-d141-454b-b9d7-221599110fd0",
   "metadata": {},
   "outputs": [
    {
     "name": "stdout",
     "output_type": "stream",
     "text": [
      "650\n"
     ]
    }
   ],
   "source": [
    "s = 0\n",
    "for i in range(1,51):\n",
    "    if i%2==0:\n",
    "        #print(i)\n",
    "        s+=i\n",
    "\n",
    "print(s)\n"
   ]
  },
  {
   "cell_type": "code",
   "execution_count": 106,
   "id": "3ae85e0f-18fa-4772-8c87-b00a443ede0a",
   "metadata": {},
   "outputs": [
    {
     "name": "stdout",
     "output_type": "stream",
     "text": [
      "1\n",
      "4\n",
      "9\n",
      "16\n",
      "25\n",
      "36\n",
      "49\n",
      "64\n",
      "81\n",
      "100\n",
      "121\n",
      "144\n",
      "169\n",
      "196\n",
      "225\n",
      "256\n",
      "289\n",
      "324\n",
      "361\n",
      "400\n"
     ]
    }
   ],
   "source": [
    "for i in range(1,21):\n",
    "    s = i**2\n",
    "    print(s)"
   ]
  },
  {
   "cell_type": "code",
   "execution_count": 11,
   "id": "f8a9af41-fd86-43f6-ae7a-ae6c39a6e2ea",
   "metadata": {},
   "outputs": [
    {
     "name": "stdout",
     "output_type": "stream",
     "text": [
      "1\n",
      "3\n",
      "5\n",
      "7\n",
      "9\n",
      "11\n",
      "13\n",
      "15\n",
      "17\n",
      "19\n",
      "Sum of odd numbers: 100\n"
     ]
    }
   ],
   "source": [
    "n = 0\n",
    "sum = 0\n",
    "while n <= 20:\n",
    "    if n % 2 == 1:\n",
    "        print(n)\n",
    "        sum += n\n",
    "    n += 1  # Always increment n (outside the if block)\n",
    "\n",
    "print(\"Sum of odd numbers:\", sum)\n"
   ]
  },
  {
   "cell_type": "code",
   "execution_count": 13,
   "id": "186faf2d-6b75-41f5-98fd-fd44c8f2c7c9",
   "metadata": {},
   "outputs": [
    {
     "name": "stdout",
     "output_type": "stream",
     "text": [
      "24\n",
      "48\n",
      "72\n",
      "96\n"
     ]
    }
   ],
   "source": [
    "for i in range(1,101):\n",
    "    if i % 8 ==0 and i % 12 == 0:\n",
    "        print(i)"
   ]
  },
  {
   "cell_type": "code",
   "execution_count": 21,
   "id": "b147c042-b0c3-49e8-8342-956a81dab0e2",
   "metadata": {},
   "outputs": [
    {
     "name": "stdin",
     "output_type": "stream",
     "text": [
      "Enter Your Name:  Asad\n"
     ]
    },
    {
     "name": "stdout",
     "output_type": "stream",
     "text": [
      "Enter Your Amount And Quantity:\n"
     ]
    },
    {
     "name": "stdin",
     "output_type": "stream",
     "text": [
      "Enter Your Amount:  100\n",
      "Enter Your Quantity:  2\n",
      "Do You Want To Buy Something More? (Yes/No):  yes\n"
     ]
    },
    {
     "name": "stdout",
     "output_type": "stream",
     "text": [
      "Enter Your Amount And Quantity:\n"
     ]
    },
    {
     "name": "stdin",
     "output_type": "stream",
     "text": [
      "Enter Your Amount:  200\n",
      "Enter Your Quantity:  1\n",
      "Do You Want To Buy Something More? (Yes/No):  no\n"
     ]
    },
    {
     "name": "stdout",
     "output_type": "stream",
     "text": [
      "----------------------------------------\n",
      "Your Name Is: Asad\n",
      "Your Total Amount Is: 400\n",
      "----------------------------------------\n"
     ]
    },
    {
     "name": "stdin",
     "output_type": "stream",
     "text": [
      "Do You Want To Go To Another Customer? (Yes/No):  no\n"
     ]
    }
   ],
   "source": [
    "while True:\n",
    "    name = input('Enter Your Name: ')\n",
    "    total = 0\n",
    "\n",
    "    while True:\n",
    "        print('Enter Your Amount And Quantity:')\n",
    "        amount = int(input('Enter Your Amount: '))\n",
    "        quantity = int(input('Enter Your Quantity: '))\n",
    "        total += amount * quantity\n",
    "\n",
    "        repeat = input('Do You Want To Buy Something More? (Yes/No): ').lower()\n",
    "        if repeat == 'no':\n",
    "            break\n",
    "\n",
    "    print('-' * 40)\n",
    "    print('Your Name Is:', name)\n",
    "    print('Your Total Amount Is:', total)\n",
    "    print('-' * 40)\n",
    "\n",
    "    repeat1 = input('Do You Want To Go To Another Customer? (Yes/No): ').lower()\n",
    "    if repeat1 == 'no':\n",
    "        break\n"
   ]
  },
  {
   "cell_type": "markdown",
   "id": "564abdcd-f0ec-4253-920a-da9fdb870a4c",
   "metadata": {
    "jp-MarkdownHeadingCollapsed": true
   },
   "source": [
    "# Problem For String :"
   ]
  },
  {
   "cell_type": "code",
   "execution_count": 42,
   "id": "c618119e-7717-483e-90eb-644fe7b9e7b9",
   "metadata": {},
   "outputs": [
    {
     "name": "stdout",
     "output_type": "stream",
     "text": [
      "42\n",
      "17\n",
      "why fit in,when you are born to stand out!\n",
      "WHY FIT IN,WHEN YOU ARE BORN TO STAND OUT!\n",
      "Why Fit In,When You Are Born To Stand Out!\n",
      "4\n"
     ]
    }
   ],
   "source": [
    "A = 'Why fit in,When you are Born to Stand Out!'\n",
    "print(len(A))\n",
    "print(A.find('o'))\n",
    "print(A.lower())\n",
    "print(A.upper())\n",
    "print(A.title())\n",
    "print(A.index('fit in'))"
   ]
  },
  {
   "cell_type": "markdown",
   "id": "e9e1dd59-ffb9-4a1c-afed-8dd332fcc2d7",
   "metadata": {},
   "source": [
    "# Pattern Problem Solving:"
   ]
  },
  {
   "cell_type": "code",
   "execution_count": 10,
   "id": "7a29405a-69e1-41a5-bdcb-222a9cae8b64",
   "metadata": {},
   "outputs": [
    {
     "name": "stdout",
     "output_type": "stream",
     "text": [
      "1 \n",
      "1 2 \n",
      "1 2 3 \n",
      "1 2 3 4 \n",
      "1 2 3 4 5 \n"
     ]
    }
   ],
   "source": [
    "for i in range(1,6):\n",
    "    for j in range(1,i+1):\n",
    "        print(j,end=' ')\n",
    "    print()"
   ]
  },
  {
   "cell_type": "code",
   "execution_count": 12,
   "id": "063cb928-ee42-4d56-8b0e-f5335f34453c",
   "metadata": {},
   "outputs": [
    {
     "name": "stdout",
     "output_type": "stream",
     "text": [
      "1 \n",
      "2 2 \n",
      "3 3 3 \n",
      "4 4 4 4 \n",
      "5 5 5 5 5 \n"
     ]
    }
   ],
   "source": [
    "for i in range(1,6):\n",
    "    for j in range(1,i+1):\n",
    "        print(i,end=' ')\n",
    "    print()"
   ]
  },
  {
   "cell_type": "code",
   "execution_count": 38,
   "id": "42b586ef-168c-4121-9caa-3677e316d14d",
   "metadata": {},
   "outputs": [
    {
     "name": "stdout",
     "output_type": "stream",
     "text": [
      "6 5 4 3 2 \n",
      "6 5 4 3 \n",
      "6 5 4 \n",
      "6 5 \n",
      "6 \n"
     ]
    }
   ],
   "source": [
    "for i in range(1,6):\n",
    "    for j in range(6,i,-1):\n",
    "        print(j,end=' ')\n",
    "    print()"
   ]
  },
  {
   "cell_type": "code",
   "execution_count": 42,
   "id": "3309db3d-28de-4d84-a097-4bd972b13bfe",
   "metadata": {},
   "outputs": [
    {
     "name": "stdout",
     "output_type": "stream",
     "text": [
      "\n",
      "1\n",
      "12\n",
      "123\n",
      "1234\n",
      "12345\n"
     ]
    }
   ],
   "source": [
    "for i in range(6):\n",
    "    for j in range(1,i+1):\n",
    "        print(j,end='')\n",
    "    print()"
   ]
  },
  {
   "cell_type": "code",
   "execution_count": 308,
   "id": "7543e89d-3472-40b6-8263-d08e5014cb8c",
   "metadata": {},
   "outputs": [
    {
     "name": "stdout",
     "output_type": "stream",
     "text": [
      "5 4 3 2 1 \n",
      "4 3 2 1 \n",
      "3 2 1 \n",
      "2 1 \n",
      "1 \n"
     ]
    }
   ],
   "source": [
    "for i in range(5,0,-1):\n",
    "    for j in range(i,0,-1):\n",
    "        print(j,end=' ')\n",
    "    print()    "
   ]
  },
  {
   "cell_type": "code",
   "execution_count": 316,
   "id": "f420a9c1-29fd-4562-b22d-3cfbc1d173df",
   "metadata": {},
   "outputs": [
    {
     "name": "stdout",
     "output_type": "stream",
     "text": [
      "\n",
      "* \n",
      "* * \n",
      "* * * \n",
      "* * * * \n",
      "* * * * * \n",
      "* * * * \n",
      "* * * \n",
      "* * \n",
      "* \n",
      "\n",
      "\n"
     ]
    }
   ],
   "source": [
    "for i in range(6):\n",
    "    for j in range(1,i+1):\n",
    "        print('*',end=' ')\n",
    "    print()\n",
    "for i in range(6,0,-1):\n",
    "    for j in range(1,i-1):\n",
    "        print('*',end=' ')\n",
    "    print()    "
   ]
  },
  {
   "cell_type": "code",
   "execution_count": 320,
   "id": "9617935a-1dca-4b83-b0d1-db92c4c201ae",
   "metadata": {},
   "outputs": [
    {
     "name": "stdout",
     "output_type": "stream",
     "text": [
      "1 \n",
      "2 4 \n",
      "3 6 9 \n",
      "4 8 12 16 \n",
      "5 10 15 20 25 \n",
      "6 12 18 24 30 36 \n",
      "7 14 21 28 35 42 49 \n",
      "8 16 24 32 40 48 56 64 \n",
      "9 18 27 36 45 54 63 72 81 \n",
      "10 20 30 40 50 60 70 80 90 100 \n"
     ]
    }
   ],
   "source": [
    "for i in range(1,11):\n",
    "    for j in range(1,i+1):\n",
    "        print(i*j,end=' ')\n",
    "    print()    "
   ]
  },
  {
   "cell_type": "code",
   "execution_count": 326,
   "id": "d7dcad30-710b-4078-b069-9a37b2d9dbfc",
   "metadata": {},
   "outputs": [
    {
     "name": "stdout",
     "output_type": "stream",
     "text": [
      "10 20 30 40 50 60 70 80 90 100 \n",
      "9 18 27 36 45 54 63 72 81 \n",
      "8 16 24 32 40 48 56 64 \n",
      "7 14 21 28 35 42 49 \n",
      "6 12 18 24 30 36 \n",
      "5 10 15 20 25 \n",
      "4 8 12 16 \n",
      "3 6 9 \n",
      "2 4 \n",
      "1 \n"
     ]
    }
   ],
   "source": [
    "for i in range(10,0,-1):\n",
    "    for j in range(1,i+1):\n",
    "        print(i*j,end=' ')\n",
    "    print()    "
   ]
  },
  {
   "cell_type": "code",
   "execution_count": 330,
   "id": "598fc88a-4007-4d6b-930f-9f8d6dcd3790",
   "metadata": {},
   "outputs": [
    {
     "name": "stdout",
     "output_type": "stream",
     "text": [
      "1 \n",
      "2 4 \n",
      "3 6 9 \n",
      "4 8 12 16 \n",
      "5 10 15 20 25 \n",
      "6 12 18 24 30 36 \n",
      "7 14 21 28 35 42 49 \n",
      "8 16 24 32 40 48 56 64 \n",
      "9 18 27 36 45 54 63 72 81 \n",
      "10 20 30 40 50 60 70 80 90 100 \n",
      "9 18 27 36 45 54 63 72 81 \n",
      "8 16 24 32 40 48 56 64 \n",
      "7 14 21 28 35 42 49 \n",
      "6 12 18 24 30 36 \n",
      "5 10 15 20 25 \n",
      "4 8 12 16 \n",
      "3 6 9 \n",
      "2 4 \n",
      "1 \n"
     ]
    }
   ],
   "source": [
    "for i in range(1,10):\n",
    "    for j in range(1,i+1):\n",
    "        print(i*j,end=' ')\n",
    "    print()    \n",
    "\n",
    "for i in range(10,0,-1):\n",
    "    for j in range(1,i+1):\n",
    "        print(i*j,end=' ')\n",
    "    print()    "
   ]
  },
  {
   "cell_type": "markdown",
   "id": "b76c031b-93fd-4332-bf9b-58694d558515",
   "metadata": {},
   "source": [
    "# String Manipulation :"
   ]
  },
  {
   "cell_type": "code",
   "execution_count": 333,
   "id": "8bb6120e-8bc8-4802-82df-26dc0da08bdb",
   "metadata": {},
   "outputs": [],
   "source": [
    "a = 'Every thing is temporary except Allah'"
   ]
  },
  {
   "cell_type": "code",
   "execution_count": 339,
   "id": "90d1b5dd-5f2d-4269-914f-23c802e03e7e",
   "metadata": {},
   "outputs": [
    {
     "name": "stdout",
     "output_type": "stream",
     "text": [
      "Every thing is temporary except Allah\n"
     ]
    }
   ],
   "source": [
    "print(a)"
   ]
  },
  {
   "cell_type": "code",
   "execution_count": 341,
   "id": "beda32b2-2a1a-4863-98d9-86fb6afc4d0e",
   "metadata": {},
   "outputs": [
    {
     "name": "stdout",
     "output_type": "stream",
     "text": [
      "37\n"
     ]
    }
   ],
   "source": [
    "print(len(a)) # To Find The Length."
   ]
  },
  {
   "cell_type": "code",
   "execution_count": 343,
   "id": "21a52eb1-5d6f-4f4c-afe9-f9d641d0e771",
   "metadata": {},
   "outputs": [
    {
     "name": "stdout",
     "output_type": "stream",
     "text": [
      "4\n"
     ]
    }
   ],
   "source": [
    "print(a.count('e')) # To Count The Indivisual charecter in a sentence."
   ]
  },
  {
   "cell_type": "code",
   "execution_count": 353,
   "id": "f7f3eba0-2570-4723-b1d7-75c3b96b3347",
   "metadata": {},
   "outputs": [
    {
     "name": "stdout",
     "output_type": "stream",
     "text": [
      "32\n"
     ]
    }
   ],
   "source": [
    "print(a.index('A')) # To Find The Index Number ."
   ]
  },
  {
   "cell_type": "code",
   "execution_count": 355,
   "id": "eebc77dd-165d-4deb-8924-987a55ae1666",
   "metadata": {},
   "outputs": [
    {
     "name": "stdout",
     "output_type": "stream",
     "text": [
      "EVERY THING IS TEMPORARY EXCEPT ALLAH\n"
     ]
    }
   ],
   "source": [
    "print(a.upper()) # To Make All The Letters Upper"
   ]
  },
  {
   "cell_type": "code",
   "execution_count": 357,
   "id": "e0d72236-da17-40e1-ae8f-80cd862567b6",
   "metadata": {},
   "outputs": [
    {
     "name": "stdout",
     "output_type": "stream",
     "text": [
      "every thing is temporary except allah\n"
     ]
    }
   ],
   "source": [
    "print(a.lower()) #To Make All The Letterss Lower."
   ]
  },
  {
   "cell_type": "code",
   "execution_count": 363,
   "id": "5f8eee50-f568-4f59-b212-b03115a0d66d",
   "metadata": {},
   "outputs": [
    {
     "name": "stdout",
     "output_type": "stream",
     "text": [
      "32\n"
     ]
    }
   ],
   "source": [
    "print(a.find('Allah')) # It Can Return You The First Latter Index."
   ]
  },
  {
   "cell_type": "code",
   "execution_count": 365,
   "id": "15f1aabc-2f90-4f7f-a2ca-a9f5ef3d1e64",
   "metadata": {},
   "outputs": [
    {
     "name": "stdout",
     "output_type": "stream",
     "text": [
      "Every thing is temporary except allah\n"
     ]
    }
   ],
   "source": [
    "print(a.capitalize())"
   ]
  },
  {
   "cell_type": "code",
   "execution_count": 397,
   "id": "9501222f-eea0-458b-aa88-90e38366595f",
   "metadata": {},
   "outputs": [
    {
     "name": "stdout",
     "output_type": "stream",
     "text": [
      "My Name Is Asad\n"
     ]
    }
   ],
   "source": [
    "name =  'Asad'\n",
    "b = 'My Name Is {}'\n",
    "print(b.format(name))"
   ]
  },
  {
   "cell_type": "code",
   "execution_count": 413,
   "id": "93515644-8dd0-494b-bc5a-b1cd937a582d",
   "metadata": {},
   "outputs": [
    {
     "name": "stdout",
     "output_type": "stream",
     "text": [
      "*******************************Every thing is temporary except Allah********************************\n"
     ]
    }
   ],
   "source": [
    "print(a.center(100,'*')) # Used to center the stings ."
   ]
  },
  {
   "cell_type": "markdown",
   "id": "8759af6b-fbc6-4b87-84b8-4e4b3ad6a4fc",
   "metadata": {},
   "source": [
    "# More Methods of Strings:"
   ]
  },
  {
   "cell_type": "code",
   "execution_count": 491,
   "id": "1b2a06f1-8fa2-479c-8dd0-6f1597dc59d4",
   "metadata": {},
   "outputs": [],
   "source": [
    "a  = 'hellow'\n",
    "b = '123Hellow'\n",
    "c = '123456'\n",
    "d = 'HELLOW'\n",
    "e = ' '\n",
    "f = 'Hellow 123'\n",
    "g = '1.234'\n"
   ]
  },
  {
   "cell_type": "code",
   "execution_count": 428,
   "id": "4c661174-86f6-48e6-ab58-7ae24ca1da84",
   "metadata": {},
   "outputs": [
    {
     "name": "stdout",
     "output_type": "stream",
     "text": [
      "hellow True\n",
      "123Hellow True\n",
      "123456 True\n",
      " False\n",
      "Hellow 123 False\n",
      "1.234 False\n"
     ]
    }
   ],
   "source": [
    "# isalnum() : It checks the alphabets and numerics in the sentence etc. return True . \n",
    "# Not works on empty str ' ' and \n",
    "print(a,a.isalnum())\n",
    "print(b,b.isalnum())\n",
    "print(c,c.isalnum())\n",
    "print(e,e.isalnum())\n",
    "print(f,f.isalnum())\n",
    "print(g,g.isalnum())"
   ]
  },
  {
   "cell_type": "code",
   "execution_count": 444,
   "id": "3c517a4e-ed2a-4303-9f36-844342b93fc3",
   "metadata": {},
   "outputs": [
    {
     "name": "stdout",
     "output_type": "stream",
     "text": [
      "hellow True\n",
      "123Hellow False\n",
      "123456 False\n",
      "HELLOW True\n",
      " False\n",
      "Hellow 123 False\n",
      "1.234 False\n"
     ]
    }
   ],
   "source": [
    "# isalpha() : It checks the alphabets only in the sentence etc. then return True . \n",
    "print(a,a.isalpha())\n",
    "print(b,b.isalpha())\n",
    "print(c,c.isalpha())\n",
    "print(d,d.isalpha())\n",
    "print(e,e.isalpha())\n",
    "print(f,f.isalpha())\n",
    "print(g,g.isalpha())"
   ]
  },
  {
   "cell_type": "code",
   "execution_count": 458,
   "id": "36f65e7b-3420-4588-8761-ae47f514c94f",
   "metadata": {},
   "outputs": [
    {
     "name": "stdout",
     "output_type": "stream",
     "text": [
      "hellow False\n",
      "123Hellow False\n",
      "123456 True\n",
      "HELLOW False\n",
      "Hellow 123 False\n",
      "1.234 False\n"
     ]
    }
   ],
   "source": [
    "# isdecimal() : It checks the numbers only in the sentence etc. then return True . \n",
    "print(a,a.isdecimal())\n",
    "print(b,b.isdecimal())\n",
    "print(c,c.isdecimal())\n",
    "print(d,d.isdecimal())\n",
    "print(f,f.isdecimal())\n",
    "print(g,g.isdecimal())"
   ]
  },
  {
   "cell_type": "code",
   "execution_count": 470,
   "id": "4f9d346d-3cfd-4a77-b9ea-dd6ebe4b7bf1",
   "metadata": {},
   "outputs": [
    {
     "name": "stdout",
     "output_type": "stream",
     "text": [
      "hellow False\n",
      "123Hellow False\n",
      "123456 True\n",
      "Hellow 123 False\n",
      "1.234 False\n"
     ]
    }
   ],
   "source": [
    "# isdigit() : It checks the numbers only in the sentence etc. then return True . \n",
    "print(a,a.isdigit())\n",
    "print(b,b.isdigit())\n",
    "print(c,c.isdigit())\n",
    "print(f,f.isdigit())\n",
    "print(g,g.isdigit())"
   ]
  },
  {
   "cell_type": "code",
   "execution_count": 480,
   "id": "880e5d73-aba8-4f8d-913a-48f07970c907",
   "metadata": {},
   "outputs": [
    {
     "name": "stdout",
     "output_type": "stream",
     "text": [
      "123456 True\n",
      "Hellow 123 False\n",
      "1.234 False\n"
     ]
    }
   ],
   "source": [
    "# isnumeric() : It checks the numbers only in the sentence etc. then return True . \n",
    "print(c,c.isnumeric())\n",
    "print(f,f.isnumeric())\n",
    "print(g,g.isnumeric())"
   ]
  },
  {
   "cell_type": "code",
   "execution_count": 497,
   "id": "a8c0b836-4989-4162-9515-10287d331d45",
   "metadata": {},
   "outputs": [
    {
     "name": "stdout",
     "output_type": "stream",
     "text": [
      "  True\n",
      "Hellow 123 False\n"
     ]
    }
   ],
   "source": [
    "# isspace() : It checks the whitespace only in the sentence etc. then return True . \n",
    "print(e,e.isspace())\n",
    "print(f,f.isspace())\n"
   ]
  },
  {
   "cell_type": "markdown",
   "id": "f135c020-1f31-4c7e-9dde-b60f336b4ccc",
   "metadata": {},
   "source": [
    "# More Methods of Strings:"
   ]
  },
  {
   "cell_type": "code",
   "execution_count": 593,
   "id": "036b1f19-981b-408d-9c62-eb796ec87df6",
   "metadata": {},
   "outputs": [
    {
     "name": "stdout",
     "output_type": "stream",
     "text": [
      "True\n",
      "False\n",
      "True\n",
      "True\n"
     ]
    }
   ],
   "source": [
    "# Endswith() :  Check the end of the sting if corect return True else False.\n",
    "a = 'My Name Asadullah Khan and I am A data analyst'\n",
    "print(a.endswith('t'))\n",
    "print(a.endswith('A'))\n",
    "#print(a.index('A'))\n",
    "#print(a.index('h'))\n",
    "print(a.endswith('h',8,17))\n",
    "print(a.endswith('n',8,22))"
   ]
  },
  {
   "cell_type": "code",
   "execution_count": 625,
   "id": "19af35d5-3d08-4e44-979c-893eb0754d38",
   "metadata": {},
   "outputs": [
    {
     "name": "stdout",
     "output_type": "stream",
     "text": [
      "True\n",
      "True\n",
      "True\n",
      "True\n"
     ]
    }
   ],
   "source": [
    "# stratwith() : Check the start of the sting if corect return True else False.\n",
    "a = 'My Name Asadullah Khan and I am A data analyst'\n",
    "\n",
    "print(a.startswith('M'))\n",
    "print(a.startswith('A',8))\n",
    "#print(a.index('K'))\n",
    "print(a.startswith('K',18,21))\n",
    "print(a.startswith('I',27))"
   ]
  },
  {
   "cell_type": "code",
   "execution_count": 641,
   "id": "b207eee5-8f8b-48f1-a756-ab795db4b5c7",
   "metadata": {},
   "outputs": [
    {
     "name": "stdout",
     "output_type": "stream",
     "text": [
      "*****         My Name Asadullah Khan and I am A data analyst      ............\n",
      "My Name Asadullah Khan and I am A data analyst\n",
      "Work     \n",
      "    Work\n"
     ]
    }
   ],
   "source": [
    "# Strip() , rstrip() , lstrip() : It Can Remove WhiteSpaces , ...... , ************ etc.\n",
    "a = '  *****         My Name Asadullah Khan and I am A data analyst      ............'\n",
    "b = '    Work     '\n",
    "print(a.strip())\n",
    "print(a.strip('. , *'))\n",
    "print(b.lstrip())\n",
    "print(b.rstrip())"
   ]
  },
  {
   "cell_type": "code",
   "execution_count": 661,
   "id": "13131aaf-d6e5-4ff0-8737-f878ccc318fb",
   "metadata": {},
   "outputs": [
    {
     "name": "stdout",
     "output_type": "stream",
     "text": [
      "['Asad', 'saad', 'zaid', 'nasir', 'khan']\n",
      "['My Name Is Saleem ', ' I am A Cricketer.']\n",
      "saad\n",
      "zaid\n",
      "nasir\n",
      "khan\n"
     ]
    }
   ],
   "source": [
    "# Split() : split the string at the specified separater , and return a list.\n",
    "a = 'Asad,saad,zaid,nasir,khan'\n",
    "print(a.split(','))\n",
    "b = 'My Name Is Saleem And I am A Cricketer.'\n",
    "print(b.split('And'))\n",
    "\n",
    "\n",
    "for i in a.split(','):\n",
    "    if i == 'Asad':\n",
    "        continue\n",
    "    print(i)"
   ]
  },
  {
   "cell_type": "code",
   "execution_count": 12,
   "id": "682d7e86-94a8-43e2-a006-434bf9be7680",
   "metadata": {},
   "outputs": [
    {
     "name": "stdout",
     "output_type": "stream",
     "text": [
      "Asad khan            Is fav Sports.\n",
      "Asad khan*********** Is fav Sports.\n"
     ]
    }
   ],
   "source": [
    "# ljust() : Return a spaces from left side \n",
    "a = 'Asad khan'\n",
    "x = a.ljust(20)\n",
    "print(x,'Is fav Sports.')\n",
    "\n",
    "x = a.ljust(20,'*')\n",
    "print(x,'Is fav Sports.')"
   ]
  },
  {
   "cell_type": "code",
   "execution_count": 16,
   "id": "68fca2ab-3b74-4433-85d7-b3066b4b39f1",
   "metadata": {},
   "outputs": [
    {
     "name": "stdout",
     "output_type": "stream",
     "text": [
      "             Cricket Is fav Sports.\n",
      "*************Cricket Is fav Sports.\n"
     ]
    }
   ],
   "source": [
    "# rjust() : Return a spaces from right side \n",
    "a = 'Cricket'\n",
    "x = a.rjust(20)\n",
    "print(x,'Is fav Sports.')\n",
    "\n",
    "x = a.rjust(20,'*')\n",
    "print(x,'Is fav Sports.')"
   ]
  },
  {
   "cell_type": "code",
   "execution_count": 26,
   "id": "af3c1d59-93fd-4c71-83f3-e3945f58a448",
   "metadata": {},
   "outputs": [
    {
     "name": "stdout",
     "output_type": "stream",
     "text": [
      "My Name is Asad.Asad Is a Crickter.\n",
      "My Name is Saad.Saad Is a Crickter.\n",
      "11\n"
     ]
    }
   ],
   "source": [
    "# Replace() : It Is Used To Replace the Values.\n",
    "a = 'My Name is Asad.Asad Is a Crickter.'\n",
    "print(a)\n",
    "print(a.replace('Asad','Saad'))\n",
    "print(a.index('Asad'))"
   ]
  },
  {
   "cell_type": "markdown",
   "id": "a75ef1ae-bb49-47a6-b5fc-7b88a0333c43",
   "metadata": {},
   "source": [
    "# String Slicing:"
   ]
  },
  {
   "cell_type": "code",
   "execution_count": 97,
   "id": "c4ae9c9f-d3e5-4d7c-ba53-c61cc99e8d65",
   "metadata": {},
   "outputs": [
    {
     "name": "stdout",
     "output_type": "stream",
     "text": [
      "M\n",
      "My Name is Asad.Asad Is a Crickter.\n",
      "My Name \n",
      "Asad\n",
      "Mm .  k\n",
      "Asad Asad\n",
      ".retkcirC a sI dasA.dasA si emaN yM\n",
      "012345678910\n",
      "024681\n",
      "345\n",
      "019876543210\n",
      "8910\n"
     ]
    }
   ],
   "source": [
    "a = 'My Name is Asad.Asad Is a Crickter.'\n",
    "\n",
    "print(a[0])\n",
    "print(a[0:])\n",
    "print(a[0:8])\n",
    "print(a[11:15])\n",
    "print(a[::5])\n",
    "c = a[11:20]\n",
    "print(c.replace('.',' '))\n",
    "print(a[::-1])\n",
    "\n",
    "a = '012345678910'\n",
    "print(a[0:])\n",
    "print(a[::2])\n",
    "print(a[3:6])\n",
    "print(a[::-1])\n",
    "print(a[-4:])"
   ]
  },
  {
   "cell_type": "markdown",
   "id": "e001a34a-049d-4ccd-9776-d0c112a94f29",
   "metadata": {},
   "source": [
    "# Problem Solving :"
   ]
  },
  {
   "cell_type": "code",
   "execution_count": 100,
   "id": "65f55177-d0ee-4283-987e-8dadd1e5b7ee",
   "metadata": {},
   "outputs": [
    {
     "name": "stdout",
     "output_type": "stream",
     "text": [
      "0\n",
      "1\n",
      "1\n",
      "2\n",
      "3\n",
      "5\n",
      "8\n",
      "13\n",
      "21\n",
      "34\n",
      "55\n"
     ]
    }
   ],
   "source": [
    "# Febonnaci Series :\n",
    "a = 0\n",
    "b = 1\n",
    "\n",
    "print(a)\n",
    "print(b)\n",
    "\n",
    "for i in range(2,11):\n",
    "    c = a+b\n",
    "    a = b\n",
    "    b = c\n",
    "    print(b)"
   ]
  },
  {
   "cell_type": "code",
   "execution_count": 137,
   "id": "7aaf7681-e619-4068-afa5-1f865c0ea8e8",
   "metadata": {},
   "outputs": [
    {
     "name": "stdin",
     "output_type": "stream",
     "text": [
      "Enter Number:  13\n"
     ]
    },
    {
     "name": "stdout",
     "output_type": "stream",
     "text": [
      "Prime Number\n"
     ]
    }
   ],
   "source": [
    "# Prime Number :\n",
    "num = int(input('Enter Number: '))\n",
    "if num <= 1:\n",
    "    print('Its Not A Prime Number!')\n",
    "else:\n",
    "    for i in range(2,num):\n",
    "        if num % 2==0:\n",
    "            print('Not Prime Number')\n",
    "            break\n",
    "    else:\n",
    "        print('Prime Number')"
   ]
  },
  {
   "cell_type": "code",
   "execution_count": 9,
   "id": "5ba71b43-00be-4be6-8589-16293491198e",
   "metadata": {},
   "outputs": [
    {
     "name": "stdin",
     "output_type": "stream",
     "text": [
      "Enter a Number :  333\n"
     ]
    },
    {
     "name": "stdout",
     "output_type": "stream",
     "text": [
      "It Is A Palendrome.\n"
     ]
    }
   ],
   "source": [
    "# Palendrome Number ;\n",
    "\n",
    "num = int(input('Enter a Number : '))\n",
    "tep = num\n",
    "rev = 0\n",
    "\n",
    "while num>0:\n",
    "    dig = num%10\n",
    "    rev = rev*10+dig\n",
    "    num = num//10\n",
    "\n",
    "if tep == rev:\n",
    "    print('It Is A Palendrome.')\n",
    "\n",
    "else:\n",
    "    print('Not Plaendrome.')"
   ]
  },
  {
   "cell_type": "code",
   "execution_count": 45,
   "id": "5ca346e1-7980-47dc-8c2f-eb1e64630f1b",
   "metadata": {},
   "outputs": [
    {
     "name": "stdin",
     "output_type": "stream",
     "text": [
      "Enter Name : q quit asad\n",
      "Enter Yor Shape:  circle\n"
     ]
    },
    {
     "name": "stdout",
     "output_type": "stream",
     "text": [
      "The area Of the circle is 28.2744\n"
     ]
    },
    {
     "name": "stdin",
     "output_type": "stream",
     "text": [
      "Enter Name : q quit q\n"
     ]
    }
   ],
   "source": [
    "# Area Calculater :\n",
    "\n",
    "while True:\n",
    "    name = input('Enter Name : q quit')\n",
    "    if name == 'q':\n",
    "        break\n",
    "    num1 = 3\n",
    "    num2 = 5\n",
    "    shape = input('Enter Yor Shape: ')\n",
    "    if shape == 'square':\n",
    "        Area = num1*num2\n",
    "        print(f'The area Of the {shape} is {Area}')\n",
    "        \n",
    "    elif shape == 'rectangle':\n",
    "        Area = num1*num2\n",
    "        print(f'The area Of the {shape} is {Area}')\n",
    "    \n",
    "    \n",
    "    elif shape == 'triangle':\n",
    "        Area = (1/2)*(num1*num2)\n",
    "        print(f'The area Of the {shape} is {Area}')\n",
    "    \n",
    "    \n",
    "    \n",
    "    elif shape == 'circle':\n",
    "        Area = (3.1416)*(num1**2)\n",
    "        print(f'The area Of the {shape} is {Area}')\n",
    "    \n",
    "    else:\n",
    "         print('No Shape Found!')\n",
    "\n",
    "\n"
   ]
  },
  {
   "cell_type": "markdown",
   "id": "293d97b8-fb26-4d19-a016-c4cb5edeba8e",
   "metadata": {},
   "source": [
    "# Problem Solving:"
   ]
  },
  {
   "cell_type": "code",
   "execution_count": 48,
   "id": "6a592d16-7b79-45a1-a359-67d20692a52e",
   "metadata": {},
   "outputs": [],
   "source": [
    "A = 'OOTD.YOLO.ASAP.BRB.GRG.OTW'"
   ]
  },
  {
   "cell_type": "code",
   "execution_count": 82,
   "id": "8847edbc-7e09-4e5a-bbb9-8209531916dd",
   "metadata": {},
   "outputs": [
    {
     "name": "stdout",
     "output_type": "stream",
     "text": [
      "['OOTD', 'YOLO', 'ASAP', 'BRB', 'GRG', 'OTW']\n"
     ]
    }
   ],
   "source": [
    "# Separate in comas:\n",
    "print(A.replace('.',',').split(','))\n"
   ]
  },
  {
   "cell_type": "code",
   "execution_count": 86,
   "id": "a36b8fb5-7396-4d8f-8e0d-86010021a71f",
   "metadata": {},
   "outputs": [
    {
     "name": "stdin",
     "output_type": "stream",
     "text": [
      "Enter Letters:  hello\n"
     ]
    },
    {
     "name": "stdout",
     "output_type": "stream",
     "text": [
      "['e', 'h', 'l', 'l', 'o']\n"
     ]
    }
   ],
   "source": [
    "# Sort Letters Alphabeticaly.\n",
    "l = input('Enter Letters: ')\n",
    "print(sorted(l))"
   ]
  },
  {
   "cell_type": "code",
   "execution_count": 90,
   "id": "1bb8b3f4-66bd-44f6-b284-f529b50a5186",
   "metadata": {},
   "outputs": [
    {
     "name": "stdin",
     "output_type": "stream",
     "text": [
      "Enter Letters:  Saad\n"
     ]
    },
    {
     "name": "stdout",
     "output_type": "stream",
     "text": [
      "SAAd\n"
     ]
    }
   ],
   "source": [
    "# Replace Chater From The Letters:\n",
    "l = input('Enter Letters: ')\n",
    "\n",
    "print(l.replace('a','A'))"
   ]
  },
  {
   "cell_type": "code",
   "execution_count": 94,
   "id": "9b52f9f0-0e8e-4aea-a7bb-ea0ca42a13e6",
   "metadata": {},
   "outputs": [
    {
     "name": "stdout",
     "output_type": "stream",
     "text": [
      "FRIENDS\n"
     ]
    }
   ],
   "source": [
    "# Write a programe to remove . form the word:\n",
    "a = 'F.R.I.E.N.D.S'\n",
    "\n",
    "print(a.replace('.',''))"
   ]
  },
  {
   "cell_type": "code",
   "execution_count": 100,
   "id": "1a01eab3-34c7-4042-b2a8-74457e41ec26",
   "metadata": {},
   "outputs": [
    {
     "name": "stdout",
     "output_type": "stream",
     "text": [
      "3\n"
     ]
    }
   ],
   "source": [
    "# Write a prog to count occurence :\n",
    "a = 'My Name Is Asad.Asad Is a Good player.Asad Can Bowl'\n",
    "print(a.count('Asad'))"
   ]
  },
  {
   "cell_type": "markdown",
   "id": "f2e6d34b-5e30-4351-9fa6-95518147bb5f",
   "metadata": {},
   "source": [
    "# Problem solving:"
   ]
  },
  {
   "cell_type": "code",
   "execution_count": 105,
   "id": "40da2828-59be-477c-b132-8d7d3e92f1f3",
   "metadata": {},
   "outputs": [
    {
     "name": "stdin",
     "output_type": "stream",
     "text": [
      "Enter Letters:  MY NAME IS ASAD\n"
     ]
    },
    {
     "name": "stdout",
     "output_type": "stream",
     "text": [
      "DASA SI EMAN YM\n"
     ]
    }
   ],
   "source": [
    "# Take input from user and reverse it:\n",
    "l = input('Enter Letters: ')\n",
    "print(l[::-1])"
   ]
  },
  {
   "cell_type": "code",
   "execution_count": 109,
   "id": "50df159b-980a-4400-a9c8-d719dd421053",
   "metadata": {},
   "outputs": [
    {
     "name": "stdin",
     "output_type": "stream",
     "text": [
      "Enter Letters:  12345\n"
     ]
    },
    {
     "name": "stdout",
     "output_type": "stream",
     "text": [
      "True\n"
     ]
    }
   ],
   "source": [
    "l = input('Enter Letters: ')\n",
    "\n",
    "check = l.isnumeric()\n",
    "print(check)"
   ]
  },
  {
   "cell_type": "code",
   "execution_count": 113,
   "id": "1cd34221-061e-41ab-85c4-06836a5eb5b1",
   "metadata": {},
   "outputs": [
    {
     "name": "stdin",
     "output_type": "stream",
     "text": [
      "Enter Letters:  sss\n"
     ]
    },
    {
     "name": "stdout",
     "output_type": "stream",
     "text": [
      "Palendrome.\n"
     ]
    }
   ],
   "source": [
    "l = input('Enter Letters: ')\n",
    "rev = l[::-1]\n",
    "\n",
    "if l == rev:\n",
    "    print('Palendrome.')\n",
    "\n",
    "else:\n",
    "    print('Not Palendrome.')"
   ]
  },
  {
   "cell_type": "code",
   "execution_count": 177,
   "id": "74b6cd6b-a313-47d3-9549-8ebecae64ffa",
   "metadata": {},
   "outputs": [
    {
     "name": "stdout",
     "output_type": "stream",
     "text": [
      "9\n"
     ]
    }
   ],
   "source": [
    "a = 'My name is asad khan . I play cricket'\n",
    "count = 0\n",
    "\n",
    "for char in a:\n",
    "    if char in['a', 'e', 'i', 'o', 'u']:\n",
    "        count+=1\n",
    "\n",
    "print(count)"
   ]
  },
  {
   "cell_type": "code",
   "execution_count": 197,
   "id": "e7a7fa09-8b89-4252-93d2-eaf479056abc",
   "metadata": {},
   "outputs": [
    {
     "name": "stdin",
     "output_type": "stream",
     "text": [
      "String :  Saad Bahi Is A \n"
     ]
    },
    {
     "name": "stdout",
     "output_type": "stream",
     "text": [
      "True\n"
     ]
    }
   ],
   "source": [
    "l = input('String : ')\n",
    "print(l.istitle())"
   ]
  },
  {
   "cell_type": "code",
   "execution_count": null,
   "id": "9900a053-04a2-4346-94f4-f77bc08377de",
   "metadata": {},
   "outputs": [],
   "source": []
  }
 ],
 "metadata": {
  "kernelspec": {
   "display_name": "Python [conda env:base] *",
   "language": "python",
   "name": "conda-base-py"
  },
  "language_info": {
   "codemirror_mode": {
    "name": "ipython",
    "version": 3
   },
   "file_extension": ".py",
   "mimetype": "text/x-python",
   "name": "python",
   "nbconvert_exporter": "python",
   "pygments_lexer": "ipython3",
   "version": "3.12.7"
  }
 },
 "nbformat": 4,
 "nbformat_minor": 5
}
