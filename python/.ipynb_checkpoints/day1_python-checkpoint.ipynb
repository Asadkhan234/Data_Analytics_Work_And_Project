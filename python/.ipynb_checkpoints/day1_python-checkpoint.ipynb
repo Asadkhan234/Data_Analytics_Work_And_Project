{
 "cells": [
  {
   "cell_type": "code",
   "execution_count": 6,
   "id": "4ce96688-e4dd-4aec-8dd3-eb98f5c8d4f2",
   "metadata": {},
   "outputs": [
    {
     "name": "stdout",
     "output_type": "stream",
     "text": [
      "Wellcome -- Hellow!\n",
      "My name is Asad-ullah khan!\n",
      "All is well\n"
     ]
    }
   ],
   "source": [
    "# Print is a function which can print msgs ect .\n",
    "print('Wellcome -- Hellow!')\n",
    "print('My name is Asad-ullah khan!')\n",
    "print('All is well')"
   ]
  },
  {
   "cell_type": "code",
   "execution_count": 26,
   "id": "1df8320d-bc7c-4d45-b372-269918b0f336",
   "metadata": {},
   "outputs": [
    {
     "name": "stdout",
     "output_type": "stream",
     "text": [
      "\n",
      "I am Asadullah khan\n",
      "I hope your Doing well.\n",
      "Well come to paistan\n",
      "\n",
      "Hi\n",
      "My name is Asadullah\n",
      "I am a Public Speaker\n"
     ]
    }
   ],
   "source": [
    "# Muti line prints \n",
    "print('''\n",
    "I am Asadullah khan\n",
    "I hope your Doing well.\n",
    "Well come to paistan\n",
    "''')\n",
    "\n",
    "print('Hi\\nMy name is Asadullah\\nI am a Public Speaker')"
   ]
  },
  {
   "cell_type": "code",
   "execution_count": 34,
   "id": "f0320686-1407-43c4-818d-9fae78b6bc93",
   "metadata": {},
   "outputs": [
    {
     "name": "stdout",
     "output_type": "stream",
     "text": [
      "nothing\n"
     ]
    }
   ],
   "source": [
    "# Singele line comment -----\n",
    "'''\n",
    "muti line comments with\n",
    "Extra thing :\n",
    "like foods , travels , Experince.\n",
    "'''\n",
    "print('nothing')"
   ]
  },
  {
   "cell_type": "code",
   "execution_count": 52,
   "id": "c4c9ce15-64e7-4b43-8146-e0a78f925eda",
   "metadata": {},
   "outputs": [
    {
     "name": "stdout",
     "output_type": "stream",
     "text": [
      "10\n",
      "<class 'int'>\n",
      "Asad-Kahn\n",
      "<class 'str'>\n",
      "2.5\n",
      "<class 'float'>\n"
     ]
    }
   ],
   "source": [
    "#variable  is a container and it can store a value is called a value .\n",
    "a = 10\n",
    "print(a)\n",
    "print(type(a))\n",
    "name = 'Asad-Kahn'\n",
    "print(name)\n",
    "print(type(name))\n",
    "flot = 2.5\n",
    "print(flot)\n",
    "print(type(flot))"
   ]
  },
  {
   "cell_type": "code",
   "execution_count": 72,
   "id": "37e230ad-4254-4001-83ee-d4d98f8d178d",
   "metadata": {},
   "outputs": [
    {
     "ename": "SyntaxError",
     "evalue": "invalid syntax (488832369.py, line 3)",
     "output_type": "error",
     "traceback": [
      "\u001b[1;36m  Cell \u001b[1;32mIn[72], line 3\u001b[1;36m\u001b[0m\n\u001b[1;33m    name! = 'Sana'\u001b[0m\n\u001b[1;37m        ^\u001b[0m\n\u001b[1;31mSyntaxError\u001b[0m\u001b[1;31m:\u001b[0m invalid syntax\n"
     ]
    }
   ],
   "source": [
    "# Rulles of variable declaration:\n",
    "name_ = 'SaadKhan'\n",
    "name = 'Sana'\n"
   ]
  },
  {
   "cell_type": "code",
   "execution_count": null,
   "id": "d053304e-b65c-45a6-9ffc-31105a51a9c7",
   "metadata": {},
   "outputs": [],
   "source": []
  }
 ],
 "metadata": {
  "kernelspec": {
   "display_name": "Python [conda env:base] *",
   "language": "python",
   "name": "conda-base-py"
  },
  "language_info": {
   "codemirror_mode": {
    "name": "ipython",
    "version": 3
   },
   "file_extension": ".py",
   "mimetype": "text/x-python",
   "name": "python",
   "nbconvert_exporter": "python",
   "pygments_lexer": "ipython3",
   "version": "3.12.7"
  }
 },
 "nbformat": 4,
 "nbformat_minor": 5
}
