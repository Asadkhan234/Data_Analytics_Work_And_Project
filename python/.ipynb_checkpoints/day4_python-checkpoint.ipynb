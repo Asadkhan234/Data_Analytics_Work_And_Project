{
 "cells": [
  {
   "cell_type": "markdown",
   "id": "c16e63f0-1959-4d99-bcdd-c2d9e6ab6fcc",
   "metadata": {},
   "source": [
    "# List : \n",
    "- Keep Mutiple data types\n",
    "- Mutable\n"
   ]
  },
  {
   "cell_type": "code",
   "execution_count": 2,
   "id": "4c1eadc7-5df5-4cd6-bc62-acfbb63d901e",
   "metadata": {},
   "outputs": [
    {
     "name": "stdout",
     "output_type": "stream",
     "text": [
      "['Pakistan', 'India', 'Australia', 'England', 'UK']\n"
     ]
    }
   ],
   "source": [
    "a = ['Pakistan','India','Australia','England','UK']\n",
    "print(a)"
   ]
  },
  {
   "cell_type": "code",
   "execution_count": 4,
   "id": "7ba72d46-e0a9-4860-a26c-fc4eff7db6c2",
   "metadata": {},
   "outputs": [
    {
     "data": {
      "text/plain": [
       "'Pakistan'"
      ]
     },
     "execution_count": 4,
     "metadata": {},
     "output_type": "execute_result"
    }
   ],
   "source": [
    "a[0] #How to retrive data"
   ]
  },
  {
   "cell_type": "code",
   "execution_count": 6,
   "id": "3da82b6f-3038-4445-b9e8-fc62f6c583dc",
   "metadata": {},
   "outputs": [
    {
     "data": {
      "text/plain": [
       "['Pakistan', 'India', 'Australia', 'England', 'UK']"
      ]
     },
     "execution_count": 6,
     "metadata": {},
     "output_type": "execute_result"
    }
   ],
   "source": [
    "a[0:]"
   ]
  },
  {
   "cell_type": "markdown",
   "id": "97f62afa-9e04-45f9-904c-63fab217d80d",
   "metadata": {},
   "source": [
    "# Slicing"
   ]
  },
  {
   "cell_type": "code",
   "execution_count": 9,
   "id": "d77802d5-5197-4f77-b599-001b53ca0f55",
   "metadata": {},
   "outputs": [
    {
     "name": "stdout",
     "output_type": "stream",
     "text": [
      "['Pakistan', 'India', 'Australia']\n"
     ]
    }
   ],
   "source": [
    "print(a[0:3])"
   ]
  },
  {
   "cell_type": "code",
   "execution_count": 13,
   "id": "24e9b9b9-188a-407d-8517-058faa28fd9e",
   "metadata": {},
   "outputs": [
    {
     "name": "stdout",
     "output_type": "stream",
     "text": [
      "['Pakistan', 'India', 'Australia', 'England']\n"
     ]
    }
   ],
   "source": [
    "print(a[:-1])"
   ]
  },
  {
   "cell_type": "code",
   "execution_count": 17,
   "id": "0a961b94-882e-48e1-bb91-7d08e75905ca",
   "metadata": {},
   "outputs": [
    {
     "name": "stdout",
     "output_type": "stream",
     "text": [
      "['England']\n"
     ]
    }
   ],
   "source": [
    "print(a[3:-1])"
   ]
  },
  {
   "cell_type": "code",
   "execution_count": 30,
   "id": "a9b717e4-e8b9-450e-97f9-38fc8e189442",
   "metadata": {},
   "outputs": [
    {
     "name": "stdout",
     "output_type": "stream",
     "text": [
      "['Pakistan', 'India', 'Australia', 'England']\n"
     ]
    }
   ],
   "source": [
    "print(a[-5:-1])"
   ]
  },
  {
   "cell_type": "code",
   "execution_count": 32,
   "id": "883cede0-cb60-40f8-9e1a-b8f9ebffe51e",
   "metadata": {},
   "outputs": [
    {
     "name": "stdout",
     "output_type": "stream",
     "text": [
      "['UK', 'England', 'Australia', 'India', 'Pakistan']\n"
     ]
    }
   ],
   "source": [
    "print(a[::-1])"
   ]
  },
  {
   "cell_type": "code",
   "execution_count": 36,
   "id": "561c8214-62eb-457d-9b67-aafc950ea01b",
   "metadata": {},
   "outputs": [
    {
     "name": "stdout",
     "output_type": "stream",
     "text": [
      "['Pakistan', 'Australia', 'UK']\n"
     ]
    }
   ],
   "source": [
    "print(a[::2])"
   ]
  },
  {
   "cell_type": "code",
   "execution_count": 44,
   "id": "41a855e5-668e-4635-9fd0-9ccee5e2f792",
   "metadata": {},
   "outputs": [
    {
     "name": "stdout",
     "output_type": "stream",
     "text": [
      "['Pakistan', 'Australia']\n"
     ]
    }
   ],
   "source": [
    "print(a[0:4:2])"
   ]
  },
  {
   "cell_type": "markdown",
   "id": "427df8b7-b92b-4693-bed5-d8f4ef105f3d",
   "metadata": {},
   "source": [
    "# Looping On List :"
   ]
  },
  {
   "cell_type": "code",
   "execution_count": 47,
   "id": "77d04008-d194-4d33-9c0d-47b852e565cd",
   "metadata": {},
   "outputs": [
    {
     "name": "stdout",
     "output_type": "stream",
     "text": [
      "Pakistan\n",
      "India\n",
      "Australia\n",
      "England\n",
      "UK\n"
     ]
    }
   ],
   "source": [
    "# Using For Loop:\n",
    "a = ['Pakistan','India','Australia','England','UK']\n",
    "for i in a:\n",
    "    print(i)"
   ]
  },
  {
   "cell_type": "code",
   "execution_count": 49,
   "id": "bf8efac9-c090-478c-8084-ae7556c465a4",
   "metadata": {},
   "outputs": [
    {
     "name": "stdout",
     "output_type": "stream",
     "text": [
      "Pakistan\n",
      "India\n",
      "Australia\n",
      "England\n",
      "UK\n"
     ]
    }
   ],
   "source": [
    "# Using Length :\n",
    "a = ['Pakistan','India','Australia','England','UK']\n",
    "\n",
    "for i in range(len(a)):\n",
    "    print(a[i])"
   ]
  },
  {
   "cell_type": "code",
   "execution_count": 57,
   "id": "a71b665b-9b83-46e8-803d-995765059cdd",
   "metadata": {},
   "outputs": [
    {
     "name": "stdout",
     "output_type": "stream",
     "text": [
      "Pakistan\n",
      "India\n",
      "Australia\n",
      "England\n",
      "UK\n"
     ]
    },
    {
     "data": {
      "text/plain": [
       "[None, None, None, None, None]"
      ]
     },
     "execution_count": 57,
     "metadata": {},
     "output_type": "execute_result"
    }
   ],
   "source": [
    "# Using Short Hand For loop:\n",
    "[print(i) for i in a]"
   ]
  },
  {
   "cell_type": "code",
   "execution_count": 61,
   "id": "f76b2d87-990f-4055-8513-152cb58c3008",
   "metadata": {},
   "outputs": [
    {
     "name": "stdout",
     "output_type": "stream",
     "text": [
      "Pakistan\n",
      "India\n",
      "Australia\n",
      "England\n",
      "UK\n"
     ]
    }
   ],
   "source": [
    "# Using While Loop :\n",
    "a = ['Pakistan','India','Australia','England','UK']\n",
    "\n",
    "i = 0\n",
    "while i<len(a):\n",
    "    print(a[i])\n",
    "    i+=1"
   ]
  },
  {
   "cell_type": "markdown",
   "id": "3e80ef6a-b779-4e7d-a08c-de18ac37c5ed",
   "metadata": {},
   "source": [
    "# Functions On List: (Part1)"
   ]
  },
  {
   "cell_type": "code",
   "execution_count": 114,
   "id": "debf9252-7a2a-4b87-be8f-61b60a157a61",
   "metadata": {},
   "outputs": [
    {
     "name": "stdout",
     "output_type": "stream",
     "text": [
      "['Pakistan', 'India', 'Australia', 'England', 'UK']\n",
      "5\n"
     ]
    }
   ],
   "source": [
    "a = ['Pakistan','India','Australia','England','UK']\n",
    "\n",
    "print(a)\n",
    "# Find The Length of The List:\n",
    "print(len(a))"
   ]
  },
  {
   "cell_type": "code",
   "execution_count": 116,
   "id": "23729a42-fc17-4345-8839-aeb775b61261",
   "metadata": {},
   "outputs": [
    {
     "name": "stdout",
     "output_type": "stream",
     "text": [
      "1\n"
     ]
    }
   ],
   "source": [
    "# To Count The Occurence of Particepeteence:\n",
    "print(a.count('UK'))"
   ]
  },
  {
   "cell_type": "code",
   "execution_count": 118,
   "id": "4809723f-8ede-4219-a008-5c4901050ff2",
   "metadata": {},
   "outputs": [],
   "source": [
    "# To Add To The List: \n",
    "a.append('USA')"
   ]
  },
  {
   "cell_type": "code",
   "execution_count": 120,
   "id": "1127e265-be69-4b9a-9f4a-e6f20de04fab",
   "metadata": {},
   "outputs": [
    {
     "name": "stdout",
     "output_type": "stream",
     "text": [
      "['Pakistan', 'India', 'Australia', 'England', 'UK', 'USA']\n"
     ]
    }
   ],
   "source": [
    "print(a)"
   ]
  },
  {
   "cell_type": "code",
   "execution_count": 122,
   "id": "03d43753-23a9-436f-83f0-f6b6765c7821",
   "metadata": {},
   "outputs": [],
   "source": [
    "# To Add ToA specific Location:\n",
    "a.insert(0,'Iran')"
   ]
  },
  {
   "cell_type": "code",
   "execution_count": 124,
   "id": "e23cd967-e488-41cd-a4af-c238b2f5bd2f",
   "metadata": {},
   "outputs": [
    {
     "data": {
      "text/plain": [
       "['Iran', 'Pakistan', 'India', 'Australia', 'England', 'UK', 'USA']"
      ]
     },
     "execution_count": 124,
     "metadata": {},
     "output_type": "execute_result"
    }
   ],
   "source": [
    "a"
   ]
  },
  {
   "cell_type": "code",
   "execution_count": 126,
   "id": "3d605b7b-8c4b-4066-afee-91c4a475c7e2",
   "metadata": {},
   "outputs": [],
   "source": [
    "# To Remove From List Using Value:\n",
    "a.remove('Iran')"
   ]
  },
  {
   "cell_type": "code",
   "execution_count": 128,
   "id": "75488cce-ff41-416c-8032-d1c55cd37582",
   "metadata": {},
   "outputs": [
    {
     "data": {
      "text/plain": [
       "['Pakistan', 'India', 'Australia', 'England', 'UK', 'USA']"
      ]
     },
     "execution_count": 128,
     "metadata": {},
     "output_type": "execute_result"
    }
   ],
   "source": [
    "a"
   ]
  },
  {
   "cell_type": "code",
   "execution_count": 130,
   "id": "d4a5bc70-b923-4675-b150-ed8ef9c18ec6",
   "metadata": {},
   "outputs": [
    {
     "data": {
      "text/plain": [
       "'India'"
      ]
     },
     "execution_count": 130,
     "metadata": {},
     "output_type": "execute_result"
    }
   ],
   "source": [
    "# Remove Value Using Index : \n",
    "a.pop(1)"
   ]
  },
  {
   "cell_type": "code",
   "execution_count": 132,
   "id": "78ed3f3e-8ce3-4ae1-8bd9-423bbbcc4213",
   "metadata": {},
   "outputs": [
    {
     "data": {
      "text/plain": [
       "['Pakistan', 'Australia', 'England', 'UK', 'USA']"
      ]
     },
     "execution_count": 132,
     "metadata": {},
     "output_type": "execute_result"
    }
   ],
   "source": [
    "a"
   ]
  },
  {
   "cell_type": "markdown",
   "id": "dd18d27a-c537-4584-9d3d-22181191f2f7",
   "metadata": {},
   "source": [
    "# More Functions Of List:"
   ]
  },
  {
   "cell_type": "code",
   "execution_count": 196,
   "id": "656a0830-7f70-4af8-b727-cc6cad9828af",
   "metadata": {},
   "outputs": [],
   "source": [
    "a = ['Pakistan','India','Australia','England','UK']"
   ]
  },
  {
   "cell_type": "code",
   "execution_count": 198,
   "id": "7f351de2-1836-4978-bec7-d824f5278715",
   "metadata": {},
   "outputs": [
    {
     "name": "stdout",
     "output_type": "stream",
     "text": [
      "[]\n",
      "['Pakistan', 'India', 'Australia', 'England', 'UK']\n"
     ]
    }
   ],
   "source": [
    "# Create A Copy :\n",
    "b = []\n",
    "print(b)\n",
    "b = a.copy()\n",
    "print(b)"
   ]
  },
  {
   "cell_type": "code",
   "execution_count": 200,
   "id": "077693c7-67ba-4d08-83db-deaa3fb898ae",
   "metadata": {},
   "outputs": [
    {
     "name": "stdout",
     "output_type": "stream",
     "text": [
      "Pakistan\n",
      "0\n"
     ]
    }
   ],
   "source": [
    "# To Access An Element :\n",
    "print(a[0])\n",
    "print(a.index('Pakistan')) # return The Index Number"
   ]
  },
  {
   "cell_type": "code",
   "execution_count": 202,
   "id": "95e04e8c-9aea-49dd-96b8-2be2bde40612",
   "metadata": {},
   "outputs": [],
   "source": [
    "# To Merge The Two List :\n",
    "b = ['Iran','Afghanistan']\n",
    "a.extend(b)"
   ]
  },
  {
   "cell_type": "code",
   "execution_count": 204,
   "id": "7e6b3b33-496f-448e-8bd9-1af6fa36440e",
   "metadata": {},
   "outputs": [
    {
     "data": {
      "text/plain": [
       "['Pakistan', 'India', 'Australia', 'England', 'UK', 'Iran', 'Afghanistan']"
      ]
     },
     "execution_count": 204,
     "metadata": {},
     "output_type": "execute_result"
    }
   ],
   "source": [
    "a"
   ]
  },
  {
   "cell_type": "code",
   "execution_count": 224,
   "id": "0208acdc-0d0c-40d7-9544-dae80762ca29",
   "metadata": {},
   "outputs": [
    {
     "name": "stdout",
     "output_type": "stream",
     "text": [
      "['Afghanistan', 'Iran', 'UK', 'England', 'Australia', 'India', 'Pakistan']\n"
     ]
    }
   ],
   "source": [
    "# To Reverse The List:\n",
    "a.reverse()\n",
    "print(a)"
   ]
  },
  {
   "cell_type": "code",
   "execution_count": 236,
   "id": "9d703f11-839b-4806-b84e-bd1c7fa45ee4",
   "metadata": {},
   "outputs": [],
   "source": [
    "a = ['Pakistan','India','Australia','England','UK']"
   ]
  },
  {
   "cell_type": "code",
   "execution_count": 244,
   "id": "12961dba-4fc7-43d6-91fb-5cbd2aa2e41a",
   "metadata": {},
   "outputs": [
    {
     "name": "stdout",
     "output_type": "stream",
     "text": [
      "['Australia', 'England', 'India', 'Pakistan', 'UK']\n"
     ]
    }
   ],
   "source": [
    "a.sort()\n",
    "print(a)"
   ]
  },
  {
   "cell_type": "markdown",
   "id": "d5f37e36-d35c-40fc-8dff-64487ad728d6",
   "metadata": {},
   "source": [
    "# List Comprihension : \n",
    "- We Use It When We Want To Copy One List To Another List."
   ]
  },
  {
   "cell_type": "code",
   "execution_count": 1,
   "id": "3dc5af3a-9f60-40e7-b3fb-9f2f871585b6",
   "metadata": {},
   "outputs": [
    {
     "name": "stdout",
     "output_type": "stream",
     "text": [
      "['Asad', 'Saad', 'Nasir', 'Zaid', 'Fahad']\n",
      "['Asad', 'Saad', 'Nasir', 'Zaid', 'Fahad']\n"
     ]
    }
   ],
   "source": [
    "Uname = []\n",
    "names = ['Asad','Saad','Nasir','Zaid','Fahad']\n",
    "for i in names:\n",
    "   Uname.append(i)\n",
    "\n",
    "print(Uname)\n",
    "\n",
    "\n",
    "l2 = [i for i in names]\n",
    "print(l2)"
   ]
  },
  {
   "cell_type": "markdown",
   "id": "bc03169c-afe1-4083-9def-a8421325b574",
   "metadata": {},
   "source": [
    "# Problem Questions:"
   ]
  },
  {
   "cell_type": "code",
   "execution_count": 3,
   "id": "8248fb5a-f979-4adc-9c79-03edbbfd4f00",
   "metadata": {},
   "outputs": [
    {
     "name": "stdout",
     "output_type": "stream",
     "text": [
      "['Rose', 'Jeo', 'Monica', 'Rachel']\n"
     ]
    }
   ],
   "source": [
    "# Swap The First An dFourth Elements :\n",
    "A = ['Rose','Rachel','Monica','Jeo']\n",
    "\n",
    "# Same :\n",
    "\n",
    "#A[1],A[3] = A[3],A[1]\n",
    "#print(A)\n",
    "\n",
    "\n",
    "# Same:\n",
    "\n",
    "for i in range(len(A)):\n",
    "    if i == 1:\n",
    "        temp = A[i]\n",
    "    elif i == 3:\n",
    "        A[1] = A[i]\n",
    "        A[i] = temp\n",
    "\n",
    "print(A)\n",
    "        \n"
   ]
  },
  {
   "cell_type": "code",
   "execution_count": 9,
   "id": "105e748a-8ced-4e47-b3cd-b16e124860ef",
   "metadata": {},
   "outputs": [],
   "source": [
    "# Add New Value In The 2nd Possition:\n",
    "A.insert(2,'Asad')"
   ]
  },
  {
   "cell_type": "code",
   "execution_count": 19,
   "id": "87f332cb-16d5-4be2-b3f2-1de9172d21a6",
   "metadata": {},
   "outputs": [
    {
     "data": {
      "text/plain": [
       "'Monica'"
      ]
     },
     "execution_count": 19,
     "metadata": {},
     "output_type": "execute_result"
    }
   ],
   "source": [
    "# Write A Programe To Remove Value From 3rd Possition:\n",
    "A.pop(3)"
   ]
  },
  {
   "cell_type": "code",
   "execution_count": 21,
   "id": "35d0ab79-5122-4a24-aacf-d0418f5f336a",
   "metadata": {},
   "outputs": [
    {
     "data": {
      "text/plain": [
       "['Rose', 'Jeo', 'Asad', 'Rachel']"
      ]
     },
     "execution_count": 21,
     "metadata": {},
     "output_type": "execute_result"
    }
   ],
   "source": [
    "A"
   ]
  },
  {
   "cell_type": "code",
   "execution_count": 65,
   "id": "3f45d70b-5ca2-41cb-b551-0a0eb848c6e7",
   "metadata": {},
   "outputs": [
    {
     "name": "stdout",
     "output_type": "stream",
     "text": [
      "10920\n"
     ]
    }
   ],
   "source": [
    "B = [13,7,12,10]\n",
    "a = 1\n",
    "# Write a prgrame to multily all the numbers in the list:\n",
    "for i in B:\n",
    "    a*=i\n",
    "    #print(a)\n",
    "print(a)\n",
    "    "
   ]
  },
  {
   "cell_type": "code",
   "execution_count": 71,
   "id": "fc68e537-1f1d-4f5e-8f56-a332f260774a",
   "metadata": {},
   "outputs": [
    {
     "name": "stdout",
     "output_type": "stream",
     "text": [
      "70\n"
     ]
    }
   ],
   "source": [
    "B = [13,7,12,10,70]\n",
    "#print(max(B))\n",
    "\n",
    "larg = B[0]\n",
    "\n",
    "for num in B:\n",
    "    if num > larg:\n",
    "        larg = num\n",
    "print(larg)"
   ]
  },
  {
   "cell_type": "code",
   "execution_count": 77,
   "id": "cdc477b4-8328-46af-8a78-66498635d40f",
   "metadata": {},
   "outputs": [
    {
     "name": "stdout",
     "output_type": "stream",
     "text": [
      "7\n"
     ]
    }
   ],
   "source": [
    "# Small Number :\n",
    "small = B[0]\n",
    "for i in B:\n",
    "    if i<small:\n",
    "        small = i\n",
    "\n",
    "print(small)"
   ]
  },
  {
   "cell_type": "markdown",
   "id": "f5a0324a-3ec9-4f15-8a29-31fd9f5ab183",
   "metadata": {},
   "source": [
    "# Tupples  ------------> :"
   ]
  },
  {
   "cell_type": "code",
   "execution_count": 82,
   "id": "2f8adec9-84c5-4190-9f0f-4a09ddf1f59e",
   "metadata": {},
   "outputs": [],
   "source": [
    "#Hpw to Create tupple :\n",
    "#Tupples Are Immutable:\n",
    "#Permanent Data :\n",
    "a  = ('Samsung','vevo','Iphone','Redmi','Nokia')"
   ]
  },
  {
   "cell_type": "code",
   "execution_count": 84,
   "id": "ddd704da-e2ef-49f1-896f-b0fb6a647980",
   "metadata": {},
   "outputs": [
    {
     "name": "stdout",
     "output_type": "stream",
     "text": [
      "Iphone\n"
     ]
    }
   ],
   "source": [
    "# Retrive Data From It :\n",
    "print(a[2])"
   ]
  },
  {
   "cell_type": "code",
   "execution_count": 86,
   "id": "ed46824d-1211-42d8-92ed-5533909dbfd6",
   "metadata": {},
   "outputs": [
    {
     "name": "stdout",
     "output_type": "stream",
     "text": [
      "Nokia\n"
     ]
    }
   ],
   "source": [
    "print(a[-1])"
   ]
  },
  {
   "cell_type": "code",
   "execution_count": 88,
   "id": "b6ee48cf-a76d-40ed-9263-b2053644e0f7",
   "metadata": {},
   "outputs": [
    {
     "name": "stdout",
     "output_type": "stream",
     "text": [
      "vevo\n"
     ]
    }
   ],
   "source": [
    "print(a[-4])"
   ]
  },
  {
   "cell_type": "code",
   "execution_count": 94,
   "id": "35bb7ebe-36ad-4fea-8275-12bfe6dad0ae",
   "metadata": {},
   "outputs": [
    {
     "name": "stdout",
     "output_type": "stream",
     "text": [
      "Nokia\n"
     ]
    }
   ],
   "source": [
    "print(a[4])"
   ]
  },
  {
   "cell_type": "markdown",
   "id": "9bb2c194-1dd3-48b8-b398-6663244902a9",
   "metadata": {},
   "source": [
    "# Slicing :"
   ]
  },
  {
   "cell_type": "code",
   "execution_count": 99,
   "id": "68fa5e2d-307c-4180-b564-3cbe6786b88f",
   "metadata": {},
   "outputs": [
    {
     "name": "stdout",
     "output_type": "stream",
     "text": [
      "('Samsung', 'vevo', 'Iphone', 'Redmi', 'Nokia')\n"
     ]
    }
   ],
   "source": [
    "print(a[0:5])"
   ]
  },
  {
   "cell_type": "code",
   "execution_count": 103,
   "id": "23f1adce-81e0-4631-975c-79bb446e9fcc",
   "metadata": {},
   "outputs": [
    {
     "name": "stdout",
     "output_type": "stream",
     "text": [
      "('Iphone', 'Redmi')\n"
     ]
    }
   ],
   "source": [
    "print(a[2:4])"
   ]
  },
  {
   "cell_type": "code",
   "execution_count": 107,
   "id": "c00d8c7d-c3ee-4703-aec9-f8c25e132dd6",
   "metadata": {},
   "outputs": [
    {
     "name": "stdout",
     "output_type": "stream",
     "text": [
      "('Redmi', 'Nokia')\n"
     ]
    }
   ],
   "source": [
    "print(a[3:5])"
   ]
  },
  {
   "cell_type": "code",
   "execution_count": 115,
   "id": "8adb06e2-f572-4394-9876-f616b56f43e4",
   "metadata": {},
   "outputs": [
    {
     "name": "stdout",
     "output_type": "stream",
     "text": [
      "('Samsung', 'vevo', 'Iphone', 'Redmi')\n"
     ]
    }
   ],
   "source": [
    "print(a[:-1])"
   ]
  },
  {
   "cell_type": "code",
   "execution_count": 117,
   "id": "bb8d3deb-dc8d-433c-b836-0b94bc399d2b",
   "metadata": {},
   "outputs": [
    {
     "name": "stdout",
     "output_type": "stream",
     "text": [
      "('Samsung', 'vevo', 'Iphone', 'Redmi', 'Nokia')\n"
     ]
    }
   ],
   "source": [
    "print(a[::1])"
   ]
  },
  {
   "cell_type": "code",
   "execution_count": 119,
   "id": "accd085f-dd23-4b81-92a7-0db9d2a5b35b",
   "metadata": {},
   "outputs": [
    {
     "name": "stdout",
     "output_type": "stream",
     "text": [
      "('Nokia', 'Redmi', 'Iphone', 'vevo', 'Samsung')\n"
     ]
    }
   ],
   "source": [
    "print(a[::-1])\n"
   ]
  },
  {
   "cell_type": "code",
   "execution_count": 121,
   "id": "7cf00202-4146-49f1-a334-b953b381fcf4",
   "metadata": {},
   "outputs": [
    {
     "name": "stdout",
     "output_type": "stream",
     "text": [
      "('Samsung', 'Iphone', 'Nokia')\n"
     ]
    }
   ],
   "source": [
    "print(a[::2])\n"
   ]
  },
  {
   "cell_type": "code",
   "execution_count": 127,
   "id": "99ef727a-3ddf-43ed-9b89-c1a4587db600",
   "metadata": {},
   "outputs": [
    {
     "name": "stdout",
     "output_type": "stream",
     "text": [
      "('Nokia', 'Redmi')\n"
     ]
    }
   ],
   "source": [
    "print(a[5:2:-1])"
   ]
  },
  {
   "cell_type": "code",
   "execution_count": 129,
   "id": "f55db420-2bb0-4b1e-b702-425d2d8507d1",
   "metadata": {},
   "outputs": [
    {
     "name": "stdout",
     "output_type": "stream",
     "text": [
      "('Nokia', 'Redmi', 'Iphone', 'vevo')\n"
     ]
    }
   ],
   "source": [
    "print(a[4:0:-1])"
   ]
  },
  {
   "cell_type": "markdown",
   "id": "fe983cbd-79ca-414d-a346-b2702ad3d193",
   "metadata": {},
   "source": [
    "# For Loop Iteration :"
   ]
  },
  {
   "cell_type": "code",
   "execution_count": 132,
   "id": "da631066-52c2-41fb-b961-4d4cc8ef55f7",
   "metadata": {},
   "outputs": [
    {
     "name": "stdout",
     "output_type": "stream",
     "text": [
      "Samsung\n",
      "vevo\n",
      "Iphone\n",
      "Redmi\n",
      "Nokia\n"
     ]
    }
   ],
   "source": [
    "a  = ('Samsung','vevo','Iphone','Redmi','Nokia')\n",
    "\n",
    "for i in a:\n",
    "    print(i)"
   ]
  },
  {
   "cell_type": "code",
   "execution_count": 138,
   "id": "10c37955-303a-4713-8ed5-27d158d9be49",
   "metadata": {},
   "outputs": [
    {
     "name": "stdout",
     "output_type": "stream",
     "text": [
      "Samsung\n",
      "vevo\n",
      "Iphone\n",
      "Redmi\n",
      "Nokia\n"
     ]
    }
   ],
   "source": [
    "# Using Range And Length:\n",
    "for i in range(len(a)):\n",
    "    print(a[i])"
   ]
  },
  {
   "cell_type": "code",
   "execution_count": 142,
   "id": "dfb60afa-d7b6-4771-98b2-2b64870edb97",
   "metadata": {},
   "outputs": [
    {
     "name": "stdout",
     "output_type": "stream",
     "text": [
      "Samsung\n",
      "vevo\n",
      "Iphone\n",
      "Redmi\n",
      "Nokia\n"
     ]
    }
   ],
   "source": [
    "# While Loop :\n",
    "i = 0\n",
    "while i<len(a):\n",
    "    print(a[i])\n",
    "    i+=1\n"
   ]
  },
  {
   "cell_type": "code",
   "execution_count": 148,
   "id": "577ca72d-f2f0-4f88-91a6-f4a6371a9625",
   "metadata": {},
   "outputs": [
    {
     "name": "stdout",
     "output_type": "stream",
     "text": [
      "['Samsung', 'vevo', 'Iphone', 'Redmi', 'Nokia']\n"
     ]
    }
   ],
   "source": [
    "# Short hand Forloop:\n",
    "x = [i for i in a]\n",
    "print(x)"
   ]
  },
  {
   "cell_type": "markdown",
   "id": "ed201364-3fac-4654-bd95-1de4d5b7d3ea",
   "metadata": {},
   "source": [
    "# Conversion of Tuple  to List For Insertion of values:"
   ]
  },
  {
   "cell_type": "code",
   "execution_count": 171,
   "id": "e4157252-a2ec-482b-9a81-366edf767ea1",
   "metadata": {},
   "outputs": [
    {
     "name": "stdout",
     "output_type": "stream",
     "text": [
      "(10, 20, 30, 40, 50) <class 'tuple'>\n",
      "[10, 20, 30, 40, 50] <class 'list'>\n",
      "[10, 20, 30, 40, 60]\n"
     ]
    }
   ],
   "source": [
    "a = (10,20,30,40,50)\n",
    "print(a,type(a))\n",
    "a = list(a)\n",
    "print(a,type(a))\n",
    "\n",
    "#you can now use list functions and add , del values;\n",
    "a.append(60)\n",
    "# Remove value :\n",
    "a.remove(50)\n",
    "print(a)"
   ]
  },
  {
   "cell_type": "code",
   "execution_count": 173,
   "id": "63e28f29-6332-43b8-8c33-561806205a1c",
   "metadata": {},
   "outputs": [
    {
     "name": "stdout",
     "output_type": "stream",
     "text": [
      "[10, 20, 30, 40, 50, 60]\n"
     ]
    }
   ],
   "source": [
    "a.insert(4,50)\n",
    "print(a)"
   ]
  },
  {
   "cell_type": "code",
   "execution_count": 177,
   "id": "bec48870-5d70-4061-979e-1f519d5ddc1e",
   "metadata": {},
   "outputs": [
    {
     "name": "stdout",
     "output_type": "stream",
     "text": [
      "(10, 20, 30, 40, 50, 60)\n"
     ]
    }
   ],
   "source": [
    "# Convert The List Into tupple:\n",
    "a = tuple(a)\n",
    "print(a)"
   ]
  },
  {
   "cell_type": "code",
   "execution_count": 181,
   "id": "1d36f005-fec3-4743-a997-a998300f9192",
   "metadata": {},
   "outputs": [
    {
     "name": "stdout",
     "output_type": "stream",
     "text": [
      "1\n"
     ]
    }
   ],
   "source": [
    "print(a.count(30))"
   ]
  },
  {
   "cell_type": "code",
   "execution_count": 183,
   "id": "da0bdacc-6291-43ab-ad6a-db3135cb24d2",
   "metadata": {},
   "outputs": [
    {
     "name": "stdout",
     "output_type": "stream",
     "text": [
      "2\n"
     ]
    }
   ],
   "source": [
    "print(a.index(30))"
   ]
  },
  {
   "cell_type": "markdown",
   "id": "1abcf331-0434-4aeb-a8c1-b37e744b90c3",
   "metadata": {},
   "source": [
    "# Problem Solving :"
   ]
  },
  {
   "cell_type": "code",
   "execution_count": 208,
   "id": "5c6f8b03-5893-48b3-b8c6-9cd0c6971628",
   "metadata": {},
   "outputs": [
    {
     "name": "stdout",
     "output_type": "stream",
     "text": [
      "<class 'dict'>\n",
      "{\"name\": \"David\", \"Age\": 22, \"marks\": 87} <class 'str'>\n"
     ]
    }
   ],
   "source": [
    "#Convert The Following Dictionary into json :\n",
    "import json\n",
    "student_data = {'name':'David','Age':22,'marks':87}\n",
    "print(type(student_data))\n",
    "data = json.dumps(student_data)\n",
    "print(data,type(data))\n"
   ]
  },
  {
   "cell_type": "code",
   "execution_count": 220,
   "id": "a1581556-2614-4952-9212-fea1f3261dfd",
   "metadata": {},
   "outputs": [
    {
     "name": "stdout",
     "output_type": "stream",
     "text": [
      "22\n"
     ]
    }
   ],
   "source": [
    "# Access the value of Age from the given data:\n",
    "student_data = '{\"name\": \"David\", \"Age\": 22, \"marks\": 87}'\n",
    "data = json.loads(student_data)\n",
    "print(data['Age'])"
   ]
  },
  {
   "cell_type": "code",
   "execution_count": 228,
   "id": "ea032586-e4a7-4486-8452-48e3d271d879",
   "metadata": {},
   "outputs": [
    {
     "name": "stdout",
     "output_type": "stream",
     "text": [
      "{\n",
      "    \"name\"=\"David\",\n",
      "    \"Age\"=22,\n",
      "    \"marks\"=87,\n",
      "    \"salary\"=20000\n",
      "}\n"
     ]
    }
   ],
   "source": [
    "#Prity Print Following json data:\n",
    "student_data = {'name':'David','Age':22,'marks':87,'salary':20000}\n",
    "\n",
    "#Convert Dictionary To jason Format using json.dumps()\n",
    "data = json.dumps(student_data,indent=4,separators=(',','='))\n",
    "print(data)"
   ]
  },
  {
   "cell_type": "code",
   "execution_count": 230,
   "id": "840599e1-23ad-4375-9d27-b3b92f06fb89",
   "metadata": {},
   "outputs": [
    {
     "name": "stdout",
     "output_type": "stream",
     "text": [
      "The Data Has been Added in the file.\n"
     ]
    }
   ],
   "source": [
    "#Sotr the following json key and save it in the file\n",
    "\n",
    "student_data = {'name':'David','Age':22,'marks':87,'salary':20000}\n",
    "with open('json.demo','w') as f:\n",
    "    data = json.dumps(student_data,indent=4,sort_keys=True)\n",
    "    f.write(data)\n",
    "    print('The Data Has been Added in the file.')"
   ]
  },
  {
   "cell_type": "code",
   "execution_count": 238,
   "id": "30bb7b18-2390-49e3-bc73-1a948d426385",
   "metadata": {},
   "outputs": [
    {
     "name": "stdout",
     "output_type": "stream",
     "text": [
      "Name: David\n",
      "Math Marks: 87\n"
     ]
    }
   ],
   "source": [
    "#Access The nested key marks from the following data:\n",
    "import json\n",
    "\n",
    "student = \"\"\"{\n",
    "    \"stu\": {\n",
    "        \"grade\": {\n",
    "            \"name\": \"David\",\n",
    "            \"marks\": {\n",
    "                \"math\": 87\n",
    "            }\n",
    "        }\n",
    "    }\n",
    "}\"\"\"\n",
    "\n",
    "data = json.loads(student)\n",
    "\n",
    "# To access name and math marks correctly:\n",
    "print(\"Name:\", data['stu']['grade']['name'])\n",
    "print(\"Math Marks:\", data['stu']['grade']['marks']['math'])\n"
   ]
  },
  {
   "cell_type": "markdown",
   "id": "40223f7a-adb6-48cb-ac90-260c2f9ccff8",
   "metadata": {},
   "source": [
    "# Dictionary :"
   ]
  },
  {
   "cell_type": "code",
   "execution_count": 2,
   "id": "3c94c791-a9dd-48f9-8ee6-32d1f289e2f8",
   "metadata": {},
   "outputs": [
    {
     "name": "stdout",
     "output_type": "stream",
     "text": [
      "{'name': 'Asad', 'Age': 22, 'Roll': 1234}\n"
     ]
    }
   ],
   "source": [
    "stu_data = {'name':'Asad','Age':22,'Roll':1234}\n",
    "\n",
    "print(stu_data)"
   ]
  },
  {
   "cell_type": "code",
   "execution_count": 10,
   "id": "683c4da3-96fc-4568-9f25-85bfaecdbfa5",
   "metadata": {},
   "outputs": [
    {
     "name": "stdout",
     "output_type": "stream",
     "text": [
      "22\n",
      "1234\n"
     ]
    }
   ],
   "source": [
    "# Retrive Data:\n",
    "print(stu_data['Age'])\n",
    "print(stu_data['Roll'])"
   ]
  },
  {
   "cell_type": "markdown",
   "id": "65f549c4-8913-4a87-ae53-6d78b61688e5",
   "metadata": {},
   "source": [
    "# Iteration On Keys And Values:"
   ]
  },
  {
   "cell_type": "code",
   "execution_count": 13,
   "id": "bea4ed85-ae38-416a-9456-88c891d76634",
   "metadata": {},
   "outputs": [
    {
     "data": {
      "text/plain": [
       "{'name': 'Asad', 'Age': 22, 'Roll': 1234, 'class': '14th'}"
      ]
     },
     "execution_count": 13,
     "metadata": {},
     "output_type": "execute_result"
    }
   ],
   "source": [
    "stu_data = {'name':'Asad','Age':22,'Roll':1234,'class':'14th'}\n",
    "print(stu_data['name'])\n",
    "stu_data"
   ]
  },
  {
   "cell_type": "code",
   "execution_count": 15,
   "id": "592d823d-6982-4ed3-941e-3470de87e24c",
   "metadata": {},
   "outputs": [
    {
     "name": "stdout",
     "output_type": "stream",
     "text": [
      "name\n",
      "Age\n",
      "Roll\n",
      "class\n"
     ]
    }
   ],
   "source": [
    "#simple iteration:  By Default its give you keys\n",
    "for x in stu_data:\n",
    "    print(x)"
   ]
  },
  {
   "cell_type": "code",
   "execution_count": 17,
   "id": "656b23d4-0e55-4929-8ec6-81a9f2055639",
   "metadata": {},
   "outputs": [
    {
     "name": "stdout",
     "output_type": "stream",
     "text": [
      "Asad\n",
      "22\n",
      "1234\n",
      "14th\n"
     ]
    }
   ],
   "source": [
    "# Get All Values : \n",
    "# print(stu_data['name']) Using this method :\n",
    "for x in stu_data:  \n",
    "    print(stu_data[x])"
   ]
  },
  {
   "cell_type": "code",
   "execution_count": 21,
   "id": "0a5f4e70-4b6b-478d-9568-00960967390d",
   "metadata": {},
   "outputs": [
    {
     "name": "stdout",
     "output_type": "stream",
     "text": [
      "Asad\n",
      "22\n",
      "1234\n",
      "14th\n"
     ]
    }
   ],
   "source": [
    "# Another Way To Get Values :\n",
    "for x in stu_data.values():\n",
    "    print(x)"
   ]
  },
  {
   "cell_type": "code",
   "execution_count": 23,
   "id": "e3089c41-28cc-42e4-a93d-c787b0b6c75f",
   "metadata": {},
   "outputs": [
    {
     "name": "stdout",
     "output_type": "stream",
     "text": [
      "name\n",
      "Age\n",
      "Roll\n",
      "class\n"
     ]
    }
   ],
   "source": [
    "# Way to Get Keys:\n",
    "for x in stu_data.keys():\n",
    "    print(x)"
   ]
  },
  {
   "cell_type": "code",
   "execution_count": 41,
   "id": "24cfe5a4-ca0b-4a1f-9f5a-e29b566090d4",
   "metadata": {},
   "outputs": [
    {
     "name": "stdout",
     "output_type": "stream",
     "text": [
      "0 ('name', 'Asad')\n",
      "1 ('Age', 22)\n",
      "2 ('Roll', 1234)\n",
      "3 ('class', '14th')\n",
      "name : Asad\n",
      "Age : 22\n",
      "Roll : 1234\n",
      "class : 14th\n"
     ]
    }
   ],
   "source": [
    "# Way to Get Both Values And keys:\n",
    "for i,x in enumerate(stu_data.items()):\n",
    "    print(i,x)\n",
    "\n",
    "for x,y in (stu_data.items()):\n",
    "    print(x,':', y)\n"
   ]
  },
  {
   "cell_type": "markdown",
   "id": "d0bcb201-6e0a-4579-b198-9b7c3494c730",
   "metadata": {},
   "source": [
    "# Function of Dictionaries :"
   ]
  },
  {
   "cell_type": "code",
   "execution_count": 86,
   "id": "28e330fc-c233-4024-9264-f33a274dded1",
   "metadata": {},
   "outputs": [
    {
     "name": "stdout",
     "output_type": "stream",
     "text": [
      "Asad\n",
      "22\n",
      "dict_items([('name', 'Asad'), ('Age', 22), ('Roll', 1234), ('class', '14th')])\n",
      "dict_keys(['name', 'Age', 'Roll', 'class'])\n",
      "dict_values(['Asad', 22, 1234, '14th'])\n",
      "Create a copy : {'name': 'Asad', 'Age': 22, 'Roll': 1234, 'class': '14th'}\n"
     ]
    }
   ],
   "source": [
    "stu_data = {'name':'Asad','Age':22,'Roll':1234,'class':'14th'}\n",
    "\n",
    "#get\n",
    "print(stu_data.get('name')) , print(stu_data['Age'])\n",
    "#item\n",
    "a = stu_data.items()\n",
    "print(a)\n",
    "#keys\n",
    "a = stu_data.keys()\n",
    "print(a)\n",
    "#values\n",
    "a = stu_data.values()\n",
    "print(a)\n",
    "#copy\n",
    "b = stu_data.copy()\n",
    "print('Create a copy :',b)"
   ]
  },
  {
   "cell_type": "code",
   "execution_count": 138,
   "id": "c817434e-5ce3-4815-8e66-924bf1399cc5",
   "metadata": {},
   "outputs": [
    {
     "name": "stdout",
     "output_type": "stream",
     "text": [
      "1234\n",
      "{'name': 'Asad', 'Age': 22, 'Roll': 1234, 'class': '14th', 'Name': 'Saad', 'Work': 'Tech'}\n",
      "22\n"
     ]
    },
    {
     "data": {
      "text/plain": [
       "('Work', 'Tech')"
      ]
     },
     "execution_count": 138,
     "metadata": {},
     "output_type": "execute_result"
    }
   ],
   "source": [
    "stu_data = {'name':'Asad','Age':22,'Roll':1234,'class':'14th'}\n",
    "\n",
    "#setdefault\n",
    "print(stu_data.setdefault('Roll'))\n",
    "#update\n",
    "b = {'Name':'Saad','Work':'Tech'}\n",
    "stu_data.update(b)\n",
    "print(stu_data)\n",
    "#pop\n",
    "a = stu_data.pop('Age')\n",
    "print(a)\n",
    "stu_data\n",
    "#popitem : remove  the last item and return deleted (key : value)\n",
    "b = stu_data.popitem()\n",
    "b\n",
    "#clear : Removw all the elements from the dictionary\n",
    "stu_data.clear()"
   ]
  },
  {
   "cell_type": "markdown",
   "id": "a47e3058-bfb0-4573-a03b-fdac18157ecd",
   "metadata": {},
   "source": [
    "# Nested Dictionary :\n",
    "- Inside Dictionary Multiple Dictionaries."
   ]
  },
  {
   "cell_type": "code",
   "execution_count": null,
   "id": "059315c3-eb56-455b-bc8e-74f113281fce",
   "metadata": {},
   "outputs": [],
   "source": [
    "dic = {\n",
    "    person1:{'Name':'Asad','Age':22,'Proffesion':'Ai/Data-Analyst'},\n",
    "    person2:{'Name':'Sami','Age':23,'Proffesion':'Mernstack'},\n",
    "    person3:{'Name':'Saad','Age':22,'Proffesion':'Frontend'},\n",
    "    person4:{'Name':'Mutahir','Age':21,'Proffesion':'Frontend'}\n",
    "    \n",
    "}\n",
    "\n",
    "pri"
   ]
  }
 ],
 "metadata": {
  "kernelspec": {
   "display_name": "Python [conda env:base] *",
   "language": "python",
   "name": "conda-base-py"
  },
  "language_info": {
   "codemirror_mode": {
    "name": "ipython",
    "version": 3
   },
   "file_extension": ".py",
   "mimetype": "text/x-python",
   "name": "python",
   "nbconvert_exporter": "python",
   "pygments_lexer": "ipython3",
   "version": "3.12.7"
  }
 },
 "nbformat": 4,
 "nbformat_minor": 5
}
