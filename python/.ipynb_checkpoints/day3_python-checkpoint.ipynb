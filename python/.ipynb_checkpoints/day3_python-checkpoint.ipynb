{
 "cells": [
  {
   "cell_type": "markdown",
   "id": "86f50958-243a-4b95-85e4-af69dc11acae",
   "metadata": {},
   "source": [
    "# Loops:\n",
    "- For Loop\n",
    "- While loop\n",
    "- While True\n",
    "- Nested  Loop"
   ]
  },
  {
   "cell_type": "markdown",
   "id": "c81130fa-314c-4657-b874-39aa4e4ad473",
   "metadata": {},
   "source": [
    "# For Loop :"
   ]
  },
  {
   "cell_type": "code",
   "execution_count": 32,
   "id": "1bb7fcb1-f0f9-4d16-8640-caa5102b94b3",
   "metadata": {},
   "outputs": [
    {
     "name": "stdout",
     "output_type": "stream",
     "text": [
      "1\n",
      "2\n",
      "3\n",
      "4\n"
     ]
    },
    {
     "name": "stdin",
     "output_type": "stream",
     "text": [
      "Enter Your Number :  1\n"
     ]
    },
    {
     "name": "stdout",
     "output_type": "stream",
     "text": [
      "1 x 1 = 1\n",
      "1 x 2 = 2\n",
      "1 x 3 = 3\n",
      "1 x 4 = 4\n",
      "1 x 5 = 5\n",
      "1 x 6 = 6\n",
      "1 x 7 = 7\n",
      "1 x 8 = 8\n",
      "1 x 9 = 9\n",
      "1 x 10 = 10\n",
      "0\n",
      "2\n",
      "4\n",
      "6\n",
      "8\n",
      "10\n"
     ]
    }
   ],
   "source": [
    "for i in range(1,5):\n",
    "    print(i)\n",
    "\n",
    "n = int(input('Enter Your Number : '))\n",
    "for i in range(1,11):\n",
    "    print(f'{n} x {i} = {n*i}')\n"
   ]
  },
  {
   "cell_type": "code",
   "execution_count": 40,
   "id": "a79446d1-6a00-45d2-bcbc-9c55b214c4db",
   "metadata": {},
   "outputs": [
    {
     "name": "stdout",
     "output_type": "stream",
     "text": [
      "0\n",
      "2\n",
      "4\n",
      "6\n",
      "8\n",
      "10\n"
     ]
    }
   ],
   "source": [
    "for i in range(0,11,2):\n",
    "    print(i)"
   ]
  },
  {
   "cell_type": "code",
   "execution_count": 42,
   "id": "d36374a7-b62c-4b7e-8f49-1b5eda178584",
   "metadata": {},
   "outputs": [
    {
     "name": "stdout",
     "output_type": "stream",
     "text": [
      "1\n",
      "4\n",
      "7\n",
      "10\n"
     ]
    }
   ],
   "source": [
    "for i in range(1,11,3):\n",
    "    print(i)"
   ]
  },
  {
   "cell_type": "markdown",
   "id": "7afd2ea1-87b9-495a-a696-713e28eb30a8",
   "metadata": {},
   "source": [
    "# While loop:"
   ]
  },
  {
   "cell_type": "code",
   "execution_count": 13,
   "id": "3460a480-1055-4a6a-afee-bd29384a7324",
   "metadata": {},
   "outputs": [
    {
     "name": "stdout",
     "output_type": "stream",
     "text": [
      "0\n",
      "2\n",
      "4\n"
     ]
    }
   ],
   "source": [
    "n = 0\n",
    "while n<=5:\n",
    "    print(n)\n",
    "    n+=2"
   ]
  },
  {
   "cell_type": "code",
   "execution_count": 7,
   "id": "3d1e5dcb-a868-454f-8632-da92766fd014",
   "metadata": {},
   "outputs": [
    {
     "name": "stdout",
     "output_type": "stream",
     "text": [
      "1\n",
      "6\n",
      "11\n",
      "16\n"
     ]
    }
   ],
   "source": [
    "i = 1\n",
    "while i<=20:\n",
    "    print(i)\n",
    "    i+=5"
   ]
  },
  {
   "cell_type": "code",
   "execution_count": 3,
   "id": "695468fd-c4d4-4fe4-b674-4dd70d225cda",
   "metadata": {},
   "outputs": [
    {
     "name": "stdin",
     "output_type": "stream",
     "text": [
      "Enter Number :  10\n"
     ]
    },
    {
     "name": "stdout",
     "output_type": "stream",
     "text": [
      "10 X 1 = 10\n",
      "10 X 2 = 20\n",
      "10 X 3 = 30\n",
      "10 X 4 = 40\n",
      "10 X 5 = 50\n",
      "10 X 6 = 60\n",
      "10 X 7 = 70\n",
      "10 X 8 = 80\n",
      "10 X 9 = 90\n",
      "10 X 10 = 100\n"
     ]
    }
   ],
   "source": [
    "n = int(input('Enter Number : '))\n",
    "i = 1\n",
    "\n",
    "while i<=10:\n",
    "    print(f'{n} X {i} = {n*i}')\n",
    "    i+=1"
   ]
  },
  {
   "cell_type": "code",
   "execution_count": 41,
   "id": "e6f8b1e7-83f9-4413-9e04-45e77ed4fa47",
   "metadata": {},
   "outputs": [
    {
     "name": "stdout",
     "output_type": "stream",
     "text": [
      "['Asad', 'Saad', 'zaid', 'Sami']\n"
     ]
    }
   ],
   "source": [
    "n = ['Asad','Saad','zaid','Sami']\n",
    "i = len(n)\n",
    "while i<=4:\n",
    "    print(n)\n",
    "    i+=1"
   ]
  },
  {
   "cell_type": "code",
   "execution_count": 43,
   "id": "14d49786-0cfa-4f48-b50c-4940d9bd6261",
   "metadata": {},
   "outputs": [],
   "source": [
    "# While True:"
   ]
  },
  {
   "cell_type": "code",
   "execution_count": null,
   "id": "18c5ccb7-7237-410e-9b37-8f2aacfe8756",
   "metadata": {},
   "outputs": [
    {
     "name": "stdout",
     "output_type": "stream",
     "text": [
      "0\n",
      "1\n",
      "2\n",
      "3\n",
      "4\n",
      "5\n",
      "6\n",
      "7\n",
      "8\n",
      "9\n",
      "10\n"
     ]
    }
   ],
   "source": [
    "n = 0\n",
    "while True:\n",
    "    if n<=10:\n",
    "        print(n)\n",
    "        n+=1"
   ]
  },
  {
   "cell_type": "code",
   "execution_count": 5,
   "id": "497c6f12-7913-43f4-b49d-7caecbc71f9a",
   "metadata": {},
   "outputs": [
    {
     "name": "stdin",
     "output_type": "stream",
     "text": [
      "Num 1 10\n",
      "Num 2 23\n"
     ]
    },
    {
     "name": "stdout",
     "output_type": "stream",
     "text": [
      "33\n"
     ]
    },
    {
     "name": "stdin",
     "output_type": "stream",
     "text": [
      "Do Want To repea:  yes\n"
     ]
    }
   ],
   "source": [
    "while True:\n",
    "    num1 = int(input('Num 1'))\n",
    "    num2 = int(input('Num 2'))\n",
    "    print(num1+num2)\n",
    "    repeat = input('Do Want To repea: ')\n",
    "    if repeat == 'yes':\n",
    "        break"
   ]
  },
  {
   "cell_type": "markdown",
   "id": "e28501ba-fc29-42d0-b759-745527a855fd",
   "metadata": {},
   "source": [
    "# Nested Loop :"
   ]
  },
  {
   "cell_type": "code",
   "execution_count": 14,
   "id": "6d77d6e4-e8e9-43ce-9c57-c5de30dff6be",
   "metadata": {},
   "outputs": [
    {
     "name": "stdout",
     "output_type": "stream",
     "text": [
      "12345678910\n",
      "12345678910\n",
      "12345678910\n",
      "12345678910\n"
     ]
    }
   ],
   "source": [
    "for i in range(1,5):\n",
    "    for j in range(1,11):\n",
    "        print(j,end = '')\n",
    "    print()    "
   ]
  },
  {
   "cell_type": "code",
   "execution_count": 18,
   "id": "826aa085-c480-452e-9f3a-a208b85a121f",
   "metadata": {},
   "outputs": [
    {
     "name": "stdout",
     "output_type": "stream",
     "text": [
      "1\n",
      "12\n",
      "123\n",
      "1234\n",
      "12345\n"
     ]
    }
   ],
   "source": [
    "for i in range(1,6):\n",
    "    for j in range(1,i+1):\n",
    "        print(j,end='')\n",
    "    print()    "
   ]
  },
  {
   "cell_type": "code",
   "execution_count": 32,
   "id": "ddec609d-d9df-4322-8970-45c8e82ff0e7",
   "metadata": {},
   "outputs": [
    {
     "name": "stdout",
     "output_type": "stream",
     "text": [
      "1\n",
      "123\n",
      "12345\n",
      "1234567\n",
      "123456789\n"
     ]
    }
   ],
   "source": [
    "for i in range(1,10,2):\n",
    "    for j in range(1,i+1):\n",
    "        print(j,end='')\n",
    "    print()    "
   ]
  },
  {
   "cell_type": "markdown",
   "id": "c9baa27e-5964-46b1-a7da-1fac1f3e0cb8",
   "metadata": {},
   "source": [
    "# Loops with If Else:"
   ]
  },
  {
   "cell_type": "code",
   "execution_count": 54,
   "id": "3d90d4be-f660-44fa-b987-1f0084865533",
   "metadata": {},
   "outputs": [
    {
     "name": "stdout",
     "output_type": "stream",
     "text": [
      "1\n",
      "2\n",
      "You Are The Best.\n",
      "4\n",
      "5\n",
      "6\n",
      "7\n",
      "8\n",
      "9\n",
      "10\n"
     ]
    }
   ],
   "source": [
    "for i in range(1,11):\n",
    "    if i == 3:\n",
    "        #continue\n",
    "        print('You Are The Best.')\n",
    "    else:\n",
    "        print(i)"
   ]
  },
  {
   "cell_type": "code",
   "execution_count": 64,
   "id": "e77392e8-7820-4440-92c9-7ae5ec87222c",
   "metadata": {},
   "outputs": [
    {
     "name": "stdout",
     "output_type": "stream",
     "text": [
      "21\n",
      "42\n"
     ]
    }
   ],
   "source": [
    "for i in range(1,50):\n",
    "    if i%3==0 and i%7==0:\n",
    "        print(i)"
   ]
  },
  {
   "cell_type": "code",
   "execution_count": 88,
   "id": "7b286bb1-0afe-4914-8f34-219b9cf5ed27",
   "metadata": {},
   "outputs": [
    {
     "name": "stdout",
     "output_type": "stream",
     "text": [
      "1\n",
      "2\n",
      "4\n",
      "5\n",
      "6\n",
      "7\n",
      "8\n",
      "9\n",
      "10\n"
     ]
    }
   ],
   "source": [
    "for i in range(1,11):\n",
    "    if i == 3:\n",
    "        continue\n",
    "    else:\n",
    "        print(i)"
   ]
  },
  {
   "cell_type": "code",
   "execution_count": 90,
   "id": "73f7ec8e-fdf6-472f-87e9-fcfeec94b776",
   "metadata": {},
   "outputs": [
    {
     "name": "stdout",
     "output_type": "stream",
     "text": [
      "1\n",
      "2\n"
     ]
    }
   ],
   "source": [
    "for i in range(1,11):\n",
    "    if i == 3:\n",
    "        break\n",
    "    else:\n",
    "        print(i)"
   ]
  },
  {
   "cell_type": "code",
   "execution_count": 104,
   "id": "9a3032de-d141-454b-b9d7-221599110fd0",
   "metadata": {},
   "outputs": [
    {
     "name": "stdout",
     "output_type": "stream",
     "text": [
      "650\n"
     ]
    }
   ],
   "source": [
    "s = 0\n",
    "for i in range(1,51):\n",
    "    if i%2==0:\n",
    "        #print(i)\n",
    "        s+=i\n",
    "\n",
    "print(s)\n"
   ]
  },
  {
   "cell_type": "code",
   "execution_count": 106,
   "id": "3ae85e0f-18fa-4772-8c87-b00a443ede0a",
   "metadata": {},
   "outputs": [
    {
     "name": "stdout",
     "output_type": "stream",
     "text": [
      "1\n",
      "4\n",
      "9\n",
      "16\n",
      "25\n",
      "36\n",
      "49\n",
      "64\n",
      "81\n",
      "100\n",
      "121\n",
      "144\n",
      "169\n",
      "196\n",
      "225\n",
      "256\n",
      "289\n",
      "324\n",
      "361\n",
      "400\n"
     ]
    }
   ],
   "source": [
    "for i in range(1,21):\n",
    "    s = i**2\n",
    "    print(s)"
   ]
  },
  {
   "cell_type": "code",
   "execution_count": 11,
   "id": "f8a9af41-fd86-43f6-ae7a-ae6c39a6e2ea",
   "metadata": {},
   "outputs": [
    {
     "name": "stdout",
     "output_type": "stream",
     "text": [
      "1\n",
      "3\n",
      "5\n",
      "7\n",
      "9\n",
      "11\n",
      "13\n",
      "15\n",
      "17\n",
      "19\n",
      "Sum of odd numbers: 100\n"
     ]
    }
   ],
   "source": [
    "n = 0\n",
    "sum = 0\n",
    "while n <= 20:\n",
    "    if n % 2 == 1:\n",
    "        print(n)\n",
    "        sum += n\n",
    "    n += 1  # Always increment n (outside the if block)\n",
    "\n",
    "print(\"Sum of odd numbers:\", sum)\n"
   ]
  },
  {
   "cell_type": "code",
   "execution_count": 13,
   "id": "186faf2d-6b75-41f5-98fd-fd44c8f2c7c9",
   "metadata": {},
   "outputs": [
    {
     "name": "stdout",
     "output_type": "stream",
     "text": [
      "24\n",
      "48\n",
      "72\n",
      "96\n"
     ]
    }
   ],
   "source": [
    "for i in range(1,101):\n",
    "    if i % 8 ==0 and i % 12 == 0:\n",
    "        print(i)"
   ]
  },
  {
   "cell_type": "code",
   "execution_count": 21,
   "id": "b147c042-b0c3-49e8-8342-956a81dab0e2",
   "metadata": {},
   "outputs": [
    {
     "name": "stdin",
     "output_type": "stream",
     "text": [
      "Enter Your Name:  Asad\n"
     ]
    },
    {
     "name": "stdout",
     "output_type": "stream",
     "text": [
      "Enter Your Amount And Quantity:\n"
     ]
    },
    {
     "name": "stdin",
     "output_type": "stream",
     "text": [
      "Enter Your Amount:  100\n",
      "Enter Your Quantity:  2\n",
      "Do You Want To Buy Something More? (Yes/No):  yes\n"
     ]
    },
    {
     "name": "stdout",
     "output_type": "stream",
     "text": [
      "Enter Your Amount And Quantity:\n"
     ]
    },
    {
     "name": "stdin",
     "output_type": "stream",
     "text": [
      "Enter Your Amount:  200\n",
      "Enter Your Quantity:  1\n",
      "Do You Want To Buy Something More? (Yes/No):  no\n"
     ]
    },
    {
     "name": "stdout",
     "output_type": "stream",
     "text": [
      "----------------------------------------\n",
      "Your Name Is: Asad\n",
      "Your Total Amount Is: 400\n",
      "----------------------------------------\n"
     ]
    },
    {
     "name": "stdin",
     "output_type": "stream",
     "text": [
      "Do You Want To Go To Another Customer? (Yes/No):  no\n"
     ]
    }
   ],
   "source": [
    "while True:\n",
    "    name = input('Enter Your Name: ')\n",
    "    total = 0\n",
    "\n",
    "    while True:\n",
    "        print('Enter Your Amount And Quantity:')\n",
    "        amount = int(input('Enter Your Amount: '))\n",
    "        quantity = int(input('Enter Your Quantity: '))\n",
    "        total += amount * quantity\n",
    "\n",
    "        repeat = input('Do You Want To Buy Something More? (Yes/No): ').lower()\n",
    "        if repeat == 'no':\n",
    "            break\n",
    "\n",
    "    print('-' * 40)\n",
    "    print('Your Name Is:', name)\n",
    "    print('Your Total Amount Is:', total)\n",
    "    print('-' * 40)\n",
    "\n",
    "    repeat1 = input('Do You Want To Go To Another Customer? (Yes/No): ').lower()\n",
    "    if repeat1 == 'no':\n",
    "        break\n"
   ]
  },
  {
   "cell_type": "markdown",
   "id": "564abdcd-f0ec-4253-920a-da9fdb870a4c",
   "metadata": {},
   "source": [
    "# Problem For String :"
   ]
  },
  {
   "cell_type": "code",
   "execution_count": 42,
   "id": "c618119e-7717-483e-90eb-644fe7b9e7b9",
   "metadata": {},
   "outputs": [
    {
     "name": "stdout",
     "output_type": "stream",
     "text": [
      "42\n",
      "17\n",
      "why fit in,when you are born to stand out!\n",
      "WHY FIT IN,WHEN YOU ARE BORN TO STAND OUT!\n",
      "Why Fit In,When You Are Born To Stand Out!\n",
      "4\n"
     ]
    }
   ],
   "source": [
    "A = 'Why fit in,When you are Born to Stand Out!'\n",
    "print(len(A))\n",
    "print(A.find('o'))\n",
    "print(A.lower())\n",
    "print(A.upper())\n",
    "print(A.title())\n",
    "print(A.index('fit in'))"
   ]
  },
  {
   "cell_type": "markdown",
   "id": "e9e1dd59-ffb9-4a1c-afed-8dd332fcc2d7",
   "metadata": {},
   "source": [
    "# Pattern Problem Solving:"
   ]
  },
  {
   "cell_type": "code",
   "execution_count": 10,
   "id": "7a29405a-69e1-41a5-bdcb-222a9cae8b64",
   "metadata": {},
   "outputs": [
    {
     "name": "stdout",
     "output_type": "stream",
     "text": [
      "1 \n",
      "1 2 \n",
      "1 2 3 \n",
      "1 2 3 4 \n",
      "1 2 3 4 5 \n"
     ]
    }
   ],
   "source": [
    "for i in range(1,6):\n",
    "    for j in range(1,i+1):\n",
    "        print(j,end=' ')\n",
    "    print()"
   ]
  },
  {
   "cell_type": "code",
   "execution_count": 12,
   "id": "063cb928-ee42-4d56-8b0e-f5335f34453c",
   "metadata": {},
   "outputs": [
    {
     "name": "stdout",
     "output_type": "stream",
     "text": [
      "1 \n",
      "2 2 \n",
      "3 3 3 \n",
      "4 4 4 4 \n",
      "5 5 5 5 5 \n"
     ]
    }
   ],
   "source": [
    "for i in range(1,6):\n",
    "    for j in range(1,i+1):\n",
    "        print(i,end=' ')\n",
    "    print()"
   ]
  },
  {
   "cell_type": "code",
   "execution_count": 38,
   "id": "42b586ef-168c-4121-9caa-3677e316d14d",
   "metadata": {},
   "outputs": [
    {
     "name": "stdout",
     "output_type": "stream",
     "text": [
      "6 5 4 3 2 \n",
      "6 5 4 3 \n",
      "6 5 4 \n",
      "6 5 \n",
      "6 \n"
     ]
    }
   ],
   "source": [
    "for i in range(1,6):\n",
    "    for j in range(6,i,-1):\n",
    "        print(j,end=' ')\n",
    "    print()"
   ]
  },
  {
   "cell_type": "code",
   "execution_count": 42,
   "id": "3309db3d-28de-4d84-a097-4bd972b13bfe",
   "metadata": {},
   "outputs": [
    {
     "name": "stdout",
     "output_type": "stream",
     "text": [
      "\n",
      "1\n",
      "12\n",
      "123\n",
      "1234\n",
      "12345\n"
     ]
    }
   ],
   "source": [
    "for i in range(6):\n",
    "    for j in range(1,i+1):\n",
    "        print(j,end='')\n",
    "    print()"
   ]
  },
  {
   "cell_type": "code",
   "execution_count": 296,
   "id": "7543e89d-3472-40b6-8263-d08e5014cb8c",
   "metadata": {},
   "outputs": [
    {
     "name": "stdout",
     "output_type": "stream",
     "text": [
      "\n",
      "\n",
      "\n",
      "\n",
      "\n"
     ]
    }
   ],
   "source": [
    "for i in range(1,6):\n",
    "    for j in range(,0,i):\n",
    "        print(j,end=' ')\n",
    "    print()    "
   ]
  },
  {
   "cell_type": "code",
   "execution_count": null,
   "id": "f420a9c1-29fd-4562-b22d-3cfbc1d173df",
   "metadata": {},
   "outputs": [],
   "source": []
  },
  {
   "cell_type": "code",
   "execution_count": null,
   "id": "9617935a-1dca-4b83-b0d1-db92c4c201ae",
   "metadata": {},
   "outputs": [],
   "source": []
  }
 ],
 "metadata": {
  "kernelspec": {
   "display_name": "Python [conda env:base] *",
   "language": "python",
   "name": "conda-base-py"
  },
  "language_info": {
   "codemirror_mode": {
    "name": "ipython",
    "version": 3
   },
   "file_extension": ".py",
   "mimetype": "text/x-python",
   "name": "python",
   "nbconvert_exporter": "python",
   "pygments_lexer": "ipython3",
   "version": "3.12.7"
  }
 },
 "nbformat": 4,
 "nbformat_minor": 5
}
