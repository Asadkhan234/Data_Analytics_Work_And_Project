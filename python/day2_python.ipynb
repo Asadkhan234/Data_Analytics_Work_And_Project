{
 "cells": [
  {
   "cell_type": "markdown",
   "id": "d21aa940-ce1b-46d0-852e-e9fb1ea04c66",
   "metadata": {},
   "source": [
    "# Conditional Statements :\n",
    "- If the Statement\n",
    "- If else statement\n",
    "- If elif else statement\n",
    "- Nested Statement\n",
    "- Short hand if the statement\n",
    "- Short hand if else statement"
   ]
  },
  {
   "cell_type": "markdown",
   "id": "dea3ed51-d40f-439c-a26f-e0dcd6400a9d",
   "metadata": {},
   "source": [
    "# If the Statement"
   ]
  },
  {
   "cell_type": "code",
   "execution_count": 40,
   "id": "87c399c0-e0e4-47d6-becc-ca160c2f6e3f",
   "metadata": {},
   "outputs": [
    {
     "name": "stdout",
     "output_type": "stream",
     "text": [
      "Correct!\n",
      "--------\n",
      "Thank You!\n",
      "Bulana Muje lazmi.\n",
      "Wah maza aya!\n",
      "Pass\n"
     ]
    },
    {
     "name": "stderr",
     "output_type": "stream",
     "text": [
      "<>:10: SyntaxWarning: \"is not\" with 'str' literal. Did you mean \"!=\"?\n",
      "<>:10: SyntaxWarning: \"is not\" with 'str' literal. Did you mean \"!=\"?\n",
      "C:\\Users\\ADMIN\\AppData\\Local\\Temp\\ipykernel_10100\\2695876628.py:10: SyntaxWarning: \"is not\" with 'str' literal. Did you mean \"!=\"?\n",
      "  if Dish is not 'Biryani':\n"
     ]
    }
   ],
   "source": [
    "number = 100\n",
    "if number >= 100:\n",
    "    print('Correct!')\n",
    "    print('--------')\n",
    "\n",
    "print('Thank You!')\n",
    "\n",
    "\n",
    "Dish = 'Daal'\n",
    "if Dish is not 'Biryani':\n",
    "    print('Bulana Muje lazmi.')\n",
    "\n",
    "print('Wah maza aya!')\n",
    "\n",
    "\n",
    "test = 'pass'\n",
    "if test == 'pass':\n",
    "    print('Pass')"
   ]
  },
  {
   "cell_type": "markdown",
   "id": "e5aa3aaf-761d-4222-85f8-5f4ddee95774",
   "metadata": {},
   "source": [
    "# If else statement:"
   ]
  },
  {
   "cell_type": "code",
   "execution_count": 90,
   "id": "f39e2295-087a-489b-b67c-a1063bcef0e1",
   "metadata": {},
   "outputs": [
    {
     "name": "stdout",
     "output_type": "stream",
     "text": [
      "Soory!\n",
      "You Have Remaning responses : 90\n",
      "Your Mobile Is Full .\n"
     ]
    }
   ],
   "source": [
    "pay = 80000\n",
    "Brand = 'samsung'\n",
    "if (pay >= 90000)& (Brand =='samsung'):\n",
    "    print('You can buy samsung brand mobile.')\n",
    "\n",
    "else:\n",
    "    print('Soory!')\n",
    "\n",
    "\n",
    "\n",
    "response = 100\n",
    "gpt = 10\n",
    "udated_acc = 0\n",
    "if gpt <= response:\n",
    "    udated_acc = response-gpt\n",
    "    print(f'You Have Remaning responses : {udated_acc}')\n",
    "\n",
    "else:\n",
    "    print('Soory Your Responses Is Done!')\n",
    "\n",
    "\n",
    "\n",
    "\n",
    "charge = 100\n",
    "mobile = 100\n",
    "if mobile == charge:\n",
    "    print('Your Mobile Is Full .')\n",
    "else:\n",
    "    print('Charge Your Mobile.')\n",
    "    "
   ]
  },
  {
   "cell_type": "markdown",
   "id": "02c4b659-f0f3-41cc-8c0f-c1ac24b8348d",
   "metadata": {},
   "source": [
    "# If elif else statement:"
   ]
  },
  {
   "cell_type": "code",
   "execution_count": 133,
   "id": "13202cc9-70e8-44ec-b2b9-545ebd63f071",
   "metadata": {},
   "outputs": [
    {
     "name": "stdout",
     "output_type": "stream",
     "text": [
      "chocolate le Aoo!\n",
      "Soory!\n",
      "Phone Can Be Taken From you!\n"
     ]
    }
   ],
   "source": [
    "Flavour = 'Chocolate'.lower()\n",
    "if Flavour == 'mango':\n",
    "    print(f'{Flavour} le Aoo!')\n",
    "elif Flavour == 'chocolate':\n",
    "    print(f'{Flavour} le Aoo!')\n",
    "elif Flavour == 'crunch':\n",
    "    print(f'{Flavour} Le Aoo!')\n",
    "else:\n",
    "    print('Not Avalible These Flavours')\n",
    "\n",
    "\n",
    "number = 69\n",
    "if number >= 90:\n",
    "    print('You Can Go For Trip.')\n",
    "elif number >= 80 and number <90:\n",
    "    print('You Can Get New Phone')\n",
    "elif number >= 70 and number < 80:\n",
    "    print('You Will Get a new Book.')\n",
    "else:\n",
    "    print('Soory!')\n",
    "    print('Phone Can Be Taken From you!')"
   ]
  },
  {
   "cell_type": "markdown",
   "id": "17b3e38c-3ed7-40d4-b1b9-471d59190359",
   "metadata": {},
   "source": [
    "# Nested Statement:"
   ]
  },
  {
   "cell_type": "code",
   "execution_count": 213,
   "id": "97d2c9d4-8f89-4396-9751-f8c148374888",
   "metadata": {},
   "outputs": [
    {
     "name": "stdout",
     "output_type": "stream",
     "text": [
      "You Will Get new Phone \n",
      "You Wll also Go For Air Fair Trip.\n",
      "You Will get Book!\n",
      "You Can Go In Bussines class\n",
      "You Can Go In Elite Class \n",
      "You Can Go In Simple Class\n"
     ]
    }
   ],
   "source": [
    "number = 98\n",
    "if number >=80:\n",
    "    print('You Will Get new Phone ')\n",
    "    if number >=90:\n",
    "        print('You Wll also Go For Air Fair Trip.')\n",
    "        if number <= 100:\n",
    "            print('You Will get Book!')\n",
    "        else:\n",
    "            print('You cant get Book!')\n",
    "    else:\n",
    "        print('You Cant Get Trip!')\n",
    "else:\n",
    "    print('You Cant Get Phone for a month.')\n",
    "\n",
    "\n",
    "\n",
    "\n",
    "price = 5000\n",
    "\n",
    "if price >= 5000:\n",
    "    print('You Can Go In Bussines class')\n",
    "    if price >= 4000:\n",
    "        print('You Can Go In Elite Class ')\n",
    "        if price >= 3000:\n",
    "            print('You Can Go In Simple Class')\n",
    "\n",
    "else:\n",
    "    print('Soory Your Budget Is Less.')\n",
    "    "
   ]
  },
  {
   "cell_type": "markdown",
   "id": "5eb97217-57b5-4bb6-aea2-6278c51c045c",
   "metadata": {},
   "source": [
    "# Short hand if the statement:"
   ]
  },
  {
   "cell_type": "code",
   "execution_count": 234,
   "id": "f14776b4-80cc-4417-a935-32f0a71ab7fc",
   "metadata": {},
   "outputs": [
    {
     "name": "stdout",
     "output_type": "stream",
     "text": [
      "You Can Get Mango Flavour.\n",
      "Failed\n"
     ]
    }
   ],
   "source": [
    "flavour = 'Mango'\n",
    "if flavour == 'Mango': print(f'You Can Get {flavour} Flavour.')\n"
   ]
  },
  {
   "cell_type": "markdown",
   "id": "6c8e9ee9-cdcc-4e09-98b2-f42a73816277",
   "metadata": {},
   "source": [
    "# Short hand if else the statement:"
   ]
  },
  {
   "cell_type": "code",
   "execution_count": 241,
   "id": "f5d58c22-965d-4eee-a1cf-57b8d607217b",
   "metadata": {},
   "outputs": [
    {
     "data": {
      "text/plain": [
       "'Passed!'"
      ]
     },
     "execution_count": 241,
     "metadata": {},
     "output_type": "execute_result"
    }
   ],
   "source": [
    "number = 90\n",
    "('Passed!') if number>=90 else print('Failed')"
   ]
  },
  {
   "cell_type": "markdown",
   "id": "2cc24e68-9377-4c9d-93f5-d84eaaa3b654",
   "metadata": {},
   "source": [
    "# Problem solving:"
   ]
  },
  {
   "cell_type": "code",
   "execution_count": 252,
   "id": "2daa327e-6d45-4539-9461-a3cb18e7f868",
   "metadata": {},
   "outputs": [
    {
     "name": "stdout",
     "output_type": "stream",
     "text": [
      "Negative\n"
     ]
    }
   ],
   "source": [
    "num = -10\n",
    "if num > 0:\n",
    "    print('Possitive')\n",
    "else:\n",
    "    print('Negative')"
   ]
  },
  {
   "cell_type": "code",
   "execution_count": 268,
   "id": "388aa221-e683-4f0f-a48a-52fe815bb4e8",
   "metadata": {},
   "outputs": [
    {
     "name": "stdout",
     "output_type": "stream",
     "text": [
      "Odd\n"
     ]
    }
   ],
   "source": [
    "num = 15\n",
    "if num % 2==0:\n",
    "    print(num)\n",
    "    print('Even')\n",
    "else:\n",
    "    print('Odd')"
   ]
  },
  {
   "cell_type": "code",
   "execution_count": 300,
   "id": "d6592b49-23ea-4c19-918f-238813e181a2",
   "metadata": {},
   "outputs": [
    {
     "name": "stdout",
     "output_type": "stream",
     "text": [
      "The Are of circle is: 28.2744\n"
     ]
    }
   ],
   "source": [
    "num1 = 3\n",
    "num2 = 4\n",
    "shape = 'circle'\n",
    "if shape == 'square':\n",
    "    Area = num1 * num2\n",
    "    print(f'The Are of {shape} is: {Area}')\n",
    "\n",
    "elif shape == 'rectangle':\n",
    "    Area = num1 * num2\n",
    "    print(f'The Are of {shape} is: {Area}')\n",
    "\n",
    "elif shape == 'triangle':\n",
    "    Area = (1/2)*(num1*num2)\n",
    "    print(f'The Are of {shape} is: {Area}')\n",
    "    \n",
    "\n",
    "elif shape == 'circle':\n",
    "    Area = 3.1416 * (num1**2)\n",
    "    print(f'The Are of {shape} is: {Area}')\n",
    "else:\n",
    "    print('No Shape Found!')"
   ]
  },
  {
   "cell_type": "code",
   "execution_count": 304,
   "id": "bfb131fe-5b3b-4dfd-bfe3-4ae5ca022ae4",
   "metadata": {},
   "outputs": [
    {
     "name": "stdin",
     "output_type": "stream",
     "text": [
      "Enter the Charecter q\n"
     ]
    },
    {
     "name": "stdout",
     "output_type": "stream",
     "text": [
      "Not Vowel.\n"
     ]
    }
   ],
   "source": [
    "char = input('Enter the Charecter')\n",
    "vowel = ['a','e','i','o','u']\n",
    "if char.lower() in vowel:\n",
    "    print('Vowel')\n",
    "\n",
    "else:\n",
    "    print('Not Vowel.')"
   ]
  },
  {
   "cell_type": "code",
   "execution_count": 338,
   "id": "5e2bd68a-8165-4572-8ddb-5ef8289909db",
   "metadata": {},
   "outputs": [
    {
     "name": "stdin",
     "output_type": "stream",
     "text": [
      "Enter 5 Digit Numbers :  5000\n"
     ]
    },
    {
     "name": "stdout",
     "output_type": "stream",
     "text": [
      "Four Digit Number.\n"
     ]
    }
   ],
   "source": [
    "num = int(input('Enter 5 Digit Numbers : '))\n",
    "\n",
    "if num>=0 and num<=9:\n",
    "    print('Single Digit Number.')\n",
    "\n",
    "elif num>=10 and num<=99:\n",
    "    print('Double Digit Number.')\n",
    "\n",
    "elif num>=100 and num<=999:\n",
    "    print('Triple Digit Number.')\n",
    "\n",
    "elif num>=1000 and num<=9999:\n",
    "    print('Four Digit Number.')\n",
    "\n",
    "else:\n",
    "    print('Five Digit Number.')"
   ]
  },
  {
   "cell_type": "code",
   "execution_count": null,
   "id": "7dd4c3d1-26e7-423c-8937-98b108bbb6b5",
   "metadata": {},
   "outputs": [],
   "source": []
  }
 ],
 "metadata": {
  "kernelspec": {
   "display_name": "Python [conda env:base] *",
   "language": "python",
   "name": "conda-base-py"
  },
  "language_info": {
   "codemirror_mode": {
    "name": "ipython",
    "version": 3
   },
   "file_extension": ".py",
   "mimetype": "text/x-python",
   "name": "python",
   "nbconvert_exporter": "python",
   "pygments_lexer": "ipython3",
   "version": "3.12.7"
  }
 },
 "nbformat": 4,
 "nbformat_minor": 5
}
