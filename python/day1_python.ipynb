{
 "cells": [
  {
   "cell_type": "code",
   "execution_count": 6,
   "id": "4ce96688-e4dd-4aec-8dd3-eb98f5c8d4f2",
   "metadata": {},
   "outputs": [
    {
     "name": "stdout",
     "output_type": "stream",
     "text": [
      "Wellcome -- Hellow!\n",
      "My name is Asad-ullah khan!\n",
      "All is well\n"
     ]
    }
   ],
   "source": [
    "# Print is a function which can print msgs ect .\n",
    "print('Wellcome -- Hellow!')\n",
    "print('My name is Asad-ullah khan!')\n",
    "print('All is well')"
   ]
  },
  {
   "cell_type": "code",
   "execution_count": 26,
   "id": "1df8320d-bc7c-4d45-b372-269918b0f336",
   "metadata": {},
   "outputs": [
    {
     "name": "stdout",
     "output_type": "stream",
     "text": [
      "\n",
      "I am Asadullah khan\n",
      "I hope your Doing well.\n",
      "Well come to paistan\n",
      "\n",
      "Hi\n",
      "My name is Asadullah\n",
      "I am a Public Speaker\n"
     ]
    }
   ],
   "source": [
    "# Muti line prints \n",
    "print('''\n",
    "I am Asadullah khan\n",
    "I hope your Doing well.\n",
    "Well come to paistan\n",
    "''')\n",
    "\n",
    "print('Hi\\nMy name is Asadullah\\nI am a Public Speaker')"
   ]
  },
  {
   "cell_type": "code",
   "execution_count": 34,
   "id": "f0320686-1407-43c4-818d-9fae78b6bc93",
   "metadata": {},
   "outputs": [
    {
     "name": "stdout",
     "output_type": "stream",
     "text": [
      "nothing\n"
     ]
    }
   ],
   "source": [
    "# Singele line comment -----\n",
    "'''\n",
    "muti line comments with\n",
    "Extra thing :\n",
    "like foods , travels , Experince.\n",
    "'''\n",
    "print('nothing')"
   ]
  },
  {
   "cell_type": "code",
   "execution_count": 52,
   "id": "c4c9ce15-64e7-4b43-8146-e0a78f925eda",
   "metadata": {},
   "outputs": [
    {
     "name": "stdout",
     "output_type": "stream",
     "text": [
      "10\n",
      "<class 'int'>\n",
      "Asad-Kahn\n",
      "<class 'str'>\n",
      "2.5\n",
      "<class 'float'>\n"
     ]
    }
   ],
   "source": [
    "#variable  is a container and it can store a value is called a value .\n",
    "a = 10\n",
    "print(a)\n",
    "print(type(a))\n",
    "name = 'Asad-Kahn'\n",
    "print(name)\n",
    "print(type(name))\n",
    "flot = 2.5\n",
    "print(flot)\n",
    "print(type(flot))"
   ]
  },
  {
   "cell_type": "code",
   "execution_count": 98,
   "id": "37e230ad-4254-4001-83ee-d4d98f8d178d",
   "metadata": {},
   "outputs": [],
   "source": [
    "# Rulles of variable declaration:\n",
    "'''\n",
    "1 - No Addition Of Any Special Keywords\n",
    "2 - No Addition Of Numbers In Start\n",
    "3 - No Addition Of Operater \n",
    "4 - Addition of _ in variable\n",
    "5 - Addition Of Number In End Of variable\n",
    "6 - No Addition of Spacing in variable\n",
    "7 - Checking Of Case -----> Because of Case Sensitive\n",
    "'''\n",
    "name_ = 'SaadKhan'\n",
    "name1 = 'Sana'\n",
    "n8n = 'Ai-Technology'\n",
    "e = 2\n"
   ]
  },
  {
   "cell_type": "code",
   "execution_count": 104,
   "id": "d053304e-b65c-45a6-9ffc-31105a51a9c7",
   "metadata": {},
   "outputs": [],
   "source": [
    "# Data Types :\n",
    "'''\n",
    "1 integer  20\n",
    "2 float    2.50\n",
    "3 list , tupple , Dictionary , set  [] , () , {} ,{}\n",
    "4 Boolean True/False\n",
    "'''\n",
    "d = 'Done'\n",
    "\n"
   ]
  },
  {
   "cell_type": "code",
   "execution_count": 108,
   "id": "1d59e076-d142-4721-ac21-af9fc2c4b779",
   "metadata": {},
   "outputs": [
    {
     "name": "stdin",
     "output_type": "stream",
     "text": [
      "Enter name:  Asad\n",
      "Enter Age:  22\n",
      "Enter you qualification:  cs\n"
     ]
    },
    {
     "name": "stdout",
     "output_type": "stream",
     "text": [
      "Asad 22 cs\n"
     ]
    }
   ],
   "source": [
    "# User_Input :\n",
    "name = input('Enter name: ')\n",
    "Age = input('Enter Age: ')\n",
    "Qualification = input('Enter you qualification: ')\n",
    "\n",
    "print(name,Age,Qualification)"
   ]
  },
  {
   "cell_type": "code",
   "execution_count": 120,
   "id": "3186d1a9-6ecd-4cf3-ab35-7b83030814fd",
   "metadata": {},
   "outputs": [
    {
     "name": "stdin",
     "output_type": "stream",
     "text": [
      "Enter Age:  22\n",
      "Enter Time:  3\n",
      "Enter Weight : 55\n"
     ]
    },
    {
     "name": "stdout",
     "output_type": "stream",
     "text": [
      "22\n",
      "<class 'int'>\n",
      "3\n",
      "<class 'int'>\n",
      "55.0\n",
      "<class 'float'>\n"
     ]
    }
   ],
   "source": [
    "# Type Cheacking:\n",
    "Age = int(input('Enter Age: '))\n",
    "Time = int(input('Enter Time: '))\n",
    "weight = float(input('Enter Weight :'))\n",
    "print(Age)\n",
    "print(type(Age))\n",
    "print(Time)\n",
    "print(type(Time))\n",
    "print(weight)\n",
    "print(type(weight))\n",
    "\n"
   ]
  },
  {
   "cell_type": "code",
   "execution_count": 7,
   "id": "6fbf7d76-6ce4-4d83-98c5-c92b53aab189",
   "metadata": {},
   "outputs": [
    {
     "name": "stdin",
     "output_type": "stream",
     "text": [
      "Enter Your City :  Washington dc\n"
     ]
    },
    {
     "name": "stdout",
     "output_type": "stream",
     "text": [
      "City : Washington D.C. \n",
      "Temperature 21.68 *c\n",
      "Weather : Overcast Clouds\n",
      "Humidity : 94\n",
      "Wind speed : 3.41\n"
     ]
    }
   ],
   "source": [
    "import requests\n",
    "def weather(city,api_key):\n",
    "    url = f'https://api.openweathermap.org/data/2.5/weather?q={city}&appid={api_key}&units=metric'\n",
    "    response = requests.get(url)\n",
    "    try:\n",
    "        if response.status_code==200:\n",
    "            data = response.json()\n",
    "            print(f'City : {data['name']} ')\n",
    "            print(f'Temperature {data['main']['temp']} *c')\n",
    "            print(f'Weather : {data['weather'][0]['description'].title()}')\n",
    "            print(f'Humidity : {data['main']['humidity']}')\n",
    "            print(f'Wind speed : {data['wind']['speed']}')\n",
    "        else:    \n",
    "            print('City Noy Found Error.')\n",
    "    except Exception as e:\n",
    "         print(e)\n",
    "\n",
    "Api_key = '13197b75417eab3d66da42c788af007e'\n",
    "city = input('Enter Your City : ')\n",
    "weather(city,Api_key)"
   ]
  },
  {
   "cell_type": "code",
   "execution_count": 12,
   "id": "a00fa463-1dff-4e09-b98e-b69566f2124d",
   "metadata": {},
   "outputs": [
    {
     "name": "stdout",
     "output_type": "stream",
     "text": [
      "<class 'int'>\n",
      "<class 'float'>\n",
      "101.5\n",
      "<class 'float'>\n",
      "223\n",
      "<class 'int'>\n"
     ]
    }
   ],
   "source": [
    "# Type casting :\n",
    "#Implicit : Mean The python it self change its type.\n",
    "a = 100\n",
    "b = 1.5\n",
    "print(type(a))\n",
    "print(type(b))\n",
    "# The mixture of int+float is : float By self it recognize and change\n",
    "c = a+b\n",
    "print(c)\n",
    "print(type(c))\n",
    "\n",
    "#Explicit : Mean You can change the type by yorself.\n",
    "a = '123'\n",
    "b = 100\n",
    "\n",
    "a = int(a)\n",
    "c = a+b\n",
    "print(c)\n",
    "print(type(c))"
   ]
  },
  {
   "cell_type": "markdown",
   "id": "b85b22ab-9009-4b48-a33e-7ff820b78570",
   "metadata": {},
   "source": [
    "# Problem With Solution :"
   ]
  },
  {
   "cell_type": "code",
   "execution_count": 37,
   "id": "7f8a4e04-5097-45f8-b099-785823b9454d",
   "metadata": {},
   "outputs": [
    {
     "name": "stdout",
     "output_type": "stream",
     "text": [
      "Name : Asadullah Khan\n",
      "Agec: 22\n",
      "Address : Mt khan Road New Haji Camp Sultanabad.\n"
     ]
    }
   ],
   "source": [
    "print('Name : Asadullah Khan')\n",
    "print('Agec: 22')\n",
    "print('Address : Mt khan Road New Haji Camp Sultanabad.')"
   ]
  },
  {
   "cell_type": "code",
   "execution_count": 39,
   "id": "953fd6a4-2b38-45e4-b384-cfc82f81547f",
   "metadata": {},
   "outputs": [
    {
     "name": "stdout",
     "output_type": "stream",
     "text": [
      "Before Swapping : Asad\n",
      "Before Swapping : Saad\n",
      "After Swapping :  Saad\n",
      "After Swapping :  Asad\n"
     ]
    }
   ],
   "source": [
    "a = 'Asad'\n",
    "b = 'Saad'\n",
    "\n",
    "print('Before Swapping :',a)\n",
    "print('Before Swapping :',b)\n",
    "\n",
    "a , b = b , a\n",
    "print('After Swapping : ',a)\n",
    "print('After Swapping : ',b)"
   ]
  },
  {
   "cell_type": "code",
   "execution_count": 43,
   "id": "d2822692-6cfd-42cd-9d46-d4f88e575f80",
   "metadata": {},
   "outputs": [
    {
     "name": "stdout",
     "output_type": "stream",
     "text": [
      "<class 'float'>\n",
      "<class 'int'>\n"
     ]
    }
   ],
   "source": [
    "f = 3.5\n",
    "print(type(f))\n",
    "\n",
    "f = int(f)\n",
    "print(type(f))"
   ]
  },
  {
   "cell_type": "code",
   "execution_count": 45,
   "id": "44ca092b-c769-437e-9274-24964d9a443d",
   "metadata": {},
   "outputs": [
    {
     "name": "stdin",
     "output_type": "stream",
     "text": [
      "Enter Your Name :  Asadkhan\n",
      "Enter Your Id:  222\n"
     ]
    },
    {
     "name": "stdout",
     "output_type": "stream",
     "text": [
      "Stu Nameis :  Asadkhan\n",
      "Stu Id Is :  222\n"
     ]
    }
   ],
   "source": [
    "name = input('Enter Your Name : ')\n",
    "Id = int(input('Enter Your Id: ') )\n",
    "print('Stu Nameis : ',name)\n",
    "print('Stu Id Is : ',Id)"
   ]
  },
  {
   "cell_type": "code",
   "execution_count": 47,
   "id": "afac4ee8-e6eb-453c-bf83-e15fbaf0df26",
   "metadata": {},
   "outputs": [
    {
     "name": "stdin",
     "output_type": "stream",
     "text": [
      "Enter Your Id:  12345\n"
     ]
    },
    {
     "name": "stdout",
     "output_type": "stream",
     "text": [
      "12345.0\n"
     ]
    }
   ],
   "source": [
    "Id = int(input('Enter Your Id: ') )\n",
    "Id = float(Id)\n",
    "print(Id)"
   ]
  },
  {
   "cell_type": "markdown",
   "id": "106939a3-814f-40fb-aa01-b50aab83bb53",
   "metadata": {},
   "source": [
    "# Operater And Operand :"
   ]
  },
  {
   "cell_type": "code",
   "execution_count": 50,
   "id": "06c28fed-3b46-4d6c-a431-a356bf957b23",
   "metadata": {},
   "outputs": [],
   "source": [
    "# Operater : Jo task Perform karta hy .\n",
    "# Operand : Jin Ke Upper task Perform Hota hy .\n",
    "\n",
    "# Types Of Operaters Are :\n",
    "# 1 - Arethematic operater \n",
    "# 2 - Comparission Operater\n",
    "# 3 - Logical Operater\n",
    "# 4 - Assignment Operater \n",
    "# 5 - Identity Operatter\n",
    "# 6 - Membership operater\n",
    "# 7 - Bitwise Operater"
   ]
  },
  {
   "cell_type": "markdown",
   "id": "6441d1d8-3c31-41a5-ac39-a0e66ca83c8c",
   "metadata": {},
   "source": [
    "# Arethematic Operaters :"
   ]
  },
  {
   "cell_type": "code",
   "execution_count": 59,
   "id": "f9ae8824-77b6-473f-a737-36727ed10d7d",
   "metadata": {},
   "outputs": [
    {
     "name": "stdout",
     "output_type": "stream",
     "text": [
      "Adding two numbers Using : + 3000\n",
      "Multiplying Two Numbers Using : * 2000\n",
      "Division Of Two numbers Using : / 33.333333333333336\n",
      "Division Of Two numbers Using : / 33\n",
      "Sub Of Two Numbers Using : - 900\n",
      "Eponetial of Two Numbers Using : ** 3200000\n",
      "Modulous Of Two Numbers Using : % 0\n"
     ]
    }
   ],
   "source": [
    "Add = 1000+2000\n",
    "print('Adding two numbers Using : +',Add)\n",
    "\n",
    "Mul = 1000*2\n",
    "print('Multiplying Two Numbers Using : *',Mul)\n",
    "\n",
    "Div = 100/3 # Float Division\n",
    "print('Division Of Two numbers Using : /' ,Div)\n",
    "\n",
    "Div = 100//3 # Floor Division\n",
    "print('Division Of Two numbers Using : /' ,Div)\n",
    "\n",
    "Sub = 1000-100\n",
    "print('Sub Of Two Numbers Using : -',Sub)\n",
    "\n",
    "Exp = 20**5\n",
    "print('Eponetial of Two Numbers Using : **', Exp)\n",
    "\n",
    "Mod = 100%5\n",
    "print('Modulous Of Two Numbers Using : %',Mod)\n"
   ]
  },
  {
   "cell_type": "markdown",
   "id": "a6d8979a-7656-474b-a432-15e9a1e29977",
   "metadata": {},
   "source": [
    "# Comparision Operater :\n",
    "- Answer Should be come as a Boolean."
   ]
  },
  {
   "cell_type": "code",
   "execution_count": 90,
   "id": "8c2789b6-60b6-4622-83a1-5d1aa90b956e",
   "metadata": {},
   "outputs": [
    {
     "name": "stdout",
     "output_type": "stream",
     "text": [
      "Greater Than :  True\n",
      "Greater Than & Equal to :  False\n",
      "Less Than :  False\n",
      "Equal To :  False\n",
      "Not Equal To :  True\n"
     ]
    }
   ],
   "source": [
    "print('Greater Than : ',10>5>3)\n",
    "print('Greater Than & Equal to : ',10>=3>=3<=2)\n",
    "\n",
    "print('Less Than : ', 20<10)\n",
    "print('Equal To : ',100 == 200)\n",
    "\n",
    "print('Not Equal To : ',10!=20)"
   ]
  },
  {
   "cell_type": "markdown",
   "id": "b6ade96e-4c9c-4d19-849c-be64befe025b",
   "metadata": {},
   "source": [
    "# Logical operaters:\n",
    "- Answer Should be come as a Boolean."
   ]
  },
  {
   "cell_type": "code",
   "execution_count": 117,
   "id": "fc5aa051-2893-42e1-8d5f-f27698b41a94",
   "metadata": {},
   "outputs": [
    {
     "name": "stdout",
     "output_type": "stream",
     "text": [
      "Using of or operater:  True\n",
      "Using of Not Operater : False\n",
      "Using of Not Operater : True\n",
      "Using of And Operater : True\n",
      "Using of And Operater : False\n",
      "Using of And Operater : True\n"
     ]
    }
   ],
   "source": [
    "print('Using of or operater: ',100>200 or 200>100)\n",
    "\n",
    "print('Using of Not Operater :',not(100>200 or 200>100))\n",
    "print('Using of Not Operater :',not(100>200 or 200<100))\n",
    "\n",
    "print('Using of And Operater :' , (100 == 100) & (2000>1000))\n",
    "print('Using of And Operater :' , (10 >= 100) & (2000>1000))\n",
    "\n",
    "print('Using of And Operater :' , not((10 >= 100) & (2000>1000)))\n",
    "\n",
    "\n"
   ]
  },
  {
   "cell_type": "markdown",
   "id": "159386e5-35b2-46d4-848d-e30cf6d5b6b9",
   "metadata": {},
   "source": [
    "# Assignment  Operater:"
   ]
  },
  {
   "cell_type": "code",
   "execution_count": 23,
   "id": "90030f21-cbc9-40d2-9a04-aa9ecd6b9491",
   "metadata": {},
   "outputs": [
    {
     "name": "stdout",
     "output_type": "stream",
     "text": [
      "Is Equal To Operater : =  200\n",
      "Plus Equal To Increment:  9\n",
      "Minus Equal To Decrement 5\n",
      "Multiply Equal To Power Add 30\n"
     ]
    }
   ],
   "source": [
    "a = 200  \n",
    "print('Is Equal To Operater : = ', a )\n",
    "\n",
    "a = 5\n",
    "a+=4\n",
    "print('Plus Equal To Increment: ',a)\n",
    "\n",
    "a = 10\n",
    "a-=5\n",
    "print('Minus Equal To Decrement',a)\n",
    "\n",
    "a = 10\n",
    "a*=3\n",
    "print('Multiply Equal To Power Add',a)\n"
   ]
  },
  {
   "cell_type": "markdown",
   "id": "aba20be5-f936-42e2-9fd3-e0bb1f4b46b6",
   "metadata": {},
   "source": [
    "# Identity Operater :\n",
    "- Cheack The Type Of Two objects : is(str == str) , is(int == ins)\n",
    "- Check The Id Both Are Store on same ID "
   ]
  },
  {
   "cell_type": "code",
   "execution_count": 68,
   "id": "3d98c771-eae5-4572-8312-0a25c96197da",
   "metadata": {},
   "outputs": [
    {
     "name": "stdout",
     "output_type": "stream",
     "text": [
      "10\n",
      "10\n",
      "True\n",
      "False\n",
      "True\n",
      "True\n",
      "False\n",
      "True\n",
      "False\n",
      "True\n"
     ]
    },
    {
     "name": "stderr",
     "output_type": "stream",
     "text": [
      "<>:11: SyntaxWarning: \"is\" with 'int' literal. Did you mean \"==\"?\n",
      "<>:15: SyntaxWarning: \"is not\" with 'int' literal. Did you mean \"!=\"?\n",
      "<>:11: SyntaxWarning: \"is\" with 'int' literal. Did you mean \"==\"?\n",
      "<>:15: SyntaxWarning: \"is not\" with 'int' literal. Did you mean \"!=\"?\n",
      "C:\\Users\\ADMIN\\AppData\\Local\\Temp\\ipykernel_10460\\3967490756.py:11: SyntaxWarning: \"is\" with 'int' literal. Did you mean \"==\"?\n",
      "  print(10 is 20)\n",
      "C:\\Users\\ADMIN\\AppData\\Local\\Temp\\ipykernel_10460\\3967490756.py:15: SyntaxWarning: \"is not\" with 'int' literal. Did you mean \"!=\"?\n",
      "  print(100 is not  200)\n"
     ]
    }
   ],
   "source": [
    "a = 10\n",
    "b = 10\n",
    "print(b)\n",
    "b == b\n",
    "print(b)\n",
    "print(a is b)\n",
    "\n",
    "\n",
    "\n",
    "\n",
    "print(10 is 20)\n",
    "print(a is b)\n",
    "\n",
    "\n",
    "print(100 is not  200)\n",
    "print(a is not b)\n",
    "print(a+1 is not b)\n",
    "\n",
    "\n",
    "\n",
    "\n",
    "a = 10\n",
    "b = 10.5\n",
    "\n",
    "print(type(a) is type(b) )\n",
    "print(type(a) is not type(b) )\n"
   ]
  },
  {
   "cell_type": "markdown",
   "id": "4462ba0f-42ea-4b48-8633-b347588b8ff1",
   "metadata": {},
   "source": [
    "# Bit Wise Operater :\n",
    "- works on binnary numbers\n",
    "- And : Is works on binnary means if both are 1 & 1. It Should Be be True On The Last Operand Value.\n",
    "- or : Or Operater is True On First operand in modt of the time : It would be 0 or 1 and 1 or 0"
   ]
  },
  {
   "cell_type": "code",
   "execution_count": 134,
   "id": "a5859b55-c454-4338-a668-d3f309612def",
   "metadata": {},
   "outputs": [
    {
     "name": "stdout",
     "output_type": "stream",
     "text": [
      "0b100011\n",
      "8\n",
      "False\n",
      "2\n",
      "2\n"
     ]
    }
   ],
   "source": [
    "print(bin(35))\n",
    "\n",
    "a= 10 \n",
    "b = 8\n",
    "\n",
    "print(a & b)\n",
    "\n",
    "a = True \n",
    "b = False\n",
    "\n",
    "print(a & b)\n",
    "print( 10 & 19)\n",
    "\n",
    "B = 'Burger'\n",
    "C = \"Cat\"\n",
    "\n",
    "print(len(B) & len(C))\n"
   ]
  },
  {
   "cell_type": "code",
   "execution_count": 224,
   "id": "7e59178f-8e49-4f3c-a73f-c271095e9df0",
   "metadata": {},
   "outputs": [
    {
     "name": "stdout",
     "output_type": "stream",
     "text": [
      "10\n",
      "False\n",
      "True\n",
      "True\n",
      "2\n"
     ]
    }
   ],
   "source": [
    "# Or Operater\n",
    "a = 10\n",
    "b = 4\n",
    "\n",
    "print(a or b)\n",
    "\n",
    "a = False\n",
    "b = False\n",
    "print(a or b)\n",
    "\n",
    "a = True\n",
    "b = False\n",
    "print(a or b)\n",
    "\n",
    "\n",
    "a = False\n",
    "b = True\n",
    "print(a or b)\n",
    "\n",
    "\n",
    "l = ['Asad','Saad','Khan','saif','set','set']\n",
    "m = ['Asad','Saad','khan','Saif']\n",
    "s = [1,2,3]\n",
    "\n",
    "print(len(l) & len(s))"
   ]
  },
  {
   "cell_type": "markdown",
   "id": "4c547abf-e068-49c9-8c6e-55b5eb2db5b5",
   "metadata": {},
   "source": [
    "#  Membership Operater : \n",
    "- In\n",
    "- not in"
   ]
  },
  {
   "cell_type": "code",
   "execution_count": 287,
   "id": "3de3d32c-1994-413b-9bd3-0b414d37db2d",
   "metadata": {},
   "outputs": [
    {
     "name": "stdout",
     "output_type": "stream",
     "text": [
      "True\n",
      "True\n"
     ]
    }
   ],
   "source": [
    "l = ['Asad','Saad','Khan','saif','set','set']\n",
    "print(('set' or 'Saad') in l)\n",
    "\n",
    "print(l[1] in l)"
   ]
  },
  {
   "cell_type": "code",
   "execution_count": 295,
   "id": "02926327-8095-4753-9e88-501b1d759088",
   "metadata": {},
   "outputs": [
    {
     "name": "stdout",
     "output_type": "stream",
     "text": [
      "True\n"
     ]
    }
   ],
   "source": [
    "print( 'A' in 'Aaif')"
   ]
  },
  {
   "cell_type": "code",
   "execution_count": null,
   "id": "648e71bc-adab-401e-9ff7-1e277157d7fb",
   "metadata": {},
   "outputs": [],
   "source": []
  }
 ],
 "metadata": {
  "kernelspec": {
   "display_name": "Python [conda env:base] *",
   "language": "python",
   "name": "conda-base-py"
  },
  "language_info": {
   "codemirror_mode": {
    "name": "ipython",
    "version": 3
   },
   "file_extension": ".py",
   "mimetype": "text/x-python",
   "name": "python",
   "nbconvert_exporter": "python",
   "pygments_lexer": "ipython3",
   "version": "3.12.7"
  }
 },
 "nbformat": 4,
 "nbformat_minor": 5
}
