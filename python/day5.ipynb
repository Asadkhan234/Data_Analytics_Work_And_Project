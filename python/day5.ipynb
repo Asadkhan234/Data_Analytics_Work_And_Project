{
 "cells": [
  {
   "cell_type": "markdown",
   "id": "6ed3e3e3-42f2-44e0-9bc0-d7448fd0c9d6",
   "metadata": {},
   "source": [
    "# Functions :"
   ]
  },
  {
   "cell_type": "code",
   "execution_count": 5,
   "id": "298c534b-25a7-4438-bb98-55efd136f119",
   "metadata": {},
   "outputs": [
    {
     "name": "stdout",
     "output_type": "stream",
     "text": [
      "Hellow Mr:Asad . Wellcome TO Pakistan\n"
     ]
    }
   ],
   "source": [
    "def greet(greet,name,country):\n",
    "    print(f'{greet} Mr:{name} . Wellcome TO {country}')\n",
    "\n",
    "greet('Hellow','Asad','Pakistan')"
   ]
  },
  {
   "cell_type": "code",
   "execution_count": 9,
   "id": "e6f56c3a-a091-46ac-8657-43986ccfd352",
   "metadata": {},
   "outputs": [],
   "source": [
    "# Make A Text Analyzer Usin Function : len , words , sentences , paragraphs , etc"
   ]
  },
  {
   "cell_type": "code",
   "execution_count": 41,
   "id": "cce5dd36-fe2c-4f74-b34a-522dff60de9a",
   "metadata": {},
   "outputs": [],
   "source": [
    "def analyzer(txt):\n",
    "    length = len(txt)\n",
    "    words = txt.split()\n",
    "    sentences = [s for s in txt.split('.') if s.strip()]\n",
    "    paragraphs = [p for p in txt.split('\\n') if p.strip()]\n",
    "\n",
    "\n",
    "\n",
    "\n",
    "    # Counters :\n",
    "    alphabets = 0\n",
    "    spaces = 0\n",
    "    numbers = 0\n",
    "    lower = 0\n",
    "    upper = 0\n",
    "    vowels = 0\n",
    "    others = 0\n",
    "    vow = ['a','e','i','o','u']\n",
    "\n",
    "\n",
    "\n",
    "    for char in txt:\n",
    "        if char.isalpha():\n",
    "            alphabets+=1\n",
    "            if char in vow:\n",
    "                vowels+=1\n",
    "            if char.islower():\n",
    "                lower+=1\n",
    "            elif char.isupper():\n",
    "                upper+=1\n",
    "        elif char.isspace():\n",
    "            spaces+=1\n",
    "        elif char.isnumeric():\n",
    "            numbers+=1\n",
    "        else:\n",
    "            others+=1\n",
    "\n",
    "\n",
    " # Final summary output\n",
    "    print(f'''\n",
    "Text Analysis Summary:\n",
    "----------------------\n",
    "Total characters       : {length}\n",
    "Alphabetic characters  : {alphabets}\n",
    "Vowels                 : {vowels}\n",
    "Lowercase letters      : {lower}\n",
    "Uppercase letters      : {upper}\n",
    "Numbers                : {numbers}\n",
    "Spaces                 : {spaces}\n",
    "Other characters       : {others}\n",
    "Words                 : {len(words)}\n",
    "Sentences             : {len(sentences)}\n",
    "Paragraphs            : {len(paragraphs)}\n",
    "    ''')\n",
    "            "
   ]
  },
  {
   "cell_type": "code",
   "execution_count": 45,
   "id": "51686f2c-0543-4839-af4d-db02b8aee3b2",
   "metadata": {},
   "outputs": [
    {
     "name": "stdout",
     "output_type": "stream",
     "text": [
      "\n",
      "Text Analysis Summary:\n",
      "----------------------\n",
      "Total characters       : 632\n",
      "Alphabetic characters  : 481\n",
      "Vowels                 : 180\n",
      "Lowercase letters      : 468\n",
      "Uppercase letters      : 13\n",
      "Numbers                : 13\n",
      "Spaces                 : 124\n",
      "Other characters       : 14\n",
      "Words                 : 124\n",
      "Sentences             : 6\n",
      "Paragraphs            : 9\n",
      "    \n"
     ]
    }
   ],
   "source": [
    "analyzer('''This time we start out with an empty list of requested toppings at u.\n",
    "Instead of jumping right into a for loop, 40 we do a quick check at v. When the\n",
    "name of a list is used in an if statement, Python returns True 50 if the list con-\n",
    "tains at least one item; an empty list evaluates to False. If requested_toppings\n",
    "passes the conditional test, we run the 100 same for loop we used in the previous\n",
    "example. If the conditional test fails,300 we print a message asking the customer\n",
    "if they really want a plain pizza with no toppings w.\n",
    "The list is empty in this case, 500 so the output asks if the user really wants\n",
    "a plain pizza ASAD: ''')"
   ]
  },
  {
   "cell_type": "markdown",
   "id": "7762148c-71dd-48fe-985b-580b6a22f2cb",
   "metadata": {},
   "source": [
    "# Problems Of Function:"
   ]
  },
  {
   "cell_type": "code",
   "execution_count": 52,
   "id": "1c438d4d-47ac-4167-9653-5e9cb0545c0e",
   "metadata": {},
   "outputs": [
    {
     "name": "stdout",
     "output_type": "stream",
     "text": [
      "Value Three is greater : 30\n"
     ]
    }
   ],
   "source": [
    "# Write a function to find three max numbers:\n",
    "def maxnum(a,b,c):\n",
    "    if a>b & a>c:\n",
    "        print(f'Value one is greater : {a}')\n",
    "    elif b>a & b>c:\n",
    "        print(f'Value Two is greater : {b}')\n",
    "    else:\n",
    "        print(f'Value Three is greater : {c}')\n",
    "\n",
    "maxnum(10,20,30)"
   ]
  },
  {
   "cell_type": "code",
   "execution_count": 74,
   "id": "34f5538a-f592-401a-8357-767ba531d29d",
   "metadata": {},
   "outputs": [
    {
     "name": "stdout",
     "output_type": "stream",
     "text": [
      "[1, 4, 9, 16, 25, 36, 49, 64, 81, 100, 121, 144, 169, 196, 225, 256, 289, 324, 361, 400, 441, 484, 529, 576, 625, 676, 729, 784, 841, 900]\n"
     ]
    }
   ],
   "source": [
    "#Write a function to create and print a list where the values are square of 1 to 30\n",
    "def create_list():\n",
    "    lists =[]\n",
    "    for x in range(1,31):\n",
    "        s = x**2\n",
    "        lists.append(s)\n",
    "    print(lists)\n",
    "\n",
    "create_list()"
   ]
  },
  {
   "cell_type": "code",
   "execution_count": 104,
   "id": "0a6b1395-b142-486a-97a0-fbd66035304b",
   "metadata": {},
   "outputs": [
    {
     "name": "stdout",
     "output_type": "stream",
     "text": [
      "Prime Number.\n"
     ]
    }
   ],
   "source": [
    "# Write a function that take a parameter and check its even or prime :\n",
    "def func(num):\n",
    "    if num==1:\n",
    "        print('Its Not a prime a number.')\n",
    "    if num==2:\n",
    "        print('Its a Prime Number.')\n",
    "    if num>2:\n",
    "        for i in range(2,num):\n",
    "            if num%2==0:\n",
    "                print('Not A Prime Number.')\n",
    "                break\n",
    "        else:\n",
    "            print('Prime Number.')\n",
    "\n",
    "func(15)"
   ]
  },
  {
   "cell_type": "code",
   "execution_count": 146,
   "id": "87fdbd70-3909-4ca2-abec-c06182d83449",
   "metadata": {},
   "outputs": [
    {
     "name": "stdout",
     "output_type": "stream",
     "text": [
      "60\n"
     ]
    }
   ],
   "source": [
    "# Write a function to add all numbers:\n",
    "def adde(numbers):\n",
    "    total = 0\n",
    "    for i in numbers:\n",
    "        total = total+i\n",
    "    return (total)\n",
    "print(adde([10,20,30]))\n"
   ]
  },
  {
   "cell_type": "code",
   "execution_count": 186,
   "id": "c0996325-6c9c-4381-aecb-42846bd18517",
   "metadata": {},
   "outputs": [
    {
     "name": "stdout",
     "output_type": "stream",
     "text": [
      "100\n"
     ]
    }
   ],
   "source": [
    "def add(numbers):\n",
    "    if len(numbers)==1:\n",
    "        return (numbers[0])\n",
    "    else:\n",
    "        return((numbers[0]) + add(numbers[1:]))\n",
    "\n",
    "print(add([10,20,30,40]))"
   ]
  },
  {
   "cell_type": "code",
   "execution_count": null,
   "id": "b92c84f4-d47b-4b45-9bb2-f175b04bafb0",
   "metadata": {},
   "outputs": [],
   "source": [
    "#Febonacci series :\n",
    "# 0,1,1,2,3 : every addition of back two numbers \n",
    "\n",
    "def febonacci(num):\n",
    "    if num == 1:\n",
    "        return(0)\n",
    "    if num == 2:\n",
    "        return(1)\n",
    "    else:\n",
    "        return(febonacci(num-1)+febonacci(num-2))\n",
    "\n",
    "print(febonacci(50))"
   ]
  },
  {
   "cell_type": "code",
   "execution_count": 35,
   "id": "d944798e-efb8-448f-8807-b8f8cac9e5a1",
   "metadata": {},
   "outputs": [
    {
     "name": "stdout",
     "output_type": "stream",
     "text": [
      "\n",
      "Text Analysis Summary:\n",
      "----------------------\n",
      "Total characters       : 1264\n",
      "Alphabetic characters  : 929\n",
      "Vowels                 : 332\n",
      "Lowercase letters      : 849\n",
      "Uppercase letters      : 80\n",
      "Numbers                : 34\n",
      "Spaces                 : 221\n",
      "Other characters       : 80\n",
      "Words                 : 218\n",
      "Sentences             : 14\n",
      "Paragraphs            : 16\n",
      "    \n"
     ]
    }
   ],
   "source": [
    "# Making File Analyzer :\n",
    "\n",
    "a = 'hello.txt'\n",
    "def file_data_analyzer(filename):\n",
    "    with open(filename,'r') as s:\n",
    "        content = s.read()\n",
    "        length = len(content)\n",
    "        #print('The Lengths is',length)\n",
    "        words = content.split()\n",
    "        #print('The Lengths is',words)\n",
    "        sentences = [i.strip() for i in content.split('.') if i.strip()]\n",
    "        #print('The Lengths is',sentences)\n",
    "        paragraphs = [i.strip() for i in content.split('\\n') if i.strip()]\n",
    "        #print('The Lengths is',paragraph)\n",
    "\n",
    "\n",
    "        # Counters :\n",
    "        alphabets = 0\n",
    "        spaces = 0\n",
    "        numbers = 0\n",
    "        lower = 0\n",
    "        upper = 0\n",
    "        vowels = 0\n",
    "        others = 0\n",
    "        vow = ['a','e','i','o','u']\n",
    "\n",
    "\n",
    "\n",
    "        for char in content:\n",
    "            if char.isalpha():\n",
    "                alphabets+=1\n",
    "                if char in vow:\n",
    "                    vowels+=1\n",
    "                if char.islower():\n",
    "                    lower+=1\n",
    "                elif char.isupper():\n",
    "                    upper+=1\n",
    "            elif char.isnumeric():\n",
    "                numbers+=1\n",
    "            elif char.isspace():\n",
    "                spaces+=1\n",
    "            else:\n",
    "                others+=1\n",
    "\n",
    "\n",
    "\n",
    "# Final summary output\n",
    "    print(f'''\n",
    "Text Analysis Summary:\n",
    "----------------------\n",
    "Total characters       : {length}\n",
    "Alphabetic characters  : {alphabets}\n",
    "Vowels                 : {vowels}\n",
    "Lowercase letters      : {lower}\n",
    "Uppercase letters      : {upper}\n",
    "Numbers                : {numbers}\n",
    "Spaces                 : {spaces}\n",
    "Other characters       : {others}\n",
    "Words                 : {len(words)}\n",
    "Sentences             : {len(sentences)}\n",
    "Paragraphs            : {len(paragraphs)}\n",
    "    ''')\n",
    "\n",
    "\n",
    "\n",
    "\n",
    "\n",
    "file_data_analyzer(a)"
   ]
  },
  {
   "cell_type": "markdown",
   "id": "09f17f49-4286-4cc6-916b-36889c8aeb3c",
   "metadata": {},
   "source": [
    "# Modules : \n",
    "- There Are Two Types Of modules :\n",
    "- Builten Modules .\n",
    "- User Builten Modules."
   ]
  },
  {
   "cell_type": "markdown",
   "id": "e5ec8db3-93a3-487d-94ee-012a129a9380",
   "metadata": {},
   "source": [
    "# Builten Modules :\n",
    "- Datetime\n",
    "- Random\n",
    "- Math"
   ]
  },
  {
   "cell_type": "code",
   "execution_count": 126,
   "id": "528b727b-b4b8-431c-9a6b-2858a2186562",
   "metadata": {},
   "outputs": [
    {
     "name": "stdout",
     "output_type": "stream",
     "text": [
      "2025-08-13 16:16:30.023870\n",
      "2025-08-13 16:16:30.023870+05:00\n",
      "Wed Aug 13 16:16:30 2025\n",
      "None\n",
      "0\n",
      "datetime.IsoCalendarDate(year=2025, week=33, weekday=3)\n",
      "2025-08-13T16:16:30.023870\n",
      "9999-12-31 23:59:59.999999\n",
      "None\n",
      "1999-05-08 00:00:00\n",
      "Saturday\n",
      "Sat\n",
      "May\n",
      "19\n",
      "99\n",
      "05\n"
     ]
    }
   ],
   "source": [
    "import datetime\n",
    "\n",
    "x = datetime.datetime.now()\n",
    "\n",
    "print(x)\n",
    "\n",
    "print(x.astimezone())\n",
    "#print(x.combine())\n",
    "print(x.ctime())\n",
    "print(x.dst())\n",
    "print(x.fold)\n",
    "#print(x.fromisocalendar('2024-4-5'))\n",
    "print(x.isocalendar())\n",
    "#print(x.fromtimestamp())\n",
    "print(x.isoformat())\n",
    "print(x.max)\n",
    "print(x.tzname())\n",
    "\n",
    "\n",
    "\n",
    "a = datetime.datetime(1999,5,8)\n",
    "print(a)\n",
    "print(a.strftime('%A'))\n",
    "print(a.strftime('%a'))\n",
    "print(a.strftime('%B'))\n",
    "print(a.strftime('%C'))\n",
    "print(a.strftime('%y'))\n",
    "print(a.strftime('%m'))"
   ]
  },
  {
   "cell_type": "code",
   "execution_count": 22,
   "id": "91d27c60-c45e-456e-9afc-b69d1f8016d2",
   "metadata": {},
   "outputs": [
    {
     "name": "stdout",
     "output_type": "stream",
     "text": [
      "33 35 32\n",
      "B is greter .\n"
     ]
    }
   ],
   "source": [
    "import random\n",
    "\n",
    "a = random.randint(1,10)\n",
    "#print(a)\n",
    "\n",
    "\n",
    "\n",
    "l = ['Asad', 'Saad', 'Zaid']\n",
    "a = 0\n",
    "b = 0\n",
    "c = 0\n",
    "\n",
    "for _ in range(100):  # run 1000 iterations\n",
    "    r = random.choice(l)\n",
    "    if r == 'Asad':\n",
    "        a += 1\n",
    "    elif r == 'Saad':\n",
    "        b += 1\n",
    "    elif r == 'Zaid':\n",
    "        c += 1\n",
    "\n",
    "print(a, b, c)\n",
    "\n",
    "if a>b & a>c:\n",
    "    print('A is greater.')\n",
    "\n",
    "elif b>a & b>c:\n",
    "    print('B is greter .')\n",
    "\n",
    "else:\n",
    "    print('C is greter.')\n"
   ]
  },
  {
   "cell_type": "code",
   "execution_count": null,
   "id": "6d7dc290-23a1-4874-af15-3eb8d9dfc9ec",
   "metadata": {},
   "outputs": [],
   "source": []
  }
 ],
 "metadata": {
  "kernelspec": {
   "display_name": "Python [conda env:base] *",
   "language": "python",
   "name": "conda-base-py"
  },
  "language_info": {
   "codemirror_mode": {
    "name": "ipython",
    "version": 3
   },
   "file_extension": ".py",
   "mimetype": "text/x-python",
   "name": "python",
   "nbconvert_exporter": "python",
   "pygments_lexer": "ipython3",
   "version": "3.12.7"
  }
 },
 "nbformat": 4,
 "nbformat_minor": 5
}
