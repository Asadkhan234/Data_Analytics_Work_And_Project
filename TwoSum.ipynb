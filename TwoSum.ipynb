{
 "cells": [
  {
   "cell_type": "code",
   "execution_count": 14,
   "id": "ba43985f-4126-4395-9a76-eb2e93aa6e01",
   "metadata": {},
   "outputs": [],
   "source": [
    "def two(nums,target):\n",
    "    num_dict = {}\n",
    "    for i,num in enumerate(nums):\n",
    "        compliment = target - num\n",
    "        if compliment in num_dict:\n",
    "            return [num_dict[compliment],i]\n",
    "        num_dict[num] = i   \n",
    "    return ['Soory']"
   ]
  },
  {
   "cell_type": "code",
   "execution_count": 26,
   "id": "83ed74b3-68f2-4c5f-8473-35195f8e0448",
   "metadata": {},
   "outputs": [
    {
     "data": {
      "text/plain": [
       "[0, 1]"
      ]
     },
     "execution_count": 26,
     "metadata": {},
     "output_type": "execute_result"
    }
   ],
   "source": [
    "two([2,7,11,15],9)"
   ]
  },
  {
   "cell_type": "code",
   "execution_count": 30,
   "id": "9af3af24-7e74-4544-b31a-2078a98906bc",
   "metadata": {},
   "outputs": [
    {
     "data": {
      "text/plain": [
       "[1, 2]"
      ]
     },
     "execution_count": 30,
     "metadata": {},
     "output_type": "execute_result"
    }
   ],
   "source": [
    "two([3,2,4],6)"
   ]
  },
  {
   "cell_type": "code",
   "execution_count": 34,
   "id": "369586d0-ff47-44fc-b20c-d0f35ba8e2e8",
   "metadata": {},
   "outputs": [
    {
     "data": {
      "text/plain": [
       "[0, 1]"
      ]
     },
     "execution_count": 34,
     "metadata": {},
     "output_type": "execute_result"
    }
   ],
   "source": [
    "two([3,3],6)"
   ]
  },
  {
   "cell_type": "code",
   "execution_count": 50,
   "id": "b5ef3ac7-eb86-4540-91b9-c1705fcf1d7c",
   "metadata": {},
   "outputs": [
    {
     "data": {
      "text/plain": [
       "9"
      ]
     },
     "execution_count": 50,
     "metadata": {},
     "output_type": "execute_result"
    }
   ],
   "source": [
    "s = 19\n",
    "s%10"
   ]
  },
  {
   "cell_type": "code",
   "execution_count": null,
   "id": "e0449b45-9dee-4a09-bad7-14f3de0e0160",
   "metadata": {},
   "outputs": [],
   "source": []
  }
 ],
 "metadata": {
  "kernelspec": {
   "display_name": "Python [conda env:pyfix]",
   "language": "python",
   "name": "conda-env-pyfix-py"
  },
  "language_info": {
   "codemirror_mode": {
    "name": "ipython",
    "version": 3
   },
   "file_extension": ".py",
   "mimetype": "text/x-python",
   "name": "python",
   "nbconvert_exporter": "python",
   "pygments_lexer": "ipython3",
   "version": "3.10.18"
  }
 },
 "nbformat": 4,
 "nbformat_minor": 5
}
