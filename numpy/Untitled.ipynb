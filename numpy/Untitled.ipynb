{
 "cells": [
  {
   "cell_type": "markdown",
   "id": "59243ac9-59a2-4883-b872-2e3b619a8799",
   "metadata": {},
   "source": [
    "# Statistical Functions :"
   ]
  },
  {
   "cell_type": "code",
   "execution_count": 3,
   "id": "937fb20e-025f-4a8c-985d-160f778c7dac",
   "metadata": {},
   "outputs": [],
   "source": [
    "import numpy as np\n",
    "import statistics as stats\n"
   ]
  },
  {
   "cell_type": "code",
   "execution_count": 31,
   "id": "8c44f292-ab60-4d37-92f7-4e038674056b",
   "metadata": {},
   "outputs": [
    {
     "name": "stdout",
     "output_type": "stream",
     "text": [
      "160.0\n",
      "160.0\n",
      "100\n",
      "42.589774463935456\n",
      "1813.888888888889\n"
     ]
    }
   ],
   "source": [
    "backed_food = np.array([100,120,150,170,200,220])\n",
    "\n",
    "print(np.mean(backed_food)) # The add of all values/number of values\n",
    "print(np.median(backed_food)) #Its a central value after sorting\n",
    "print(stats.mode(a))# Its mean 100 occurence is high or equally\n",
    "print(np.std(a)) #It shows your mean values are kareeb kareeb.if it is small.\n",
    "print(np.var(a)) # sqaure off std."
   ]
  },
  {
   "cell_type": "code",
   "execution_count": 45,
   "id": "b04d71fc-6f48-4c8c-bed5-c6d9adc36980",
   "metadata": {},
   "outputs": [
    {
     "name": "stdout",
     "output_type": "stream",
     "text": [
      "[[1.         0.99537548]\n",
      " [0.99537548 1.        ]]\n"
     ]
    }
   ],
   "source": [
    "Rates_jewllry = np.array([100000,200000,250000,300000,360000,365000])\n",
    "years = [2000,2010,2015,2020,2023,2025]\n",
    "\n",
    "c = np.corrcoef([Rates_jewllry,years])\n",
    "print(c)"
   ]
  },
  {
   "cell_type": "code",
   "execution_count": 49,
   "id": "c37cb5a3-5d7c-4f42-8339-98f23fd1402b",
   "metadata": {},
   "outputs": [
    {
     "name": "stdout",
     "output_type": "stream",
     "text": [
      "[[ 1.         -0.09212404]\n",
      " [-0.09212404  1.        ]]\n"
     ]
    }
   ],
   "source": [
    "prices = np.array([300,100,350,150,200,220])\n",
    "sales = [20,10,3,11,15,20]\n",
    "\n",
    "c = np.corrcoef([prices,sales])\n",
    "print(c)"
   ]
  },
  {
   "cell_type": "code",
   "execution_count": null,
   "id": "cae5530b-a74c-41d1-a279-4ab3add2cac4",
   "metadata": {},
   "outputs": [],
   "source": []
  }
 ],
 "metadata": {
  "kernelspec": {
   "display_name": "Python [conda env:base] *",
   "language": "python",
   "name": "conda-base-py"
  },
  "language_info": {
   "codemirror_mode": {
    "name": "ipython",
    "version": 3
   },
   "file_extension": ".py",
   "mimetype": "text/x-python",
   "name": "python",
   "nbconvert_exporter": "python",
   "pygments_lexer": "ipython3",
   "version": "3.12.7"
  }
 },
 "nbformat": 4,
 "nbformat_minor": 5
}
