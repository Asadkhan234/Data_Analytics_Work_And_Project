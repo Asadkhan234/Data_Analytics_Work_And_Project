{
 "cells": [
  {
   "cell_type": "code",
   "execution_count": 2,
   "id": "9cdc356e-3dbb-47f0-afc9-494896edb284",
   "metadata": {},
   "outputs": [],
   "source": [
    "#we cant perform methematical functions directly in List \n",
    "#we can perforn methematical functions directly in Array.\n",
    "#We use array in numpy\n",
    "#muti type arrays are here."
   ]
  },
  {
   "cell_type": "code",
   "execution_count": 16,
   "id": "5b66de6c-7a2e-4cc7-810c-dfd3580b83af",
   "metadata": {},
   "outputs": [
    {
     "name": "stdout",
     "output_type": "stream",
     "text": [
      "[10, 20, 30, 40, 50]\n",
      "<class 'list'>\n",
      "[[10, 20], [40, 50, 60], [10, 20], [40, 50, 60]]\n"
     ]
    }
   ],
   "source": [
    "l = [10,20,30,40,50]\n",
    "print(l)\n",
    "print(type(l))\n",
    "\n",
    "l = [[10,20],[40,50,60]]\n",
    "l\n",
    "print(l*2)"
   ]
  },
  {
   "cell_type": "code",
   "execution_count": 34,
   "id": "e91f8041-821e-4148-93f1-90f91d1d6435",
   "metadata": {},
   "outputs": [
    {
     "name": "stdout",
     "output_type": "stream",
     "text": [
      "[[10 20 30]\n",
      " [40 50 60]]\n",
      "[[ 20  40  60]\n",
      " [ 80 100 120]]\n"
     ]
    },
    {
     "data": {
      "text/plain": [
       "array([40, 50, 60])"
      ]
     },
     "execution_count": 34,
     "metadata": {},
     "output_type": "execute_result"
    }
   ],
   "source": [
    "#array:\n",
    "import numpy as np\n",
    "l = np.array([[10,20,30],[40,50,60]])\n",
    "print(l)\n",
    "print(l*2)\n",
    "l[1]"
   ]
  },
  {
   "cell_type": "code",
   "execution_count": 40,
   "id": "4ce3d8b3-6bf1-4395-9c1f-e6643fea2fe3",
   "metadata": {},
   "outputs": [
    {
     "name": "stdout",
     "output_type": "stream",
     "text": [
      "Single Array  ============>  [10 20 30 40 50] <class 'numpy.ndarray'>\n"
     ]
    }
   ],
   "source": [
    "# Single Array :\n",
    "a = np.array([10,20,30,40,50])\n",
    "print(\"Single Array  ============> \",a,type(a))"
   ]
  },
  {
   "cell_type": "code",
   "execution_count": 48,
   "id": "dab84275-8529-42c5-9dce-1f33e326a653",
   "metadata": {},
   "outputs": [
    {
     "name": "stdout",
     "output_type": "stream",
     "text": [
      "Multi dimensions Array =========>\n",
      "[[10 20 30]\n",
      " [40 50 60]\n",
      " [70 80 90]] <class 'numpy.ndarray'>\n"
     ]
    }
   ],
   "source": [
    "# Multi Array:\n",
    "m = np.array([[10,20,30,],[40,50,60],[70,80,90]])\n",
    "print('Multi dimensions Array =========>')\n",
    "print(m,type(m))"
   ]
  },
  {
   "cell_type": "code",
   "execution_count": 60,
   "id": "f7b635af-8efb-4856-9560-437383058d99",
   "metadata": {},
   "outputs": [
    {
     "name": "stdout",
     "output_type": "stream",
     "text": [
      "[[10 20 30]\n",
      " [40 50 60]]\n"
     ]
    }
   ],
   "source": [
    "e = np.array([[10,20,30],[40,50,60]])\n",
    "print(e)"
   ]
  },
  {
   "cell_type": "code",
   "execution_count": 100,
   "id": "1ad3f052-d60a-4039-9f8c-9daf6b1772be",
   "metadata": {},
   "outputs": [
    {
     "name": "stdout",
     "output_type": "stream",
     "text": [
      "[10]\n",
      "[30 40]\n",
      "[50 60 70 80]\n",
      "[40 50 60]\n",
      "60\n",
      "[60]\n"
     ]
    }
   ],
   "source": [
    "# Slicing : \n",
    "a = np.array([10,20,30,40,50,60,70,80])\n",
    "print(a[0:1])\n",
    "print(a[2:4])\n",
    "print(a[4:8])\n",
    "print(a[-5:-2])\n",
    "print(a[5])\n",
    "print(a[-3:-2])"
   ]
  },
  {
   "cell_type": "code",
   "execution_count": 350,
   "id": "6c7b9135-1cb4-4791-bf4e-a3cd88ea9136",
   "metadata": {},
   "outputs": [
    {
     "data": {
      "text/plain": [
       "array([[ 0,  1,  2,  3,  4],\n",
       "       [ 5,  6,  7,  8,  9],\n",
       "       [10, 11, 12, 13, 14],\n",
       "       [15, 16, 17, 18, 19],\n",
       "       [20, 21, 22, 23, 24]])"
      ]
     },
     "execution_count": 350,
     "metadata": {},
     "output_type": "execute_result"
    }
   ],
   "source": [
    "m = np.array([[10,20,30,],[40,50,60],[70,80,90]])\n",
    "#print(m)\n",
    "\n",
    "import numpy as np\n",
    "arra2d = np.arange(25).reshape(5,5)\n",
    "arra2d\n"
   ]
  },
  {
   "cell_type": "code",
   "execution_count": 361,
   "id": "4845e03e-b1e0-4306-b3a3-177e136bc979",
   "metadata": {},
   "outputs": [
    {
     "data": {
      "text/plain": [
       "np.int64(12)"
      ]
     },
     "execution_count": 361,
     "metadata": {},
     "output_type": "execute_result"
    }
   ],
   "source": [
    "arra2d[2,2] "
   ]
  },
  {
   "cell_type": "code",
   "execution_count": 365,
   "id": "92f05346-a5fa-4287-8473-0bcf52f3cc7b",
   "metadata": {},
   "outputs": [
    {
     "data": {
      "text/plain": [
       "np.int64(24)"
      ]
     },
     "execution_count": 365,
     "metadata": {},
     "output_type": "execute_result"
    }
   ],
   "source": [
    "arra2d[4,4]"
   ]
  },
  {
   "cell_type": "code",
   "execution_count": 367,
   "id": "2294a83b-304d-4831-a457-67772107e047",
   "metadata": {},
   "outputs": [
    {
     "data": {
      "text/plain": [
       "array([[[ 0,  1,  2,  3,  4,  5,  6,  7],\n",
       "        [ 8,  9, 10, 11, 12, 13, 14, 15],\n",
       "        [16, 17, 18, 19, 20, 21, 22, 23],\n",
       "        [24, 25, 26, 27, 28, 29, 30, 31]],\n",
       "\n",
       "       [[32, 33, 34, 35, 36, 37, 38, 39],\n",
       "        [40, 41, 42, 43, 44, 45, 46, 47],\n",
       "        [48, 49, 50, 51, 52, 53, 54, 55],\n",
       "        [56, 57, 58, 59, 60, 61, 62, 63]]])"
      ]
     },
     "execution_count": 367,
     "metadata": {},
     "output_type": "execute_result"
    }
   ],
   "source": [
    "arr3d = np.arange(64).reshape(2,4,8)\n",
    "arr3d"
   ]
  },
  {
   "cell_type": "code",
   "execution_count": 375,
   "id": "874f6e45-aacd-4532-a5cf-ed2b2ba9e791",
   "metadata": {},
   "outputs": [
    {
     "data": {
      "text/plain": [
       "(np.int64(31), np.int64(63))"
      ]
     },
     "execution_count": 375,
     "metadata": {},
     "output_type": "execute_result"
    }
   ],
   "source": [
    "arr3d[0,3,7],arr3d[1,3,7]"
   ]
  },
  {
   "cell_type": "code",
   "execution_count": 410,
   "id": "fd496a09-8bc5-4260-b410-22f570cd57c7",
   "metadata": {},
   "outputs": [
    {
     "data": {
      "text/plain": [
       "array([[ 0,  1,  2,  3,  4,  5,  6,  7,  8,  9],\n",
       "       [10, 11, 12, 13, 14, 15, 16, 17, 18, 19],\n",
       "       [20, 21, 22, 23, 24, 25, 26, 27, 28, 29],\n",
       "       [30, 31, 32, 33, 34, 35, 36, 37, 38, 39],\n",
       "       [40, 41, 42, 43, 44, 45, 46, 47, 48, 49]])"
      ]
     },
     "execution_count": 410,
     "metadata": {},
     "output_type": "execute_result"
    }
   ],
   "source": [
    "arr2 = np.arange(50).reshape(5,10)\n",
    "arr2"
   ]
  },
  {
   "cell_type": "code",
   "execution_count": 436,
   "id": "5aa1de60-0fe0-4466-8600-e485ffae5a5e",
   "metadata": {},
   "outputs": [
    {
     "data": {
      "text/plain": [
       "array([[21, 22, 23, 24]])"
      ]
     },
     "execution_count": 436,
     "metadata": {},
     "output_type": "execute_result"
    }
   ],
   "source": [
    "arr2[2:3,1:5]"
   ]
  },
  {
   "cell_type": "code",
   "execution_count": 438,
   "id": "c8635cfa-b04f-4519-86bd-9260c219b132",
   "metadata": {},
   "outputs": [
    {
     "data": {
      "text/plain": [
       "array([[ 0,  1,  2],\n",
       "       [10, 11, 12],\n",
       "       [20, 21, 22],\n",
       "       [30, 31, 32]])"
      ]
     },
     "execution_count": 438,
     "metadata": {},
     "output_type": "execute_result"
    }
   ],
   "source": [
    "arr2[0:4,0:3]"
   ]
  },
  {
   "cell_type": "code",
   "execution_count": 440,
   "id": "1be558d9-f1fb-44cd-a8d3-ef2e5e0c233b",
   "metadata": {},
   "outputs": [
    {
     "data": {
      "text/plain": [
       "array([[13, 14, 15],\n",
       "       [23, 24, 25],\n",
       "       [33, 34, 35]])"
      ]
     },
     "execution_count": 440,
     "metadata": {},
     "output_type": "execute_result"
    }
   ],
   "source": [
    "arr2[1:4,3:6]"
   ]
  },
  {
   "cell_type": "code",
   "execution_count": 442,
   "id": "4bd15322-275b-4ae1-8b91-9c1d5d36b380",
   "metadata": {},
   "outputs": [
    {
     "data": {
      "text/plain": [
       "array([[ 0,  1,  2,  3,  4,  5,  6,  7,  8,  9],\n",
       "       [10, 11, 12, 13, 14, 15, 16, 17, 18, 19],\n",
       "       [20, 21, 22, 23, 24, 25, 26, 27, 28, 29],\n",
       "       [30, 31, 32, 33, 34, 35, 36, 37, 38, 39],\n",
       "       [40, 41, 42, 43, 44, 45, 46, 47, 48, 49]])"
      ]
     },
     "execution_count": 442,
     "metadata": {},
     "output_type": "execute_result"
    }
   ],
   "source": [
    "arr2"
   ]
  },
  {
   "cell_type": "code",
   "execution_count": 448,
   "id": "6a113755-4a67-4ca6-93f2-31e47f6b8087",
   "metadata": {},
   "outputs": [
    {
     "data": {
      "text/plain": [
       "array([[ 0],\n",
       "       [10],\n",
       "       [20],\n",
       "       [30],\n",
       "       [40]])"
      ]
     },
     "execution_count": 448,
     "metadata": {},
     "output_type": "execute_result"
    }
   ],
   "source": [
    "arr2[0:5,0:1]"
   ]
  },
  {
   "cell_type": "code",
   "execution_count": 480,
   "id": "ea772352-0349-4a4f-9791-018cdbf5742e",
   "metadata": {},
   "outputs": [
    {
     "name": "stdout",
     "output_type": "stream",
     "text": [
      "[3]\n",
      "[13]\n",
      "[23]\n",
      "[33]\n"
     ]
    }
   ],
   "source": [
    "a = arr2[0:5,3:4] \n",
    "for i in a:\n",
    "    if i<40:\n",
    "        print(i)"
   ]
  },
  {
   "cell_type": "code",
   "execution_count": 488,
   "id": "e920332b-0575-4eb4-85c3-22714c640366",
   "metadata": {},
   "outputs": [
    {
     "data": {
      "text/plain": [
       "array([[40, 41, 42, 43, 44, 45, 46, 47, 48, 49]])"
      ]
     },
     "execution_count": 488,
     "metadata": {},
     "output_type": "execute_result"
    }
   ],
   "source": [
    "arr2[4:5,0:10]"
   ]
  },
  {
   "cell_type": "code",
   "execution_count": 174,
   "id": "1ac4fdd5-0a73-4be5-bd2e-e039db9c9a84",
   "metadata": {},
   "outputs": [
    {
     "name": "stdout",
     "output_type": "stream",
     "text": [
      "[[10 20 30 40]]\n",
      "[[20 30 40]\n",
      " [60 70 80]]\n",
      "[[20]\n",
      " [60]]\n",
      "40 80\n"
     ]
    }
   ],
   "source": [
    "import random\n",
    "arr = np.array([[10,20,30,40],[50,60,70,80]])\n",
    "print(arr[0:1])\n",
    "print(arr[0:3,1:4])\n",
    "print(arr[0:2,1:2])\n",
    "print(arr[0][3],arr[1][3])"
   ]
  },
  {
   "cell_type": "code",
   "execution_count": 268,
   "id": "98231d86-1d09-42d2-99e6-19629d3707d4",
   "metadata": {},
   "outputs": [
    {
     "name": "stdout",
     "output_type": "stream",
     "text": [
      "(2, 4)\n",
      "8\n",
      "2\n",
      "[ True  True]\n",
      "[0 0 0 0]\n",
      "[[0 1 2 3]\n",
      " [0 1 2 3]]\n",
      "int64\n"
     ]
    }
   ],
   "source": [
    "arr = np.array([[10,20,30,40],[50,60,70,80]])\n",
    "print(arr.shape)\n",
    "print(arr.size)\n",
    "print(arr.ndim)\n",
    "print(arr.any(1))\n",
    "print(arr.argmin(0))\n",
    "print(arr.argsort(1))\n",
    "print(arr.dtype)"
   ]
  },
  {
   "cell_type": "code",
   "execution_count": 520,
   "id": "9ffdd544-9062-456e-8bd9-f66608f055f6",
   "metadata": {},
   "outputs": [
    {
     "name": "stdout",
     "output_type": "stream",
     "text": [
      "[[ 0  1  2  3  4]\n",
      " [ 5  6  7  8  9]\n",
      " [10 11 12 13 14]\n",
      " [15 16 17 18 19]]\n",
      "[[ 0  1  2  3  4]\n",
      " [ 5  6  7  8  9]\n",
      " [10 11 12 13 14]\n",
      " [15 16 17 18 19]]\n"
     ]
    },
    {
     "data": {
      "text/plain": [
       "(None, None)"
      ]
     },
     "execution_count": 520,
     "metadata": {},
     "output_type": "execute_result"
    }
   ],
   "source": [
    "a = np.arange(20).reshape(4,5)\n",
    "b = np.arange(20).reshape(4,5)\n",
    "print(a),print(b)"
   ]
  },
  {
   "cell_type": "markdown",
   "id": "b3a6ef01-7186-4ee1-bbda-11049e14467d",
   "metadata": {},
   "source": [
    "# Mathematiacal operation and functions:"
   ]
  },
  {
   "cell_type": "code",
   "execution_count": 535,
   "id": "c2fd2c4f-75e2-4218-a8e6-801c6cea9b0f",
   "metadata": {},
   "outputs": [
    {
     "name": "stdout",
     "output_type": "stream",
     "text": [
      "[[ 0  2  4  6  8]\n",
      " [10 12 14 16 18]\n",
      " [20 22 24 26 28]\n",
      " [30 32 34 36 38]]\n",
      "[[ 0  2  4  6  8]\n",
      " [10 12 14 16 18]\n",
      " [20 22 24 26 28]\n",
      " [30 32 34 36 38]]\n"
     ]
    }
   ],
   "source": [
    "print(a+b)\n",
    "print(np.add(a,b))\n"
   ]
  },
  {
   "cell_type": "code",
   "execution_count": 527,
   "id": "b4f938eb-e082-4780-b5a8-c81f76bf568f",
   "metadata": {},
   "outputs": [
    {
     "name": "stdout",
     "output_type": "stream",
     "text": [
      "[[0 0 0 0 0]\n",
      " [0 0 0 0 0]\n",
      " [0 0 0 0 0]\n",
      " [0 0 0 0 0]]\n",
      "[[0 0 0 0 0]\n",
      " [0 0 0 0 0]\n",
      " [0 0 0 0 0]\n",
      " [0 0 0 0 0]]\n"
     ]
    }
   ],
   "source": [
    "print(a-b)\n",
    "print(np.subtract(a,b))"
   ]
  },
  {
   "cell_type": "code",
   "execution_count": 537,
   "id": "90fba83c-7a49-4423-a84c-a717ebb7f04f",
   "metadata": {},
   "outputs": [
    {
     "name": "stdout",
     "output_type": "stream",
     "text": [
      "[[  0   1   4   9  16]\n",
      " [ 25  36  49  64  81]\n",
      " [100 121 144 169 196]\n",
      " [225 256 289 324 361]]\n",
      "[[  0   1   4   9  16]\n",
      " [ 25  36  49  64  81]\n",
      " [100 121 144 169 196]\n",
      " [225 256 289 324 361]]\n"
     ]
    }
   ],
   "source": [
    "print(a*b)\n",
    "print(np.multiply(a,b))"
   ]
  },
  {
   "cell_type": "code",
   "execution_count": 539,
   "id": "fab85fdf-7ff8-4fb6-a31e-c8f63ac58f54",
   "metadata": {},
   "outputs": [
    {
     "name": "stdout",
     "output_type": "stream",
     "text": [
      "[[nan  1.  1.  1.  1.]\n",
      " [ 1.  1.  1.  1.  1.]\n",
      " [ 1.  1.  1.  1.  1.]\n",
      " [ 1.  1.  1.  1.  1.]]\n",
      "[[nan  1.  1.  1.  1.]\n",
      " [ 1.  1.  1.  1.  1.]\n",
      " [ 1.  1.  1.  1.  1.]\n",
      " [ 1.  1.  1.  1.  1.]]\n"
     ]
    },
    {
     "name": "stderr",
     "output_type": "stream",
     "text": [
      "C:\\Users\\ADMIN\\AppData\\Local\\Temp\\ipykernel_13208\\1114211024.py:1: RuntimeWarning: invalid value encountered in divide\n",
      "  print(a/b)\n",
      "C:\\Users\\ADMIN\\AppData\\Local\\Temp\\ipykernel_13208\\1114211024.py:2: RuntimeWarning: invalid value encountered in divide\n",
      "  print(np.divide(a,b))\n"
     ]
    }
   ],
   "source": [
    "print(a/b)\n",
    "print(np.divide(a,b))"
   ]
  },
  {
   "cell_type": "code",
   "execution_count": 547,
   "id": "bc54fc67-2f81-462f-8e40-e5acbb65a909",
   "metadata": {},
   "outputs": [
    {
     "name": "stdout",
     "output_type": "stream",
     "text": [
      "[[  0   1   4   9  16]\n",
      " [ 25  36  49  64  81]\n",
      " [100 121 144 169 196]\n",
      " [225 256 289 324 361]]\n",
      "[[  0   1   4   9  16]\n",
      " [ 25  36  49  64  81]\n",
      " [100 121 144 169 196]\n",
      " [225 256 289 324 361]]\n"
     ]
    }
   ],
   "source": [
    "print(a**2)\n",
    "print(np.power(a,2))"
   ]
  },
  {
   "cell_type": "code",
   "execution_count": 563,
   "id": "5368bb0a-b1aa-48a5-ba5c-f2800a794dfe",
   "metadata": {},
   "outputs": [
    {
     "name": "stdout",
     "output_type": "stream",
     "text": [
      "[[ 0  1  2  3  4]\n",
      " [ 5  6  7  8  9]\n",
      " [10 11 12 13 14]\n",
      " [15 16 17 18 19]]\n",
      "[[ 0  1  2  3  4]\n",
      " [ 5  6  7  8  9]\n",
      " [10 11 12 13 14]\n",
      " [15 16 17 18 19]]\n"
     ]
    }
   ],
   "source": [
    "print(a%20)\n",
    "print(np.mod(a,20))"
   ]
  },
  {
   "cell_type": "markdown",
   "id": "eddd514e-046b-4597-8bd2-8db2eec48903",
   "metadata": {},
   "source": [
    "# join and split:"
   ]
  },
  {
   "cell_type": "code",
   "execution_count": 566,
   "id": "fca4c7f5-f429-4019-aeda-729c967fa3e8",
   "metadata": {},
   "outputs": [],
   "source": [
    "#concatinate :\n",
    "\n",
    "a = np.arange(10)\n",
    "b = np.arange(10)"
   ]
  },
  {
   "cell_type": "code",
   "execution_count": 570,
   "id": "4819bfb3-d92e-41f8-8650-269a5b173df1",
   "metadata": {},
   "outputs": [
    {
     "name": "stdout",
     "output_type": "stream",
     "text": [
      "[0 1 2 3 4 5 6 7 8 9 0 1 2 3 4 5 6 7 8 9]\n"
     ]
    }
   ],
   "source": [
    "print(np.concatenate([a,b]))"
   ]
  },
  {
   "cell_type": "code",
   "execution_count": 572,
   "id": "479c7d5e-7117-4ac6-a257-453bee4b91ba",
   "metadata": {},
   "outputs": [],
   "source": [
    "import numpy as np"
   ]
  },
  {
   "cell_type": "code",
   "execution_count": 586,
   "id": "98e0e12a-b5c7-4305-88d5-dea376a86b03",
   "metadata": {},
   "outputs": [
    {
     "name": "stdout",
     "output_type": "stream",
     "text": [
      "[10 20 30 40 50 60 70 80]\n",
      "[10 20 30 40 50 60 70 80]\n"
     ]
    }
   ],
   "source": [
    "a = np.array([10,20,30,40])\n",
    "b = np.array([50,60,70,80])\n",
    "\n",
    "print(np.concatenate([a,b]))\n",
    "\n",
    "#Axis ==== 0,1\n",
    "print(np.concatenate([a,b],axis=0)) #--------> axis=0 means verticle.\n",
    "#print(np.concatenate([a,b],axis=1))  #--------> axis=1 not working on one dimension.\n"
   ]
  },
  {
   "cell_type": "code",
   "execution_count": 594,
   "id": "66db731b-4839-4515-a953-66b82c8fbac8",
   "metadata": {},
   "outputs": [
    {
     "name": "stdout",
     "output_type": "stream",
     "text": [
      "[[10 20 30 40]\n",
      " [50 60 70 80]\n",
      " [ 1  2  3  4]\n",
      " [ 5  6  7  8]]\n",
      "[[10 20 30 40  1  2  3  4]\n",
      " [50 60 70 80  5  6  7  8]]\n"
     ]
    }
   ],
   "source": [
    "a = np.array([[10,20,30,40],[50,60,70,80]])\n",
    "b = np.array([[1,2,3,4],[5,6,7,8]])\n",
    "\n",
    "print(np.concatenate([a,b],axis=0))\n",
    "print(np.concatenate([a,b],axis=1))"
   ]
  },
  {
   "cell_type": "code",
   "execution_count": 598,
   "id": "99e1f9dc-c47c-4822-a089-08f93b6a2bbc",
   "metadata": {},
   "outputs": [
    {
     "name": "stdout",
     "output_type": "stream",
     "text": [
      "[[10 20 30 40  1  2  3  4]\n",
      " [50 60 70 80  5  6  7  8]]\n"
     ]
    }
   ],
   "source": [
    "print(np.hstack([a,b]))  #working as horizontal axis = 1"
   ]
  },
  {
   "cell_type": "code",
   "execution_count": 602,
   "id": "37dab0f6-4218-4cbe-8a99-5e377c589d96",
   "metadata": {},
   "outputs": [
    {
     "name": "stdout",
     "output_type": "stream",
     "text": [
      "[[10 20 30 40]\n",
      " [50 60 70 80]\n",
      " [ 1  2  3  4]\n",
      " [ 5  6  7  8]]\n"
     ]
    }
   ],
   "source": [
    "print(np.vstack([a,b])) #Working as verticle axis = 0"
   ]
  },
  {
   "cell_type": "markdown",
   "id": "995b7cd9-5be2-4e26-9e38-be75940e942f",
   "metadata": {},
   "source": [
    "# Split Array:"
   ]
  },
  {
   "cell_type": "code",
   "execution_count": 635,
   "id": "2c535474-a149-4cd6-8437-5ced47c4328c",
   "metadata": {},
   "outputs": [
    {
     "data": {
      "text/plain": [
       "array([[ 10,  20,  30,  40,  50,  60],\n",
       "       [ 70,  80,  90, 100, 110, 120]])"
      ]
     },
     "execution_count": 635,
     "metadata": {},
     "output_type": "execute_result"
    }
   ],
   "source": [
    "import random\n",
    "arr = np.array([[10,20,30,40,50,60],[70,80,90,100,110,120]])\n",
    "arr"
   ]
  },
  {
   "cell_type": "code",
   "execution_count": 643,
   "id": "13a68d7d-adb7-4cd0-b634-7c5f923efb86",
   "metadata": {},
   "outputs": [
    {
     "name": "stdout",
     "output_type": "stream",
     "text": [
      "[array([[10, 20, 30, 40, 50, 60]]), array([[ 70,  80,  90, 100, 110, 120]])]\n"
     ]
    }
   ],
   "source": [
    "print(np.split(arr,2))"
   ]
  },
  {
   "cell_type": "code",
   "execution_count": 681,
   "id": "ef091f68-0574-46be-9d9a-17ba0f3c9ec8",
   "metadata": {},
   "outputs": [
    {
     "data": {
      "text/plain": [
       "[array([[10, 20, 30, 40, 50, 60]]),\n",
       " array([[ 70,  80,  90, 100, 110, 120]]),\n",
       " array([], shape=(0, 6), dtype=int64)]"
      ]
     },
     "execution_count": 681,
     "metadata": {},
     "output_type": "execute_result"
    }
   ],
   "source": [
    "b = np.array_split(arr,3)\n",
    "b"
   ]
  },
  {
   "cell_type": "markdown",
   "id": "f5427912-9fd4-4474-b826-aefb8572ad99",
   "metadata": {},
   "source": [
    "# Append , Removing , inserting : "
   ]
  },
  {
   "cell_type": "code",
   "execution_count": 701,
   "id": "c4212c1f-071c-4ca6-b36d-41dd2ea54896",
   "metadata": {},
   "outputs": [
    {
     "name": "stdout",
     "output_type": "stream",
     "text": [
      "[10 20 30 40 50 60 70 80 90]\n"
     ]
    }
   ],
   "source": [
    "#Adding :\n",
    "a = [10,20,30,40,50,60]\n",
    "b = np.append(a,[70,80,90])\n",
    "print(b)"
   ]
  },
  {
   "cell_type": "code",
   "execution_count": 719,
   "id": "b6cb8782-a90d-4ce0-ad00-3b4f0a3ff9be",
   "metadata": {},
   "outputs": [
    {
     "name": "stdout",
     "output_type": "stream",
     "text": [
      "[ 10  20  30  40  50  60  70  80  90 100 110 120  10  20  30]\n",
      "[[ 10  20  30  40  50]\n",
      " [ 60  70  80  90 100]\n",
      " [110 120  10  20  30]]\n"
     ]
    }
   ],
   "source": [
    "# This Wil Convert The Array Into one dimension the append the value into it\n",
    "arr = np.array([[10,20,30,40,50,60],[70,80,90,100,110,120]])  \n",
    "b = np.append(arr,[10,20,30])\n",
    "print(b)\n",
    "print(b.reshape(3,5))"
   ]
  },
  {
   "cell_type": "code",
   "execution_count": 757,
   "id": "6f43d949-fc00-4579-9f00-689deda267ba",
   "metadata": {},
   "outputs": [
    {
     "name": "stdout",
     "output_type": "stream",
     "text": [
      "[100 200 300  10  20  30  40  50  60]\n"
     ]
    }
   ],
   "source": [
    "# Inserting :\n",
    "a = [10,20,30,40,50,60]\n",
    "\n",
    "b = np.insert(a,[0],[100,200,300])\n",
    "print(b)\n"
   ]
  },
  {
   "cell_type": "code",
   "execution_count": 825,
   "id": "213180f3-c011-47b0-b645-6b6c7b84ea9e",
   "metadata": {},
   "outputs": [
    {
     "name": "stdout",
     "output_type": "stream",
     "text": [
      "[[ 10  20  30  40  50  60]\n",
      " [200 200 200 200 200 200]\n",
      " [ 70  80  90 100 110 120]]\n",
      "[[200  10  20  30  40  50  60]\n",
      " [200  70  80  90 100 110 120]]\n"
     ]
    }
   ],
   "source": [
    "arr = np.array([[10,20,30,40,50,60],[70,80,90,100,110,120]])  \n",
    "b = np.insert(arr,[1],[200],axis=0)\n",
    "c = np.insert(arr,[0],[200],axis=1)\n",
    "print(b)\n",
    "print(c)"
   ]
  },
  {
   "cell_type": "code",
   "execution_count": 873,
   "id": "cce18fd5-2133-4ecd-a100-b118b651c463",
   "metadata": {},
   "outputs": [
    {
     "name": "stdout",
     "output_type": "stream",
     "text": [
      "[ 10  20  40  50  60  70  80  90 100 110 120]\n",
      "[[ 70  80  90 100 110 120]]\n",
      "[[ 10  30  40  60]\n",
      " [ 70  90 100 120]]\n"
     ]
    }
   ],
   "source": [
    "# Delete:\n",
    "arr = np.array([[10,20,30,40,50,60],[70,80,90,100,110,120]])  \n",
    "a = np.delete(arr,2)\n",
    "b = np.delete(arr,[0],axis=0) \n",
    "c = np.delete(arr,[1,4],axis=1)\n",
    "print(a)\n",
    "print(b)\n",
    "print(c)"
   ]
  },
  {
   "cell_type": "markdown",
   "id": "f9df11fb-3061-4a46-94b0-4fec8ded7351",
   "metadata": {},
   "source": [
    "# Sort,search,filter ;"
   ]
  },
  {
   "cell_type": "code",
   "execution_count": 890,
   "id": "33caac1b-e92a-44c9-8966-2e00ef89f3ec",
   "metadata": {},
   "outputs": [
    {
     "name": "stdout",
     "output_type": "stream",
     "text": [
      "[ 60  50  40 300  20  10]\n",
      "[ 10  20  40  50  60 300]\n"
     ]
    }
   ],
   "source": [
    "# Search :\n",
    "a = np.array([60,50,40,300,20,10])\n",
    "print(a)\n",
    "print(np.sort(a))"
   ]
  },
  {
   "cell_type": "code",
   "execution_count": 892,
   "id": "1d5f2ea9-d65b-427b-bdeb-e83689f62514",
   "metadata": {},
   "outputs": [
    {
     "name": "stdout",
     "output_type": "stream",
     "text": [
      "[[100 200  30 400  50  60]\n",
      " [ 70 800 900 100 110 120]]\n",
      "[[ 30  50  60 100 200 400]\n",
      " [ 70 100 110 120 800 900]]\n"
     ]
    }
   ],
   "source": [
    "arr = np.array([[100,200,30,400,50,60],[70,800,900,100,110,120]])  \n",
    "print(arr)\n",
    "print(np.sort(arr))"
   ]
  },
  {
   "cell_type": "code",
   "execution_count": 924,
   "id": "d18873fd-4a8c-4b30-8512-d727ea076686",
   "metadata": {},
   "outputs": [
    {
     "name": "stdout",
     "output_type": "stream",
     "text": [
      "(array([4]),)\n"
     ]
    }
   ],
   "source": [
    "#Search :\n",
    "a = np.array([60,50,40,300,20,10])\n",
    "c = np.where(a == 20 )\n",
    "print(c)"
   ]
  },
  {
   "cell_type": "code",
   "execution_count": 968,
   "id": "5cb1ff01-1ea9-4bde-be2a-03afcc398b75",
   "metadata": {},
   "outputs": [
    {
     "name": "stdout",
     "output_type": "stream",
     "text": [
      "0\n"
     ]
    }
   ],
   "source": [
    "import numpy as np\n",
    "a = np.array([10,20,30,40,50])\n",
    "b = np.searchsorted(a,10)\n",
    "print(b)"
   ]
  },
  {
   "cell_type": "markdown",
   "id": "7ae2793d-8ea5-4413-addf-0ac92061d78c",
   "metadata": {},
   "source": [
    "# Filtering:"
   ]
  },
  {
   "cell_type": "code",
   "execution_count": 971,
   "id": "bc35023c-77f6-4b41-a274-3a3f96c2f20a",
   "metadata": {},
   "outputs": [
    {
     "name": "stdout",
     "output_type": "stream",
     "text": [
      "[20 30 50]\n"
     ]
    }
   ],
   "source": [
    "a = np.array([10,20,30,40,50,60])\n",
    "b = [False,True,True,False,True,False]\n",
    "new = a[b]\n",
    "print(new)"
   ]
  },
  {
   "cell_type": "code",
   "execution_count": 983,
   "id": "437d96d8-bc27-4941-85f3-d2d478cb70d0",
   "metadata": {},
   "outputs": [
    {
     "name": "stdout",
     "output_type": "stream",
     "text": [
      "[10 20 30 40 50]\n",
      "[ True  True  True  True  True False]\n"
     ]
    }
   ],
   "source": [
    "a = np.array([10,20,30,40,50,51])\n",
    "b = a%2==0\n",
    "print(a[b])\n",
    "print(b)"
   ]
  },
  {
   "cell_type": "code",
   "execution_count": 987,
   "id": "7e8e9f6b-80d7-4c72-8b0c-121629711af3",
   "metadata": {},
   "outputs": [
    {
     "name": "stdout",
     "output_type": "stream",
     "text": [
      "[False False  True  True  True  True]\n",
      "[30 40 50 60]\n"
     ]
    }
   ],
   "source": [
    "a = np.array([10,20,30,40,50,60])\n",
    "b = a>20\n",
    "print(b)\n",
    "print(a[b])"
   ]
  },
  {
   "cell_type": "markdown",
   "id": "aa1cc64c-b9a3-4027-b2d6-10d6d8cb5975",
   "metadata": {},
   "source": [
    "# Aggregation Function:"
   ]
  },
  {
   "cell_type": "code",
   "execution_count": 1003,
   "id": "8d4909d6-b6c1-40a7-9be6-f784183f57d9",
   "metadata": {},
   "outputs": [
    {
     "name": "stdout",
     "output_type": "stream",
     "text": [
      "0\n",
      "60\n",
      "30.0\n",
      "6\n",
      "7\n",
      "[ 10  30  60 100 150 210 210]\n",
      "[       10       200      6000    240000  12000000 720000000         0]\n"
     ]
    }
   ],
   "source": [
    "a = np.array([10,20,30,40,50,60,0])\n",
    "\n",
    "print(np.min(a))\n",
    "print(np.max(a))\n",
    "print(np.mean(a))\n",
    "print(np.count_nonzero(a))\n",
    "print(np.size(a))\n",
    "print(np.cumsum(a))\n",
    "print(np.cumprod(a))"
   ]
  },
  {
   "cell_type": "code",
   "execution_count": 1020,
   "id": "4a6c84de-a14d-4ce7-bec8-2b8393213255",
   "metadata": {},
   "outputs": [
    {
     "name": "stdout",
     "output_type": "stream",
     "text": [
      "[100 120 130 150 180 200] \n",
      " [10  5 40 20 30 70]\n",
      "[ 1000  1600  6800  9800 15200 29200]\n",
      "29200\n"
     ]
    }
   ],
   "source": [
    "#Example:\n",
    "price = np.array([100,120,130,150,180,200])\n",
    "quantity = np.array([10,5,40,20,30,70])\n",
    "\n",
    "print(price,'\\n',quantity)\n",
    "pro = np.cumprod([price,quantity],axis=0)\n",
    "print(np.cumsum(pro[1]))\n",
    "print(pro[1].sum())"
   ]
  },
  {
   "cell_type": "code",
   "execution_count": null,
   "id": "537afaf9-6e9b-4491-bce0-67f908e31231",
   "metadata": {},
   "outputs": [],
   "source": []
  }
 ],
 "metadata": {
  "kernelspec": {
   "display_name": "Python [conda env:base] *",
   "language": "python",
   "name": "conda-base-py"
  },
  "language_info": {
   "codemirror_mode": {
    "name": "ipython",
    "version": 3
   },
   "file_extension": ".py",
   "mimetype": "text/x-python",
   "name": "python",
   "nbconvert_exporter": "python",
   "pygments_lexer": "ipython3",
   "version": "3.12.7"
  }
 },
 "nbformat": 4,
 "nbformat_minor": 5
}
